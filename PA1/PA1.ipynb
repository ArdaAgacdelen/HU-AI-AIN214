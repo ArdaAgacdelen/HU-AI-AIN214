{
 "cells": [
  {
   "cell_type": "markdown",
   "metadata": {
    "id": "-JsD4n549KSW"
   },
   "source": [
    "# **AIN 214 - PA1 - FALL 2024**"
   ]
  },
  {
   "cell_type": "markdown",
   "metadata": {
    "id": "so7UTKwA8ULy"
   },
   "source": [
    "\n",
    "BELOW MD CELLS CONTAIN THE QUESTIONS YOU ARE ASKED TO IMPLEMENT WITHIN THE CONTEXT OF THIS HW. PLEASE FILL IN THE CELLS FOR THE ANSWERS RIGHT BELOW THE MD CELL OF THE QUESTION. YOU CAN ADD AS MANY CELLS AS YOU WANT, BE IT CODE OR MD, SO LONG AS YOU PROVIDE AN UNDERSTANDABLE AND TRACBLE REPORTING. PLEASE ADD COMMENTS ON YOUR CODES. ALSO, FILL IN MD CELLS WHERE YOU ARE ASKED YO COMMENT ON YOUR RESULTS OR EPXLAIN YOUR REASONING. ALSO, PLEASE DO NO HESITATE TO USE THEM FOR YOUR OWN REPORTING PURPOSES. PLEASE KEEP IN MIND THAT, REPORTING IS A KEY STEP IN DATA SCIENCE.\n",
    "\n",
    "**Deadline: 18.10.2023 (23:59:59)**\n",
    "\n",
    "**Submission:** Submit your Jupyter Notebooks via https://submit.cs.hacettepe.edu.tr/"
   ]
  },
  {
   "cell_type": "markdown",
   "metadata": {
    "id": "l9crUPV39bKP"
   },
   "source": [
    "# **Necessary Imports**"
   ]
  },
  {
   "cell_type": "code",
   "execution_count": 58,
   "metadata": {
    "ExecuteTime": {
     "end_time": "2024-10-16T20:24:35.623939Z",
     "start_time": "2024-10-16T20:24:35.622187Z"
    },
    "id": "bDF8rpnv9kjd"
   },
   "outputs": [],
   "source": [
    "# Import required libraries\n",
    "import pandas as pd\n",
    "import sqlite3"
   ]
  },
  {
   "cell_type": "markdown",
   "metadata": {
    "id": "YzjmuhYk90CY"
   },
   "source": [
    "# **Notes:**\n",
    "\n",
    "* Use pandas dataframe (df) to load the data.\n",
    "\n",
    "* Use numpy or pandas operations for the requested tasks unless otherwise specified.\n",
    "\n",
    "* Use of naive for loops is not considered valid.\n",
    "\n",
    "* For the db operations, use sqlite3 library in Python"
   ]
  },
  {
   "cell_type": "markdown",
   "metadata": {
    "id": "ErBKcN6KBvW8"
   },
   "source": [
    "# **PART- 1**\n",
    "\n",
    "**Set of Questions on World Happiness Report Dataset (40 Pts)**\n",
    "\n",
    "**Dataset Path: \"Data/WorldHappinessReport.csv\"**"
   ]
  },
  {
   "cell_type": "markdown",
   "metadata": {
    "id": "GWggnrTxCQJD"
   },
   "source": [
    "# Q1. Basic Data Exploration **(10 Pts)**\n",
    "\n",
    "1. Load the data into Pandas DataFrame and print the column names. **(1 pts)**\n",
    "2. Display the first and last 10 rows of the dataset. **(1 pts)**\n",
    "3. Display random 10 rows. **(1 pts)**\n",
    "4. Display random 10 rows with a seed, ie, it outputs the same random rows everytime it is run. **(1 pts)**\n",
    "5. Display every 10th row. **(1 pts)**\n",
    "6. Get the summary stats of the dataset regarding each column. **(2 pts)**\n",
    "7. Identify and count the number of missing values in each column. **(3 pts)**"
   ]
  },
  {
   "cell_type": "code",
   "execution_count": 59,
   "metadata": {
    "ExecuteTime": {
     "end_time": "2024-10-16T20:24:35.833108Z",
     "start_time": "2024-10-16T20:24:35.829708Z"
    },
    "id": "_NzJ6GYkD1aY"
   },
   "outputs": [],
   "source": [
    "#1 Load the data into Pandas DataFrame and print the column names\n",
    "dataframe = pd.read_csv(\"Data/WorldHappinessReport.csv\")  #Loads csv file into the variable as a dataframe"
   ]
  },
  {
   "cell_type": "code",
   "execution_count": 60,
   "metadata": {
    "ExecuteTime": {
     "end_time": "2024-10-16T20:24:35.843617Z",
     "start_time": "2024-10-16T20:24:35.841137Z"
    },
    "collapsed": false
   },
   "outputs": [
    {
     "data": {
      "text/plain": [
       "Index(['Overall rank', 'Country or region', 'Score', 'GDP per capita',\n",
       "       'Social support', 'Healthy life expectancy',\n",
       "       'Freedom to make life choices', 'Generosity',\n",
       "       'Perceptions of corruption'],\n",
       "      dtype='object')"
      ]
     },
     "execution_count": 60,
     "metadata": {},
     "output_type": "execute_result"
    }
   ],
   "source": [
    "#1\n",
    "dataframe.columns  #Prints the column names of dataframe"
   ]
  },
  {
   "cell_type": "code",
   "execution_count": 61,
   "metadata": {
    "ExecuteTime": {
     "end_time": "2024-10-16T20:24:35.850629Z",
     "start_time": "2024-10-16T20:24:35.844874Z"
    },
    "id": "Z-m2CigRD26Z"
   },
   "outputs": [
    {
     "data": {
      "text/html": [
       "<div>\n",
       "<style scoped>\n",
       "    .dataframe tbody tr th:only-of-type {\n",
       "        vertical-align: middle;\n",
       "    }\n",
       "\n",
       "    .dataframe tbody tr th {\n",
       "        vertical-align: top;\n",
       "    }\n",
       "\n",
       "    .dataframe thead th {\n",
       "        text-align: right;\n",
       "    }\n",
       "</style>\n",
       "<table border=\"1\" class=\"dataframe\">\n",
       "  <thead>\n",
       "    <tr style=\"text-align: right;\">\n",
       "      <th></th>\n",
       "      <th>Overall rank</th>\n",
       "      <th>Country or region</th>\n",
       "      <th>Score</th>\n",
       "      <th>GDP per capita</th>\n",
       "      <th>Social support</th>\n",
       "      <th>Healthy life expectancy</th>\n",
       "      <th>Freedom to make life choices</th>\n",
       "      <th>Generosity</th>\n",
       "      <th>Perceptions of corruption</th>\n",
       "    </tr>\n",
       "  </thead>\n",
       "  <tbody>\n",
       "    <tr>\n",
       "      <th>0</th>\n",
       "      <td>1</td>\n",
       "      <td>Finland</td>\n",
       "      <td>7.632</td>\n",
       "      <td>1.305</td>\n",
       "      <td>1.592</td>\n",
       "      <td>0.874</td>\n",
       "      <td>0.681</td>\n",
       "      <td>0.202</td>\n",
       "      <td>0.393</td>\n",
       "    </tr>\n",
       "    <tr>\n",
       "      <th>1</th>\n",
       "      <td>2</td>\n",
       "      <td>Norway</td>\n",
       "      <td>7.594</td>\n",
       "      <td>1.456</td>\n",
       "      <td>1.582</td>\n",
       "      <td>0.861</td>\n",
       "      <td>0.686</td>\n",
       "      <td>0.286</td>\n",
       "      <td>0.340</td>\n",
       "    </tr>\n",
       "    <tr>\n",
       "      <th>2</th>\n",
       "      <td>3</td>\n",
       "      <td>Denmark</td>\n",
       "      <td>7.555</td>\n",
       "      <td>1.351</td>\n",
       "      <td>1.590</td>\n",
       "      <td>0.868</td>\n",
       "      <td>0.683</td>\n",
       "      <td>0.284</td>\n",
       "      <td>0.408</td>\n",
       "    </tr>\n",
       "    <tr>\n",
       "      <th>3</th>\n",
       "      <td>4</td>\n",
       "      <td>Iceland</td>\n",
       "      <td>7.495</td>\n",
       "      <td>1.343</td>\n",
       "      <td>1.644</td>\n",
       "      <td>0.914</td>\n",
       "      <td>0.677</td>\n",
       "      <td>0.353</td>\n",
       "      <td>0.138</td>\n",
       "    </tr>\n",
       "    <tr>\n",
       "      <th>4</th>\n",
       "      <td>5</td>\n",
       "      <td>Switzerland</td>\n",
       "      <td>7.487</td>\n",
       "      <td>1.420</td>\n",
       "      <td>1.549</td>\n",
       "      <td>0.927</td>\n",
       "      <td>0.660</td>\n",
       "      <td>0.256</td>\n",
       "      <td>0.357</td>\n",
       "    </tr>\n",
       "    <tr>\n",
       "      <th>5</th>\n",
       "      <td>6</td>\n",
       "      <td>Netherlands</td>\n",
       "      <td>7.441</td>\n",
       "      <td>1.361</td>\n",
       "      <td>1.488</td>\n",
       "      <td>0.878</td>\n",
       "      <td>0.638</td>\n",
       "      <td>0.333</td>\n",
       "      <td>0.295</td>\n",
       "    </tr>\n",
       "    <tr>\n",
       "      <th>6</th>\n",
       "      <td>7</td>\n",
       "      <td>Canada</td>\n",
       "      <td>7.328</td>\n",
       "      <td>1.330</td>\n",
       "      <td>1.532</td>\n",
       "      <td>0.896</td>\n",
       "      <td>0.653</td>\n",
       "      <td>0.321</td>\n",
       "      <td>0.291</td>\n",
       "    </tr>\n",
       "    <tr>\n",
       "      <th>7</th>\n",
       "      <td>8</td>\n",
       "      <td>New Zealand</td>\n",
       "      <td>7.324</td>\n",
       "      <td>1.268</td>\n",
       "      <td>1.601</td>\n",
       "      <td>0.876</td>\n",
       "      <td>0.669</td>\n",
       "      <td>0.365</td>\n",
       "      <td>0.389</td>\n",
       "    </tr>\n",
       "    <tr>\n",
       "      <th>8</th>\n",
       "      <td>9</td>\n",
       "      <td>Sweden</td>\n",
       "      <td>7.314</td>\n",
       "      <td>1.355</td>\n",
       "      <td>1.501</td>\n",
       "      <td>0.913</td>\n",
       "      <td>0.659</td>\n",
       "      <td>0.285</td>\n",
       "      <td>0.383</td>\n",
       "    </tr>\n",
       "    <tr>\n",
       "      <th>9</th>\n",
       "      <td>10</td>\n",
       "      <td>Australia</td>\n",
       "      <td>7.272</td>\n",
       "      <td>1.340</td>\n",
       "      <td>1.573</td>\n",
       "      <td>0.910</td>\n",
       "      <td>0.647</td>\n",
       "      <td>0.361</td>\n",
       "      <td>0.302</td>\n",
       "    </tr>\n",
       "  </tbody>\n",
       "</table>\n",
       "</div>"
      ],
      "text/plain": [
       "   Overall rank Country or region  Score  GDP per capita  Social support  \\\n",
       "0             1           Finland  7.632           1.305           1.592   \n",
       "1             2            Norway  7.594           1.456           1.582   \n",
       "2             3           Denmark  7.555           1.351           1.590   \n",
       "3             4           Iceland  7.495           1.343           1.644   \n",
       "4             5       Switzerland  7.487           1.420           1.549   \n",
       "5             6       Netherlands  7.441           1.361           1.488   \n",
       "6             7            Canada  7.328           1.330           1.532   \n",
       "7             8       New Zealand  7.324           1.268           1.601   \n",
       "8             9            Sweden  7.314           1.355           1.501   \n",
       "9            10         Australia  7.272           1.340           1.573   \n",
       "\n",
       "   Healthy life expectancy  Freedom to make life choices  Generosity  \\\n",
       "0                    0.874                         0.681       0.202   \n",
       "1                    0.861                         0.686       0.286   \n",
       "2                    0.868                         0.683       0.284   \n",
       "3                    0.914                         0.677       0.353   \n",
       "4                    0.927                         0.660       0.256   \n",
       "5                    0.878                         0.638       0.333   \n",
       "6                    0.896                         0.653       0.321   \n",
       "7                    0.876                         0.669       0.365   \n",
       "8                    0.913                         0.659       0.285   \n",
       "9                    0.910                         0.647       0.361   \n",
       "\n",
       "   Perceptions of corruption  \n",
       "0                      0.393  \n",
       "1                      0.340  \n",
       "2                      0.408  \n",
       "3                      0.138  \n",
       "4                      0.357  \n",
       "5                      0.295  \n",
       "6                      0.291  \n",
       "7                      0.389  \n",
       "8                      0.383  \n",
       "9                      0.302  "
      ]
     },
     "execution_count": 61,
     "metadata": {},
     "output_type": "execute_result"
    }
   ],
   "source": [
    "#2 Display the first and last 10 rows of the dataset.\n",
    "dataframe.head(10)  #First 10 rows"
   ]
  },
  {
   "cell_type": "code",
   "execution_count": 62,
   "metadata": {
    "ExecuteTime": {
     "end_time": "2024-10-16T20:24:35.857198Z",
     "start_time": "2024-10-16T20:24:35.852638Z"
    },
    "collapsed": false
   },
   "outputs": [
    {
     "data": {
      "text/html": [
       "<div>\n",
       "<style scoped>\n",
       "    .dataframe tbody tr th:only-of-type {\n",
       "        vertical-align: middle;\n",
       "    }\n",
       "\n",
       "    .dataframe tbody tr th {\n",
       "        vertical-align: top;\n",
       "    }\n",
       "\n",
       "    .dataframe thead th {\n",
       "        text-align: right;\n",
       "    }\n",
       "</style>\n",
       "<table border=\"1\" class=\"dataframe\">\n",
       "  <thead>\n",
       "    <tr style=\"text-align: right;\">\n",
       "      <th></th>\n",
       "      <th>Overall rank</th>\n",
       "      <th>Country or region</th>\n",
       "      <th>Score</th>\n",
       "      <th>GDP per capita</th>\n",
       "      <th>Social support</th>\n",
       "      <th>Healthy life expectancy</th>\n",
       "      <th>Freedom to make life choices</th>\n",
       "      <th>Generosity</th>\n",
       "      <th>Perceptions of corruption</th>\n",
       "    </tr>\n",
       "  </thead>\n",
       "  <tbody>\n",
       "    <tr>\n",
       "      <th>146</th>\n",
       "      <td>147</td>\n",
       "      <td>Malawi</td>\n",
       "      <td>3.587</td>\n",
       "      <td>0.186</td>\n",
       "      <td>0.541</td>\n",
       "      <td>0.306</td>\n",
       "      <td>0.531</td>\n",
       "      <td>0.210</td>\n",
       "      <td>0.080</td>\n",
       "    </tr>\n",
       "    <tr>\n",
       "      <th>147</th>\n",
       "      <td>148</td>\n",
       "      <td>Haiti</td>\n",
       "      <td>3.582</td>\n",
       "      <td>0.315</td>\n",
       "      <td>0.714</td>\n",
       "      <td>0.289</td>\n",
       "      <td>0.025</td>\n",
       "      <td>0.392</td>\n",
       "      <td>0.104</td>\n",
       "    </tr>\n",
       "    <tr>\n",
       "      <th>148</th>\n",
       "      <td>149</td>\n",
       "      <td>Liberia</td>\n",
       "      <td>3.495</td>\n",
       "      <td>0.076</td>\n",
       "      <td>0.858</td>\n",
       "      <td>0.267</td>\n",
       "      <td>0.419</td>\n",
       "      <td>0.206</td>\n",
       "      <td>0.030</td>\n",
       "    </tr>\n",
       "    <tr>\n",
       "      <th>149</th>\n",
       "      <td>150</td>\n",
       "      <td>Syria</td>\n",
       "      <td>3.462</td>\n",
       "      <td>0.689</td>\n",
       "      <td>0.382</td>\n",
       "      <td>0.539</td>\n",
       "      <td>0.088</td>\n",
       "      <td>0.376</td>\n",
       "      <td>0.144</td>\n",
       "    </tr>\n",
       "    <tr>\n",
       "      <th>150</th>\n",
       "      <td>151</td>\n",
       "      <td>Rwanda</td>\n",
       "      <td>3.408</td>\n",
       "      <td>0.332</td>\n",
       "      <td>0.896</td>\n",
       "      <td>0.400</td>\n",
       "      <td>0.636</td>\n",
       "      <td>0.200</td>\n",
       "      <td>0.444</td>\n",
       "    </tr>\n",
       "    <tr>\n",
       "      <th>151</th>\n",
       "      <td>152</td>\n",
       "      <td>Yemen</td>\n",
       "      <td>3.355</td>\n",
       "      <td>0.442</td>\n",
       "      <td>1.073</td>\n",
       "      <td>0.343</td>\n",
       "      <td>0.244</td>\n",
       "      <td>0.083</td>\n",
       "      <td>0.064</td>\n",
       "    </tr>\n",
       "    <tr>\n",
       "      <th>152</th>\n",
       "      <td>153</td>\n",
       "      <td>Tanzania</td>\n",
       "      <td>3.303</td>\n",
       "      <td>0.455</td>\n",
       "      <td>0.991</td>\n",
       "      <td>0.381</td>\n",
       "      <td>0.481</td>\n",
       "      <td>0.270</td>\n",
       "      <td>0.097</td>\n",
       "    </tr>\n",
       "    <tr>\n",
       "      <th>153</th>\n",
       "      <td>154</td>\n",
       "      <td>South Sudan</td>\n",
       "      <td>3.254</td>\n",
       "      <td>0.337</td>\n",
       "      <td>0.608</td>\n",
       "      <td>0.177</td>\n",
       "      <td>0.112</td>\n",
       "      <td>0.224</td>\n",
       "      <td>0.106</td>\n",
       "    </tr>\n",
       "    <tr>\n",
       "      <th>154</th>\n",
       "      <td>155</td>\n",
       "      <td>Central African Republic</td>\n",
       "      <td>3.083</td>\n",
       "      <td>0.024</td>\n",
       "      <td>0.000</td>\n",
       "      <td>0.010</td>\n",
       "      <td>0.305</td>\n",
       "      <td>0.218</td>\n",
       "      <td>0.038</td>\n",
       "    </tr>\n",
       "    <tr>\n",
       "      <th>155</th>\n",
       "      <td>156</td>\n",
       "      <td>Burundi</td>\n",
       "      <td>2.905</td>\n",
       "      <td>0.091</td>\n",
       "      <td>0.627</td>\n",
       "      <td>0.145</td>\n",
       "      <td>0.065</td>\n",
       "      <td>0.149</td>\n",
       "      <td>0.076</td>\n",
       "    </tr>\n",
       "  </tbody>\n",
       "</table>\n",
       "</div>"
      ],
      "text/plain": [
       "     Overall rank         Country or region  Score  GDP per capita  \\\n",
       "146           147                    Malawi  3.587           0.186   \n",
       "147           148                     Haiti  3.582           0.315   \n",
       "148           149                   Liberia  3.495           0.076   \n",
       "149           150                     Syria  3.462           0.689   \n",
       "150           151                    Rwanda  3.408           0.332   \n",
       "151           152                     Yemen  3.355           0.442   \n",
       "152           153                  Tanzania  3.303           0.455   \n",
       "153           154               South Sudan  3.254           0.337   \n",
       "154           155  Central African Republic  3.083           0.024   \n",
       "155           156                   Burundi  2.905           0.091   \n",
       "\n",
       "     Social support  Healthy life expectancy  Freedom to make life choices  \\\n",
       "146           0.541                    0.306                         0.531   \n",
       "147           0.714                    0.289                         0.025   \n",
       "148           0.858                    0.267                         0.419   \n",
       "149           0.382                    0.539                         0.088   \n",
       "150           0.896                    0.400                         0.636   \n",
       "151           1.073                    0.343                         0.244   \n",
       "152           0.991                    0.381                         0.481   \n",
       "153           0.608                    0.177                         0.112   \n",
       "154           0.000                    0.010                         0.305   \n",
       "155           0.627                    0.145                         0.065   \n",
       "\n",
       "     Generosity  Perceptions of corruption  \n",
       "146       0.210                      0.080  \n",
       "147       0.392                      0.104  \n",
       "148       0.206                      0.030  \n",
       "149       0.376                      0.144  \n",
       "150       0.200                      0.444  \n",
       "151       0.083                      0.064  \n",
       "152       0.270                      0.097  \n",
       "153       0.224                      0.106  \n",
       "154       0.218                      0.038  \n",
       "155       0.149                      0.076  "
      ]
     },
     "execution_count": 62,
     "metadata": {},
     "output_type": "execute_result"
    }
   ],
   "source": [
    "dataframe.tail(10)  #Last 10 rows"
   ]
  },
  {
   "cell_type": "code",
   "execution_count": 63,
   "metadata": {
    "ExecuteTime": {
     "end_time": "2024-10-16T20:24:35.879231Z",
     "start_time": "2024-10-16T20:24:35.874318Z"
    },
    "id": "XmyRJcvED4P2"
   },
   "outputs": [
    {
     "data": {
      "text/html": [
       "<div>\n",
       "<style scoped>\n",
       "    .dataframe tbody tr th:only-of-type {\n",
       "        vertical-align: middle;\n",
       "    }\n",
       "\n",
       "    .dataframe tbody tr th {\n",
       "        vertical-align: top;\n",
       "    }\n",
       "\n",
       "    .dataframe thead th {\n",
       "        text-align: right;\n",
       "    }\n",
       "</style>\n",
       "<table border=\"1\" class=\"dataframe\">\n",
       "  <thead>\n",
       "    <tr style=\"text-align: right;\">\n",
       "      <th></th>\n",
       "      <th>Overall rank</th>\n",
       "      <th>Country or region</th>\n",
       "      <th>Score</th>\n",
       "      <th>GDP per capita</th>\n",
       "      <th>Social support</th>\n",
       "      <th>Healthy life expectancy</th>\n",
       "      <th>Freedom to make life choices</th>\n",
       "      <th>Generosity</th>\n",
       "      <th>Perceptions of corruption</th>\n",
       "    </tr>\n",
       "  </thead>\n",
       "  <tbody>\n",
       "    <tr>\n",
       "      <th>2</th>\n",
       "      <td>3</td>\n",
       "      <td>Denmark</td>\n",
       "      <td>7.555</td>\n",
       "      <td>1.351</td>\n",
       "      <td>1.590</td>\n",
       "      <td>0.868</td>\n",
       "      <td>0.683</td>\n",
       "      <td>0.284</td>\n",
       "      <td>0.408</td>\n",
       "    </tr>\n",
       "    <tr>\n",
       "      <th>104</th>\n",
       "      <td>105</td>\n",
       "      <td>South Africa</td>\n",
       "      <td>4.724</td>\n",
       "      <td>0.940</td>\n",
       "      <td>1.410</td>\n",
       "      <td>0.330</td>\n",
       "      <td>0.516</td>\n",
       "      <td>0.103</td>\n",
       "      <td>0.056</td>\n",
       "    </tr>\n",
       "    <tr>\n",
       "      <th>56</th>\n",
       "      <td>57</td>\n",
       "      <td>South Korea</td>\n",
       "      <td>5.875</td>\n",
       "      <td>1.266</td>\n",
       "      <td>1.204</td>\n",
       "      <td>0.955</td>\n",
       "      <td>0.244</td>\n",
       "      <td>0.175</td>\n",
       "      <td>0.051</td>\n",
       "    </tr>\n",
       "    <tr>\n",
       "      <th>112</th>\n",
       "      <td>113</td>\n",
       "      <td>Sierra Leone</td>\n",
       "      <td>4.571</td>\n",
       "      <td>0.256</td>\n",
       "      <td>0.813</td>\n",
       "      <td>0.000</td>\n",
       "      <td>0.355</td>\n",
       "      <td>0.238</td>\n",
       "      <td>0.053</td>\n",
       "    </tr>\n",
       "    <tr>\n",
       "      <th>64</th>\n",
       "      <td>65</td>\n",
       "      <td>Peru</td>\n",
       "      <td>5.663</td>\n",
       "      <td>0.934</td>\n",
       "      <td>1.249</td>\n",
       "      <td>0.674</td>\n",
       "      <td>0.530</td>\n",
       "      <td>0.092</td>\n",
       "      <td>0.034</td>\n",
       "    </tr>\n",
       "    <tr>\n",
       "      <th>51</th>\n",
       "      <td>52</td>\n",
       "      <td>Romania</td>\n",
       "      <td>5.945</td>\n",
       "      <td>1.116</td>\n",
       "      <td>1.219</td>\n",
       "      <td>0.726</td>\n",
       "      <td>0.528</td>\n",
       "      <td>0.088</td>\n",
       "      <td>0.001</td>\n",
       "    </tr>\n",
       "    <tr>\n",
       "      <th>115</th>\n",
       "      <td>116</td>\n",
       "      <td>Sri Lanka</td>\n",
       "      <td>4.471</td>\n",
       "      <td>0.918</td>\n",
       "      <td>1.314</td>\n",
       "      <td>0.672</td>\n",
       "      <td>0.585</td>\n",
       "      <td>0.307</td>\n",
       "      <td>0.050</td>\n",
       "    </tr>\n",
       "    <tr>\n",
       "      <th>25</th>\n",
       "      <td>26</td>\n",
       "      <td>Taiwan</td>\n",
       "      <td>6.441</td>\n",
       "      <td>1.365</td>\n",
       "      <td>1.436</td>\n",
       "      <td>0.857</td>\n",
       "      <td>0.418</td>\n",
       "      <td>0.151</td>\n",
       "      <td>0.078</td>\n",
       "    </tr>\n",
       "    <tr>\n",
       "      <th>92</th>\n",
       "      <td>93</td>\n",
       "      <td>Bosnia and Herzegovina</td>\n",
       "      <td>5.129</td>\n",
       "      <td>0.915</td>\n",
       "      <td>1.078</td>\n",
       "      <td>0.758</td>\n",
       "      <td>0.280</td>\n",
       "      <td>0.216</td>\n",
       "      <td>0.000</td>\n",
       "    </tr>\n",
       "    <tr>\n",
       "      <th>109</th>\n",
       "      <td>110</td>\n",
       "      <td>Laos</td>\n",
       "      <td>4.623</td>\n",
       "      <td>0.720</td>\n",
       "      <td>1.034</td>\n",
       "      <td>0.441</td>\n",
       "      <td>0.626</td>\n",
       "      <td>0.230</td>\n",
       "      <td>0.174</td>\n",
       "    </tr>\n",
       "  </tbody>\n",
       "</table>\n",
       "</div>"
      ],
      "text/plain": [
       "     Overall rank       Country or region  Score  GDP per capita  \\\n",
       "2               3                 Denmark  7.555           1.351   \n",
       "104           105            South Africa  4.724           0.940   \n",
       "56             57             South Korea  5.875           1.266   \n",
       "112           113            Sierra Leone  4.571           0.256   \n",
       "64             65                    Peru  5.663           0.934   \n",
       "51             52                 Romania  5.945           1.116   \n",
       "115           116               Sri Lanka  4.471           0.918   \n",
       "25             26                  Taiwan  6.441           1.365   \n",
       "92             93  Bosnia and Herzegovina  5.129           0.915   \n",
       "109           110                    Laos  4.623           0.720   \n",
       "\n",
       "     Social support  Healthy life expectancy  Freedom to make life choices  \\\n",
       "2             1.590                    0.868                         0.683   \n",
       "104           1.410                    0.330                         0.516   \n",
       "56            1.204                    0.955                         0.244   \n",
       "112           0.813                    0.000                         0.355   \n",
       "64            1.249                    0.674                         0.530   \n",
       "51            1.219                    0.726                         0.528   \n",
       "115           1.314                    0.672                         0.585   \n",
       "25            1.436                    0.857                         0.418   \n",
       "92            1.078                    0.758                         0.280   \n",
       "109           1.034                    0.441                         0.626   \n",
       "\n",
       "     Generosity  Perceptions of corruption  \n",
       "2         0.284                      0.408  \n",
       "104       0.103                      0.056  \n",
       "56        0.175                      0.051  \n",
       "112       0.238                      0.053  \n",
       "64        0.092                      0.034  \n",
       "51        0.088                      0.001  \n",
       "115       0.307                      0.050  \n",
       "25        0.151                      0.078  \n",
       "92        0.216                      0.000  \n",
       "109       0.230                      0.174  "
      ]
     },
     "execution_count": 63,
     "metadata": {},
     "output_type": "execute_result"
    }
   ],
   "source": [
    "#3 Display the random 10 rows\n",
    "dataframe.sample(n=10)  #Gets 10 random row each time"
   ]
  },
  {
   "cell_type": "code",
   "execution_count": 64,
   "metadata": {
    "ExecuteTime": {
     "end_time": "2024-10-16T20:24:35.894632Z",
     "start_time": "2024-10-16T20:24:35.889283Z"
    },
    "id": "N9MA5WPBD5zt"
   },
   "outputs": [
    {
     "data": {
      "text/html": [
       "<div>\n",
       "<style scoped>\n",
       "    .dataframe tbody tr th:only-of-type {\n",
       "        vertical-align: middle;\n",
       "    }\n",
       "\n",
       "    .dataframe tbody tr th {\n",
       "        vertical-align: top;\n",
       "    }\n",
       "\n",
       "    .dataframe thead th {\n",
       "        text-align: right;\n",
       "    }\n",
       "</style>\n",
       "<table border=\"1\" class=\"dataframe\">\n",
       "  <thead>\n",
       "    <tr style=\"text-align: right;\">\n",
       "      <th></th>\n",
       "      <th>Overall rank</th>\n",
       "      <th>Country or region</th>\n",
       "      <th>Score</th>\n",
       "      <th>GDP per capita</th>\n",
       "      <th>Social support</th>\n",
       "      <th>Healthy life expectancy</th>\n",
       "      <th>Freedom to make life choices</th>\n",
       "      <th>Generosity</th>\n",
       "      <th>Perceptions of corruption</th>\n",
       "    </tr>\n",
       "  </thead>\n",
       "  <tbody>\n",
       "    <tr>\n",
       "      <th>111</th>\n",
       "      <td>112</td>\n",
       "      <td>Albania</td>\n",
       "      <td>4.586</td>\n",
       "      <td>0.916</td>\n",
       "      <td>0.817</td>\n",
       "      <td>0.790</td>\n",
       "      <td>0.419</td>\n",
       "      <td>0.149</td>\n",
       "      <td>0.032</td>\n",
       "    </tr>\n",
       "    <tr>\n",
       "      <th>50</th>\n",
       "      <td>51</td>\n",
       "      <td>Slovenia</td>\n",
       "      <td>5.948</td>\n",
       "      <td>1.219</td>\n",
       "      <td>1.506</td>\n",
       "      <td>0.856</td>\n",
       "      <td>0.633</td>\n",
       "      <td>0.160</td>\n",
       "      <td>0.051</td>\n",
       "    </tr>\n",
       "    <tr>\n",
       "      <th>108</th>\n",
       "      <td>109</td>\n",
       "      <td>Senegal</td>\n",
       "      <td>4.631</td>\n",
       "      <td>0.429</td>\n",
       "      <td>1.117</td>\n",
       "      <td>0.433</td>\n",
       "      <td>0.406</td>\n",
       "      <td>0.138</td>\n",
       "      <td>0.082</td>\n",
       "    </tr>\n",
       "    <tr>\n",
       "      <th>27</th>\n",
       "      <td>28</td>\n",
       "      <td>Brazil</td>\n",
       "      <td>6.419</td>\n",
       "      <td>0.986</td>\n",
       "      <td>1.474</td>\n",
       "      <td>0.675</td>\n",
       "      <td>0.493</td>\n",
       "      <td>0.110</td>\n",
       "      <td>0.088</td>\n",
       "    </tr>\n",
       "    <tr>\n",
       "      <th>116</th>\n",
       "      <td>117</td>\n",
       "      <td>Iraq</td>\n",
       "      <td>4.456</td>\n",
       "      <td>1.010</td>\n",
       "      <td>0.971</td>\n",
       "      <td>0.536</td>\n",
       "      <td>0.304</td>\n",
       "      <td>0.148</td>\n",
       "      <td>0.095</td>\n",
       "    </tr>\n",
       "    <tr>\n",
       "      <th>83</th>\n",
       "      <td>84</td>\n",
       "      <td>Algeria</td>\n",
       "      <td>5.295</td>\n",
       "      <td>0.979</td>\n",
       "      <td>1.154</td>\n",
       "      <td>0.687</td>\n",
       "      <td>0.077</td>\n",
       "      <td>0.055</td>\n",
       "      <td>0.135</td>\n",
       "    </tr>\n",
       "    <tr>\n",
       "      <th>103</th>\n",
       "      <td>104</td>\n",
       "      <td>Palestinian Territories</td>\n",
       "      <td>4.743</td>\n",
       "      <td>0.642</td>\n",
       "      <td>1.217</td>\n",
       "      <td>0.602</td>\n",
       "      <td>0.266</td>\n",
       "      <td>0.086</td>\n",
       "      <td>0.076</td>\n",
       "    </tr>\n",
       "    <tr>\n",
       "      <th>110</th>\n",
       "      <td>111</td>\n",
       "      <td>Tunisia</td>\n",
       "      <td>4.592</td>\n",
       "      <td>0.900</td>\n",
       "      <td>0.906</td>\n",
       "      <td>0.690</td>\n",
       "      <td>0.271</td>\n",
       "      <td>0.040</td>\n",
       "      <td>0.063</td>\n",
       "    </tr>\n",
       "    <tr>\n",
       "      <th>51</th>\n",
       "      <td>52</td>\n",
       "      <td>Romania</td>\n",
       "      <td>5.945</td>\n",
       "      <td>1.116</td>\n",
       "      <td>1.219</td>\n",
       "      <td>0.726</td>\n",
       "      <td>0.528</td>\n",
       "      <td>0.088</td>\n",
       "      <td>0.001</td>\n",
       "    </tr>\n",
       "    <tr>\n",
       "      <th>39</th>\n",
       "      <td>40</td>\n",
       "      <td>El Salvador</td>\n",
       "      <td>6.167</td>\n",
       "      <td>0.806</td>\n",
       "      <td>1.231</td>\n",
       "      <td>0.639</td>\n",
       "      <td>0.461</td>\n",
       "      <td>0.065</td>\n",
       "      <td>0.082</td>\n",
       "    </tr>\n",
       "  </tbody>\n",
       "</table>\n",
       "</div>"
      ],
      "text/plain": [
       "     Overall rank        Country or region  Score  GDP per capita  \\\n",
       "111           112                  Albania  4.586           0.916   \n",
       "50             51                 Slovenia  5.948           1.219   \n",
       "108           109                  Senegal  4.631           0.429   \n",
       "27             28                   Brazil  6.419           0.986   \n",
       "116           117                     Iraq  4.456           1.010   \n",
       "83             84                  Algeria  5.295           0.979   \n",
       "103           104  Palestinian Territories  4.743           0.642   \n",
       "110           111                  Tunisia  4.592           0.900   \n",
       "51             52                  Romania  5.945           1.116   \n",
       "39             40              El Salvador  6.167           0.806   \n",
       "\n",
       "     Social support  Healthy life expectancy  Freedom to make life choices  \\\n",
       "111           0.817                    0.790                         0.419   \n",
       "50            1.506                    0.856                         0.633   \n",
       "108           1.117                    0.433                         0.406   \n",
       "27            1.474                    0.675                         0.493   \n",
       "116           0.971                    0.536                         0.304   \n",
       "83            1.154                    0.687                         0.077   \n",
       "103           1.217                    0.602                         0.266   \n",
       "110           0.906                    0.690                         0.271   \n",
       "51            1.219                    0.726                         0.528   \n",
       "39            1.231                    0.639                         0.461   \n",
       "\n",
       "     Generosity  Perceptions of corruption  \n",
       "111       0.149                      0.032  \n",
       "50        0.160                      0.051  \n",
       "108       0.138                      0.082  \n",
       "27        0.110                      0.088  \n",
       "116       0.148                      0.095  \n",
       "83        0.055                      0.135  \n",
       "103       0.086                      0.076  \n",
       "110       0.040                      0.063  \n",
       "51        0.088                      0.001  \n",
       "39        0.065                      0.082  "
      ]
     },
     "execution_count": 64,
     "metadata": {},
     "output_type": "execute_result"
    }
   ],
   "source": [
    "#4 sample using seed\n",
    "dataframe.sample(n=10, random_state=2220)  #We gave a seed for the random operations, it will always result same"
   ]
  },
  {
   "cell_type": "code",
   "execution_count": 65,
   "metadata": {
    "ExecuteTime": {
     "end_time": "2024-10-16T20:24:35.934074Z",
     "start_time": "2024-10-16T20:24:35.928089Z"
    },
    "id": "GjUmX2RdD7X_"
   },
   "outputs": [
    {
     "data": {
      "text/html": [
       "<div>\n",
       "<style scoped>\n",
       "    .dataframe tbody tr th:only-of-type {\n",
       "        vertical-align: middle;\n",
       "    }\n",
       "\n",
       "    .dataframe tbody tr th {\n",
       "        vertical-align: top;\n",
       "    }\n",
       "\n",
       "    .dataframe thead th {\n",
       "        text-align: right;\n",
       "    }\n",
       "</style>\n",
       "<table border=\"1\" class=\"dataframe\">\n",
       "  <thead>\n",
       "    <tr style=\"text-align: right;\">\n",
       "      <th></th>\n",
       "      <th>Overall rank</th>\n",
       "      <th>Country or region</th>\n",
       "      <th>Score</th>\n",
       "      <th>GDP per capita</th>\n",
       "      <th>Social support</th>\n",
       "      <th>Healthy life expectancy</th>\n",
       "      <th>Freedom to make life choices</th>\n",
       "      <th>Generosity</th>\n",
       "      <th>Perceptions of corruption</th>\n",
       "    </tr>\n",
       "  </thead>\n",
       "  <tbody>\n",
       "    <tr>\n",
       "      <th>9</th>\n",
       "      <td>10</td>\n",
       "      <td>Australia</td>\n",
       "      <td>7.272</td>\n",
       "      <td>1.340</td>\n",
       "      <td>1.573</td>\n",
       "      <td>0.910</td>\n",
       "      <td>0.647</td>\n",
       "      <td>0.361</td>\n",
       "      <td>0.302</td>\n",
       "    </tr>\n",
       "    <tr>\n",
       "      <th>19</th>\n",
       "      <td>20</td>\n",
       "      <td>United Arab Emirates</td>\n",
       "      <td>6.774</td>\n",
       "      <td>2.096</td>\n",
       "      <td>0.776</td>\n",
       "      <td>0.670</td>\n",
       "      <td>0.284</td>\n",
       "      <td>0.186</td>\n",
       "      <td>NaN</td>\n",
       "    </tr>\n",
       "    <tr>\n",
       "      <th>29</th>\n",
       "      <td>30</td>\n",
       "      <td>Guatemala</td>\n",
       "      <td>6.382</td>\n",
       "      <td>0.781</td>\n",
       "      <td>1.268</td>\n",
       "      <td>0.608</td>\n",
       "      <td>0.604</td>\n",
       "      <td>0.179</td>\n",
       "      <td>0.071</td>\n",
       "    </tr>\n",
       "    <tr>\n",
       "      <th>39</th>\n",
       "      <td>40</td>\n",
       "      <td>El Salvador</td>\n",
       "      <td>6.167</td>\n",
       "      <td>0.806</td>\n",
       "      <td>1.231</td>\n",
       "      <td>0.639</td>\n",
       "      <td>0.461</td>\n",
       "      <td>0.065</td>\n",
       "      <td>0.082</td>\n",
       "    </tr>\n",
       "    <tr>\n",
       "      <th>49</th>\n",
       "      <td>50</td>\n",
       "      <td>Lithuania</td>\n",
       "      <td>5.952</td>\n",
       "      <td>1.197</td>\n",
       "      <td>1.527</td>\n",
       "      <td>0.716</td>\n",
       "      <td>0.350</td>\n",
       "      <td>0.026</td>\n",
       "      <td>0.006</td>\n",
       "    </tr>\n",
       "    <tr>\n",
       "      <th>59</th>\n",
       "      <td>60</td>\n",
       "      <td>Kazakhstan</td>\n",
       "      <td>5.790</td>\n",
       "      <td>1.143</td>\n",
       "      <td>1.516</td>\n",
       "      <td>0.631</td>\n",
       "      <td>0.454</td>\n",
       "      <td>0.148</td>\n",
       "      <td>0.121</td>\n",
       "    </tr>\n",
       "    <tr>\n",
       "      <th>69</th>\n",
       "      <td>70</td>\n",
       "      <td>Libya</td>\n",
       "      <td>5.566</td>\n",
       "      <td>0.985</td>\n",
       "      <td>1.350</td>\n",
       "      <td>0.553</td>\n",
       "      <td>0.496</td>\n",
       "      <td>0.116</td>\n",
       "      <td>0.148</td>\n",
       "    </tr>\n",
       "    <tr>\n",
       "      <th>79</th>\n",
       "      <td>80</td>\n",
       "      <td>Lebanon</td>\n",
       "      <td>5.358</td>\n",
       "      <td>0.965</td>\n",
       "      <td>1.179</td>\n",
       "      <td>0.785</td>\n",
       "      <td>0.503</td>\n",
       "      <td>0.214</td>\n",
       "      <td>0.136</td>\n",
       "    </tr>\n",
       "    <tr>\n",
       "      <th>89</th>\n",
       "      <td>90</td>\n",
       "      <td>Jordan</td>\n",
       "      <td>5.161</td>\n",
       "      <td>0.822</td>\n",
       "      <td>1.265</td>\n",
       "      <td>0.645</td>\n",
       "      <td>0.468</td>\n",
       "      <td>0.130</td>\n",
       "      <td>0.134</td>\n",
       "    </tr>\n",
       "    <tr>\n",
       "      <th>99</th>\n",
       "      <td>100</td>\n",
       "      <td>Bulgaria</td>\n",
       "      <td>4.933</td>\n",
       "      <td>1.054</td>\n",
       "      <td>1.515</td>\n",
       "      <td>0.712</td>\n",
       "      <td>0.359</td>\n",
       "      <td>0.064</td>\n",
       "      <td>0.009</td>\n",
       "    </tr>\n",
       "    <tr>\n",
       "      <th>109</th>\n",
       "      <td>110</td>\n",
       "      <td>Laos</td>\n",
       "      <td>4.623</td>\n",
       "      <td>0.720</td>\n",
       "      <td>1.034</td>\n",
       "      <td>0.441</td>\n",
       "      <td>0.626</td>\n",
       "      <td>0.230</td>\n",
       "      <td>0.174</td>\n",
       "    </tr>\n",
       "    <tr>\n",
       "      <th>119</th>\n",
       "      <td>120</td>\n",
       "      <td>Cambodia</td>\n",
       "      <td>4.433</td>\n",
       "      <td>0.549</td>\n",
       "      <td>1.088</td>\n",
       "      <td>0.457</td>\n",
       "      <td>0.696</td>\n",
       "      <td>0.256</td>\n",
       "      <td>0.065</td>\n",
       "    </tr>\n",
       "    <tr>\n",
       "      <th>129</th>\n",
       "      <td>130</td>\n",
       "      <td>Myanmar</td>\n",
       "      <td>4.308</td>\n",
       "      <td>0.682</td>\n",
       "      <td>1.174</td>\n",
       "      <td>0.429</td>\n",
       "      <td>0.580</td>\n",
       "      <td>0.598</td>\n",
       "      <td>0.178</td>\n",
       "    </tr>\n",
       "    <tr>\n",
       "      <th>139</th>\n",
       "      <td>140</td>\n",
       "      <td>Guinea</td>\n",
       "      <td>3.964</td>\n",
       "      <td>0.344</td>\n",
       "      <td>0.792</td>\n",
       "      <td>0.211</td>\n",
       "      <td>0.394</td>\n",
       "      <td>0.185</td>\n",
       "      <td>0.094</td>\n",
       "    </tr>\n",
       "    <tr>\n",
       "      <th>149</th>\n",
       "      <td>150</td>\n",
       "      <td>Syria</td>\n",
       "      <td>3.462</td>\n",
       "      <td>0.689</td>\n",
       "      <td>0.382</td>\n",
       "      <td>0.539</td>\n",
       "      <td>0.088</td>\n",
       "      <td>0.376</td>\n",
       "      <td>0.144</td>\n",
       "    </tr>\n",
       "  </tbody>\n",
       "</table>\n",
       "</div>"
      ],
      "text/plain": [
       "     Overall rank     Country or region  Score  GDP per capita  \\\n",
       "9              10             Australia  7.272           1.340   \n",
       "19             20  United Arab Emirates  6.774           2.096   \n",
       "29             30             Guatemala  6.382           0.781   \n",
       "39             40           El Salvador  6.167           0.806   \n",
       "49             50             Lithuania  5.952           1.197   \n",
       "59             60            Kazakhstan  5.790           1.143   \n",
       "69             70                 Libya  5.566           0.985   \n",
       "79             80               Lebanon  5.358           0.965   \n",
       "89             90                Jordan  5.161           0.822   \n",
       "99            100              Bulgaria  4.933           1.054   \n",
       "109           110                  Laos  4.623           0.720   \n",
       "119           120              Cambodia  4.433           0.549   \n",
       "129           130               Myanmar  4.308           0.682   \n",
       "139           140                Guinea  3.964           0.344   \n",
       "149           150                 Syria  3.462           0.689   \n",
       "\n",
       "     Social support  Healthy life expectancy  Freedom to make life choices  \\\n",
       "9             1.573                    0.910                         0.647   \n",
       "19            0.776                    0.670                         0.284   \n",
       "29            1.268                    0.608                         0.604   \n",
       "39            1.231                    0.639                         0.461   \n",
       "49            1.527                    0.716                         0.350   \n",
       "59            1.516                    0.631                         0.454   \n",
       "69            1.350                    0.553                         0.496   \n",
       "79            1.179                    0.785                         0.503   \n",
       "89            1.265                    0.645                         0.468   \n",
       "99            1.515                    0.712                         0.359   \n",
       "109           1.034                    0.441                         0.626   \n",
       "119           1.088                    0.457                         0.696   \n",
       "129           1.174                    0.429                         0.580   \n",
       "139           0.792                    0.211                         0.394   \n",
       "149           0.382                    0.539                         0.088   \n",
       "\n",
       "     Generosity  Perceptions of corruption  \n",
       "9         0.361                      0.302  \n",
       "19        0.186                        NaN  \n",
       "29        0.179                      0.071  \n",
       "39        0.065                      0.082  \n",
       "49        0.026                      0.006  \n",
       "59        0.148                      0.121  \n",
       "69        0.116                      0.148  \n",
       "79        0.214                      0.136  \n",
       "89        0.130                      0.134  \n",
       "99        0.064                      0.009  \n",
       "109       0.230                      0.174  \n",
       "119       0.256                      0.065  \n",
       "129       0.598                      0.178  \n",
       "139       0.185                      0.094  \n",
       "149       0.376                      0.144  "
      ]
     },
     "execution_count": 65,
     "metadata": {},
     "output_type": "execute_result"
    }
   ],
   "source": [
    "#5 Display every 10th row\n",
    "dataframe.iloc[9::10]  #Start from 10th row, continue until the end, jump 10 row as a step"
   ]
  },
  {
   "cell_type": "code",
   "execution_count": 66,
   "metadata": {
    "ExecuteTime": {
     "end_time": "2024-10-16T20:24:35.985384Z",
     "start_time": "2024-10-16T20:24:35.975521Z"
    },
    "id": "DXdwpo1SD9-F"
   },
   "outputs": [
    {
     "data": {
      "text/html": [
       "<div>\n",
       "<style scoped>\n",
       "    .dataframe tbody tr th:only-of-type {\n",
       "        vertical-align: middle;\n",
       "    }\n",
       "\n",
       "    .dataframe tbody tr th {\n",
       "        vertical-align: top;\n",
       "    }\n",
       "\n",
       "    .dataframe thead th {\n",
       "        text-align: right;\n",
       "    }\n",
       "</style>\n",
       "<table border=\"1\" class=\"dataframe\">\n",
       "  <thead>\n",
       "    <tr style=\"text-align: right;\">\n",
       "      <th></th>\n",
       "      <th>Overall rank</th>\n",
       "      <th>Country or region</th>\n",
       "      <th>Score</th>\n",
       "      <th>GDP per capita</th>\n",
       "      <th>Social support</th>\n",
       "      <th>Healthy life expectancy</th>\n",
       "      <th>Freedom to make life choices</th>\n",
       "      <th>Generosity</th>\n",
       "      <th>Perceptions of corruption</th>\n",
       "    </tr>\n",
       "  </thead>\n",
       "  <tbody>\n",
       "    <tr>\n",
       "      <th>count</th>\n",
       "      <td>156.000000</td>\n",
       "      <td>156</td>\n",
       "      <td>156.000000</td>\n",
       "      <td>156.000000</td>\n",
       "      <td>156.000000</td>\n",
       "      <td>156.000000</td>\n",
       "      <td>156.000000</td>\n",
       "      <td>156.000000</td>\n",
       "      <td>155.000000</td>\n",
       "    </tr>\n",
       "    <tr>\n",
       "      <th>unique</th>\n",
       "      <td>NaN</td>\n",
       "      <td>156</td>\n",
       "      <td>NaN</td>\n",
       "      <td>NaN</td>\n",
       "      <td>NaN</td>\n",
       "      <td>NaN</td>\n",
       "      <td>NaN</td>\n",
       "      <td>NaN</td>\n",
       "      <td>NaN</td>\n",
       "    </tr>\n",
       "    <tr>\n",
       "      <th>top</th>\n",
       "      <td>NaN</td>\n",
       "      <td>Finland</td>\n",
       "      <td>NaN</td>\n",
       "      <td>NaN</td>\n",
       "      <td>NaN</td>\n",
       "      <td>NaN</td>\n",
       "      <td>NaN</td>\n",
       "      <td>NaN</td>\n",
       "      <td>NaN</td>\n",
       "    </tr>\n",
       "    <tr>\n",
       "      <th>freq</th>\n",
       "      <td>NaN</td>\n",
       "      <td>1</td>\n",
       "      <td>NaN</td>\n",
       "      <td>NaN</td>\n",
       "      <td>NaN</td>\n",
       "      <td>NaN</td>\n",
       "      <td>NaN</td>\n",
       "      <td>NaN</td>\n",
       "      <td>NaN</td>\n",
       "    </tr>\n",
       "    <tr>\n",
       "      <th>mean</th>\n",
       "      <td>78.500000</td>\n",
       "      <td>NaN</td>\n",
       "      <td>5.375917</td>\n",
       "      <td>0.891449</td>\n",
       "      <td>1.213237</td>\n",
       "      <td>0.597346</td>\n",
       "      <td>0.454506</td>\n",
       "      <td>0.181006</td>\n",
       "      <td>0.112000</td>\n",
       "    </tr>\n",
       "    <tr>\n",
       "      <th>std</th>\n",
       "      <td>45.177428</td>\n",
       "      <td>NaN</td>\n",
       "      <td>1.119506</td>\n",
       "      <td>0.391921</td>\n",
       "      <td>0.302372</td>\n",
       "      <td>0.247579</td>\n",
       "      <td>0.162424</td>\n",
       "      <td>0.098471</td>\n",
       "      <td>0.096492</td>\n",
       "    </tr>\n",
       "    <tr>\n",
       "      <th>min</th>\n",
       "      <td>1.000000</td>\n",
       "      <td>NaN</td>\n",
       "      <td>2.905000</td>\n",
       "      <td>0.000000</td>\n",
       "      <td>0.000000</td>\n",
       "      <td>0.000000</td>\n",
       "      <td>0.000000</td>\n",
       "      <td>0.000000</td>\n",
       "      <td>0.000000</td>\n",
       "    </tr>\n",
       "    <tr>\n",
       "      <th>25%</th>\n",
       "      <td>39.750000</td>\n",
       "      <td>NaN</td>\n",
       "      <td>4.453750</td>\n",
       "      <td>0.616250</td>\n",
       "      <td>1.066750</td>\n",
       "      <td>0.422250</td>\n",
       "      <td>0.356000</td>\n",
       "      <td>0.109500</td>\n",
       "      <td>0.051000</td>\n",
       "    </tr>\n",
       "    <tr>\n",
       "      <th>50%</th>\n",
       "      <td>78.500000</td>\n",
       "      <td>NaN</td>\n",
       "      <td>5.378000</td>\n",
       "      <td>0.949500</td>\n",
       "      <td>1.255000</td>\n",
       "      <td>0.644000</td>\n",
       "      <td>0.487000</td>\n",
       "      <td>0.174000</td>\n",
       "      <td>0.082000</td>\n",
       "    </tr>\n",
       "    <tr>\n",
       "      <th>75%</th>\n",
       "      <td>117.250000</td>\n",
       "      <td>NaN</td>\n",
       "      <td>6.168500</td>\n",
       "      <td>1.197750</td>\n",
       "      <td>1.463000</td>\n",
       "      <td>0.777250</td>\n",
       "      <td>0.578500</td>\n",
       "      <td>0.239000</td>\n",
       "      <td>0.137000</td>\n",
       "    </tr>\n",
       "    <tr>\n",
       "      <th>max</th>\n",
       "      <td>156.000000</td>\n",
       "      <td>NaN</td>\n",
       "      <td>7.632000</td>\n",
       "      <td>2.096000</td>\n",
       "      <td>1.644000</td>\n",
       "      <td>1.030000</td>\n",
       "      <td>0.724000</td>\n",
       "      <td>0.598000</td>\n",
       "      <td>0.457000</td>\n",
       "    </tr>\n",
       "  </tbody>\n",
       "</table>\n",
       "</div>"
      ],
      "text/plain": [
       "        Overall rank Country or region       Score  GDP per capita  \\\n",
       "count     156.000000               156  156.000000      156.000000   \n",
       "unique           NaN               156         NaN             NaN   \n",
       "top              NaN           Finland         NaN             NaN   \n",
       "freq             NaN                 1         NaN             NaN   \n",
       "mean       78.500000               NaN    5.375917        0.891449   \n",
       "std        45.177428               NaN    1.119506        0.391921   \n",
       "min         1.000000               NaN    2.905000        0.000000   \n",
       "25%        39.750000               NaN    4.453750        0.616250   \n",
       "50%        78.500000               NaN    5.378000        0.949500   \n",
       "75%       117.250000               NaN    6.168500        1.197750   \n",
       "max       156.000000               NaN    7.632000        2.096000   \n",
       "\n",
       "        Social support  Healthy life expectancy  Freedom to make life choices  \\\n",
       "count       156.000000               156.000000                    156.000000   \n",
       "unique             NaN                      NaN                           NaN   \n",
       "top                NaN                      NaN                           NaN   \n",
       "freq               NaN                      NaN                           NaN   \n",
       "mean          1.213237                 0.597346                      0.454506   \n",
       "std           0.302372                 0.247579                      0.162424   \n",
       "min           0.000000                 0.000000                      0.000000   \n",
       "25%           1.066750                 0.422250                      0.356000   \n",
       "50%           1.255000                 0.644000                      0.487000   \n",
       "75%           1.463000                 0.777250                      0.578500   \n",
       "max           1.644000                 1.030000                      0.724000   \n",
       "\n",
       "        Generosity  Perceptions of corruption  \n",
       "count   156.000000                 155.000000  \n",
       "unique         NaN                        NaN  \n",
       "top            NaN                        NaN  \n",
       "freq           NaN                        NaN  \n",
       "mean      0.181006                   0.112000  \n",
       "std       0.098471                   0.096492  \n",
       "min       0.000000                   0.000000  \n",
       "25%       0.109500                   0.051000  \n",
       "50%       0.174000                   0.082000  \n",
       "75%       0.239000                   0.137000  \n",
       "max       0.598000                   0.457000  "
      ]
     },
     "execution_count": 66,
     "metadata": {},
     "output_type": "execute_result"
    }
   ],
   "source": [
    "#6 Get the summary stats of the dataset regarding each column\n",
    "dataframe.describe(include='all')  #For non-numeric column \"Country or region\" include parameter is 'all'"
   ]
  },
  {
   "cell_type": "code",
   "execution_count": 67,
   "metadata": {
    "ExecuteTime": {
     "end_time": "2024-10-16T20:24:36.029258Z",
     "start_time": "2024-10-16T20:24:36.024722Z"
    },
    "id": "qhE0TwZZEAM5"
   },
   "outputs": [
    {
     "data": {
      "text/html": [
       "<div>\n",
       "<style scoped>\n",
       "    .dataframe tbody tr th:only-of-type {\n",
       "        vertical-align: middle;\n",
       "    }\n",
       "\n",
       "    .dataframe tbody tr th {\n",
       "        vertical-align: top;\n",
       "    }\n",
       "\n",
       "    .dataframe thead th {\n",
       "        text-align: right;\n",
       "    }\n",
       "</style>\n",
       "<table border=\"1\" class=\"dataframe\">\n",
       "  <thead>\n",
       "    <tr style=\"text-align: right;\">\n",
       "      <th></th>\n",
       "      <th>Overall rank</th>\n",
       "      <th>Country or region</th>\n",
       "      <th>Score</th>\n",
       "      <th>GDP per capita</th>\n",
       "      <th>Social support</th>\n",
       "      <th>Healthy life expectancy</th>\n",
       "      <th>Freedom to make life choices</th>\n",
       "      <th>Generosity</th>\n",
       "      <th>Perceptions of corruption</th>\n",
       "    </tr>\n",
       "  </thead>\n",
       "  <tbody>\n",
       "    <tr>\n",
       "      <th>19</th>\n",
       "      <td>20</td>\n",
       "      <td>United Arab Emirates</td>\n",
       "      <td>6.774</td>\n",
       "      <td>2.096</td>\n",
       "      <td>0.776</td>\n",
       "      <td>0.67</td>\n",
       "      <td>0.284</td>\n",
       "      <td>0.186</td>\n",
       "      <td>NaN</td>\n",
       "    </tr>\n",
       "  </tbody>\n",
       "</table>\n",
       "</div>"
      ],
      "text/plain": [
       "    Overall rank     Country or region  Score  GDP per capita  Social support  \\\n",
       "19            20  United Arab Emirates  6.774           2.096           0.776   \n",
       "\n",
       "    Healthy life expectancy  Freedom to make life choices  Generosity  \\\n",
       "19                     0.67                         0.284       0.186   \n",
       "\n",
       "    Perceptions of corruption  \n",
       "19                        NaN  "
      ]
     },
     "execution_count": 67,
     "metadata": {},
     "output_type": "execute_result"
    }
   ],
   "source": [
    "#7 Identify and count the number of missing values in each column\n",
    "\"\"\"\n",
    "First, it creates a same sized DataFrame with Boolean values (True or False) indicating whether each cell contains a NaN value (dataframe.isnull())\n",
    "\n",
    "Then, it creates a Series with Boolean values (True or False) indicating whether each row contains True(NaN in this case) (.any(axis = 1))\n",
    "\n",
    "Last, using Series it filters the dataframe.\n",
    "\"\"\"\n",
    "rows_containing_null = dataframe[dataframe.isnull().any(axis=1)]\n",
    "rows_containing_null"
   ]
  },
  {
   "cell_type": "code",
   "execution_count": 68,
   "metadata": {
    "ExecuteTime": {
     "end_time": "2024-10-16T20:24:36.108578Z",
     "start_time": "2024-10-16T20:24:36.105456Z"
    },
    "collapsed": false
   },
   "outputs": [
    {
     "data": {
      "text/plain": [
       "Overall rank                    0\n",
       "Country or region               0\n",
       "Score                           0\n",
       "GDP per capita                  0\n",
       "Social support                  0\n",
       "Healthy life expectancy         0\n",
       "Freedom to make life choices    0\n",
       "Generosity                      0\n",
       "Perceptions of corruption       1\n",
       "dtype: int64"
      ]
     },
     "execution_count": 68,
     "metadata": {},
     "output_type": "execute_result"
    }
   ],
   "source": [
    "#7\n",
    "\"\"\"\n",
    "First, it creates a same sized DataFrame with Boolean values (True or False) indicating whether each cell contains a NaN value (dataframe.isnull())\n",
    "\n",
    "Then, it sums the Boolean values for each column separately (where True is treated as 1 and False as 0), resulting in the count of NaN values for each column.\n",
    "\"\"\"\n",
    "rows_containing_null.isnull().sum()"
   ]
  },
  {
   "cell_type": "markdown",
   "metadata": {
    "id": "03njHFZpEDcR"
   },
   "source": [
    "# Q2. Basic Data Statistics: **(10 Pts)**\n",
    "\n",
    "1. Calculate the mean, median, and standard deviation of the happiness Score across all countries. **(1 Pts)**\n",
    "2. Identify the top 5 happiest countries and the bottom 5 least happy countries based on happiness Score. **(1 Pts)**\n",
    "3. Find the country with the highest Healthy Life Expectancy. What is the corresponding happiness Score? **(2 Pts)**\n",
    "4. Calculate the average Corruption Perceptions for countries with a happiness Score greater than 6. **(2 Pts)**\n",
    "5. Are there any countries where Generosity is higher than Social Support? List them. **(2 Pts)**\n",
    "6. What is the range (max-min) of GDP per Capita values in the dataset? **(2 Pts)**"
   ]
  },
  {
   "cell_type": "code",
   "execution_count": 69,
   "metadata": {
    "ExecuteTime": {
     "end_time": "2024-10-16T20:24:36.161611Z",
     "start_time": "2024-10-16T20:24:36.158504Z"
    },
    "id": "7VerqUJlIxdB"
   },
   "outputs": [
    {
     "data": {
      "text/plain": [
       "mean      5.375917\n",
       "median    5.378000\n",
       "std       1.119506\n",
       "Name: Score, dtype: float64"
      ]
     },
     "execution_count": 69,
     "metadata": {},
     "output_type": "execute_result"
    }
   ],
   "source": [
    "#1\n",
    "dataframe[\"Score\"].agg([\"mean\", \"median\", \"std\"])  #Apllies aggregation to the Score column and computes wanted stats"
   ]
  },
  {
   "cell_type": "code",
   "execution_count": 70,
   "metadata": {
    "ExecuteTime": {
     "end_time": "2024-10-16T20:24:36.227939Z",
     "start_time": "2024-10-16T20:24:36.223902Z"
    },
    "id": "wggNKMOnIxZR"
   },
   "outputs": [
    {
     "data": {
      "text/html": [
       "<div>\n",
       "<style scoped>\n",
       "    .dataframe tbody tr th:only-of-type {\n",
       "        vertical-align: middle;\n",
       "    }\n",
       "\n",
       "    .dataframe tbody tr th {\n",
       "        vertical-align: top;\n",
       "    }\n",
       "\n",
       "    .dataframe thead th {\n",
       "        text-align: right;\n",
       "    }\n",
       "</style>\n",
       "<table border=\"1\" class=\"dataframe\">\n",
       "  <thead>\n",
       "    <tr style=\"text-align: right;\">\n",
       "      <th></th>\n",
       "      <th>Score</th>\n",
       "      <th>Country or region</th>\n",
       "    </tr>\n",
       "  </thead>\n",
       "  <tbody>\n",
       "    <tr>\n",
       "      <th>0</th>\n",
       "      <td>7.632</td>\n",
       "      <td>Finland</td>\n",
       "    </tr>\n",
       "    <tr>\n",
       "      <th>1</th>\n",
       "      <td>7.594</td>\n",
       "      <td>Norway</td>\n",
       "    </tr>\n",
       "    <tr>\n",
       "      <th>2</th>\n",
       "      <td>7.555</td>\n",
       "      <td>Denmark</td>\n",
       "    </tr>\n",
       "    <tr>\n",
       "      <th>3</th>\n",
       "      <td>7.495</td>\n",
       "      <td>Iceland</td>\n",
       "    </tr>\n",
       "    <tr>\n",
       "      <th>4</th>\n",
       "      <td>7.487</td>\n",
       "      <td>Switzerland</td>\n",
       "    </tr>\n",
       "  </tbody>\n",
       "</table>\n",
       "</div>"
      ],
      "text/plain": [
       "   Score Country or region\n",
       "0  7.632           Finland\n",
       "1  7.594            Norway\n",
       "2  7.555           Denmark\n",
       "3  7.495           Iceland\n",
       "4  7.487       Switzerland"
      ]
     },
     "execution_count": 70,
     "metadata": {},
     "output_type": "execute_result"
    }
   ],
   "source": [
    "#2\n",
    "dataframe.nlargest(n=5, columns=[\"Score\"])[[\"Score\", \"Country or region\"]]  #Top 5 happiest countries"
   ]
  },
  {
   "cell_type": "code",
   "execution_count": 71,
   "metadata": {
    "ExecuteTime": {
     "end_time": "2024-10-16T20:24:36.280728Z",
     "start_time": "2024-10-16T20:24:36.276235Z"
    },
    "collapsed": false
   },
   "outputs": [
    {
     "data": {
      "text/html": [
       "<div>\n",
       "<style scoped>\n",
       "    .dataframe tbody tr th:only-of-type {\n",
       "        vertical-align: middle;\n",
       "    }\n",
       "\n",
       "    .dataframe tbody tr th {\n",
       "        vertical-align: top;\n",
       "    }\n",
       "\n",
       "    .dataframe thead th {\n",
       "        text-align: right;\n",
       "    }\n",
       "</style>\n",
       "<table border=\"1\" class=\"dataframe\">\n",
       "  <thead>\n",
       "    <tr style=\"text-align: right;\">\n",
       "      <th></th>\n",
       "      <th>Score</th>\n",
       "      <th>Country or region</th>\n",
       "    </tr>\n",
       "  </thead>\n",
       "  <tbody>\n",
       "    <tr>\n",
       "      <th>155</th>\n",
       "      <td>2.905</td>\n",
       "      <td>Burundi</td>\n",
       "    </tr>\n",
       "    <tr>\n",
       "      <th>154</th>\n",
       "      <td>3.083</td>\n",
       "      <td>Central African Republic</td>\n",
       "    </tr>\n",
       "    <tr>\n",
       "      <th>153</th>\n",
       "      <td>3.254</td>\n",
       "      <td>South Sudan</td>\n",
       "    </tr>\n",
       "    <tr>\n",
       "      <th>152</th>\n",
       "      <td>3.303</td>\n",
       "      <td>Tanzania</td>\n",
       "    </tr>\n",
       "    <tr>\n",
       "      <th>151</th>\n",
       "      <td>3.355</td>\n",
       "      <td>Yemen</td>\n",
       "    </tr>\n",
       "  </tbody>\n",
       "</table>\n",
       "</div>"
      ],
      "text/plain": [
       "     Score         Country or region\n",
       "155  2.905                   Burundi\n",
       "154  3.083  Central African Republic\n",
       "153  3.254               South Sudan\n",
       "152  3.303                  Tanzania\n",
       "151  3.355                     Yemen"
      ]
     },
     "execution_count": 71,
     "metadata": {},
     "output_type": "execute_result"
    }
   ],
   "source": [
    "#2\n",
    "dataframe.nsmallest(n=5, columns=[\"Score\"])[[\"Score\", \"Country or region\"]]  #Bottom 5 least happy countries"
   ]
  },
  {
   "cell_type": "code",
   "execution_count": 72,
   "metadata": {
    "ExecuteTime": {
     "end_time": "2024-10-16T20:24:36.291127Z",
     "start_time": "2024-10-16T20:24:36.287633Z"
    },
    "id": "HEMghv00IxU1"
   },
   "outputs": [
    {
     "data": {
      "text/plain": [
       "Country or region    Hong Kong\n",
       "Score                     5.43\n",
       "Name: 75, dtype: object"
      ]
     },
     "execution_count": 72,
     "metadata": {},
     "output_type": "execute_result"
    }
   ],
   "source": [
    "#3\n",
    "\"\"\"\n",
    "First returns a Series that contains the indexes of the maximum data in each columns separately (dataframe.idxmax()), \n",
    "Then, gets the index of the maximum data in Healthy life expectancy column (.get(key=\"Healthy life expectancy\"))\n",
    "Last, gets the Country and Score data using iloc\n",
    "\"\"\"\n",
    "index_of_max = dataframe.idxmax().get(key=\"Healthy life expectancy\")\n",
    "dataframe.iloc[index_of_max][[\"Country or region\", \"Score\"]]"
   ]
  },
  {
   "cell_type": "code",
   "execution_count": 73,
   "metadata": {
    "ExecuteTime": {
     "end_time": "2024-10-16T20:24:36.310109Z",
     "start_time": "2024-10-16T20:24:36.306563Z"
    },
    "id": "7V9fOGmyIxPx"
   },
   "outputs": [
    {
     "data": {
      "text/plain": [
       "np.float64(0.1782888888888889)"
      ]
     },
     "execution_count": 73,
     "metadata": {},
     "output_type": "execute_result"
    }
   ],
   "source": [
    "#4\n",
    "filtering_series = dataframe[\n",
    "                       \"Score\"] > 6  #Returns a boolean Series indicating whether score is grater than 6 for the country\n",
    "dataframe[filtering_series][\"Perceptions of corruption\"].mean()  #Calculates average corruption perceptions"
   ]
  },
  {
   "cell_type": "code",
   "execution_count": 74,
   "metadata": {
    "ExecuteTime": {
     "end_time": "2024-10-16T20:24:36.328433Z",
     "start_time": "2024-10-16T20:24:36.325157Z"
    },
    "id": "Xu8KeZpuIxKX"
   },
   "outputs": [
    {
     "data": {
      "text/plain": [
       "154    Central African Republic\n",
       "Name: Country or region, dtype: object"
      ]
     },
     "execution_count": 74,
     "metadata": {},
     "output_type": "execute_result"
    }
   ],
   "source": [
    "#5\n",
    "filtering_series = dataframe[\"Generosity\"] > dataframe[\n",
    "    \"Social support\"]  #Returns a boolean Series indicating whether generosity is grater than social support for the country\n",
    "dataframe[filtering_series][\"Country or region\"]"
   ]
  },
  {
   "cell_type": "code",
   "execution_count": 75,
   "metadata": {
    "ExecuteTime": {
     "end_time": "2024-10-16T20:24:36.365615Z",
     "start_time": "2024-10-16T20:24:36.362120Z"
    },
    "id": "TwGHH-K9IxDy"
   },
   "outputs": [
    {
     "data": {
      "text/plain": [
       "(np.float64(2.096), 'max: ', np.float64(2.096), 'min: ', np.float64(0.0))"
      ]
     },
     "execution_count": 75,
     "metadata": {},
     "output_type": "execute_result"
    }
   ],
   "source": [
    "#6\n",
    "index_of_max = dataframe.idxmax().get(key=\"GDP per capita\")\n",
    "index_of_min = dataframe.idxmin().get(key=\"GDP per capita\")\n",
    "#Calculating range\n",
    "(dataframe.iloc[index_of_max][[\"GDP per capita\"]] - dataframe.iloc[index_of_min][[\"GDP per capita\"]]).get(\n",
    "    key=\"GDP per capita\"), \"max: \", dataframe.iloc[index_of_max][\"GDP per capita\"], \"min: \", \\\n",
    "dataframe.iloc[index_of_min][\"GDP per capita\"]"
   ]
  },
  {
   "cell_type": "markdown",
   "metadata": {
    "id": "s6LGyNg0Fqns"
   },
   "source": [
    "# Q3. Data Filtering **(20 Pts)**\n",
    "\n",
    "1. How many countries have a Happiness Score greater than 7.5? List their names.**(2 Pts)**\n",
    "2. List all countries where the Corruption Perception score is below 0.2. **(2 Pts)**\n",
    "3. Filter and list the top 5 countries by Generosity. What is their average Happiness Score? **(2 Pts)**\n",
    "4. Find countries where GDP per Capita is less than 0.5 but the Happiness Score is above 4. List the countries. **(2 Pts)**\n",
    "5. Filter countries where Social Support is higher than Freedom to Make Life **(2 Pts)**\n",
    "6. Find countries in the top 10% of Healthy Life Expectancy and list their names. **(2 Pts)**\n",
    "7. Filter and list countries where Generosity is less than Social Support. What is the average Happiness Score of these countries? **(2 Pts)**\n",
    "8.  Find all countries with a Happiness Score below the median happiness score. How many are there, and what are the common characteristics of these countries? **(3 Pts)**\n",
    "9. Filter countries where both Freedom to Make Life Choices and Healthy Life Expectancy are above the global median. How many such countries are there? **(3 Pts)**"
   ]
  },
  {
   "cell_type": "code",
   "execution_count": 76,
   "metadata": {
    "ExecuteTime": {
     "end_time": "2024-10-16T20:24:36.400661Z",
     "start_time": "2024-10-16T20:24:36.398185Z"
    },
    "id": "H2ZCnvlKIzvU"
   },
   "outputs": [
    {
     "data": {
      "text/plain": [
       "0    Finland\n",
       "1     Norway\n",
       "2    Denmark\n",
       "Name: Country or region, dtype: object"
      ]
     },
     "execution_count": 76,
     "metadata": {},
     "output_type": "execute_result"
    }
   ],
   "source": [
    "#1\n",
    "filtering_series = dataframe[\"Score\"] > 7.5  #Boolean Series as a filter\n",
    "dataframe[filtering_series][\"Country or region\"]"
   ]
  },
  {
   "cell_type": "code",
   "execution_count": 77,
   "metadata": {
    "ExecuteTime": {
     "end_time": "2024-10-16T20:24:36.420998Z",
     "start_time": "2024-10-16T20:24:36.418346Z"
    },
    "collapsed": false
   },
   "outputs": [
    {
     "data": {
      "text/plain": [
       "np.int64(3)"
      ]
     },
     "execution_count": 77,
     "metadata": {},
     "output_type": "execute_result"
    }
   ],
   "source": [
    "dataframe[filtering_series][\"Country or region\"].count()  #Number of countries have a Happiness Score greater than 7.5"
   ]
  },
  {
   "cell_type": "code",
   "execution_count": 78,
   "metadata": {
    "ExecuteTime": {
     "end_time": "2024-10-16T20:24:36.433486Z",
     "start_time": "2024-10-16T20:24:36.430102Z"
    },
    "id": "pedm2qN7Izpj"
   },
   "outputs": [
    {
     "data": {
      "text/html": [
       "<div>\n",
       "<style scoped>\n",
       "    .dataframe tbody tr th:only-of-type {\n",
       "        vertical-align: middle;\n",
       "    }\n",
       "\n",
       "    .dataframe tbody tr th {\n",
       "        vertical-align: top;\n",
       "    }\n",
       "\n",
       "    .dataframe thead th {\n",
       "        text-align: right;\n",
       "    }\n",
       "</style>\n",
       "<table border=\"1\" class=\"dataframe\">\n",
       "  <thead>\n",
       "    <tr style=\"text-align: right;\">\n",
       "      <th></th>\n",
       "      <th>Country or region</th>\n",
       "    </tr>\n",
       "  </thead>\n",
       "  <tbody>\n",
       "    <tr>\n",
       "      <th>3</th>\n",
       "      <td>Iceland</td>\n",
       "    </tr>\n",
       "    <tr>\n",
       "      <th>10</th>\n",
       "      <td>United Kingdom</td>\n",
       "    </tr>\n",
       "    <tr>\n",
       "      <th>12</th>\n",
       "      <td>Costa Rica</td>\n",
       "    </tr>\n",
       "    <tr>\n",
       "      <th>17</th>\n",
       "      <td>United States</td>\n",
       "    </tr>\n",
       "    <tr>\n",
       "      <th>20</th>\n",
       "      <td>Czech Republic</td>\n",
       "    </tr>\n",
       "    <tr>\n",
       "      <th>...</th>\n",
       "      <td>...</td>\n",
       "    </tr>\n",
       "    <tr>\n",
       "      <th>151</th>\n",
       "      <td>Yemen</td>\n",
       "    </tr>\n",
       "    <tr>\n",
       "      <th>152</th>\n",
       "      <td>Tanzania</td>\n",
       "    </tr>\n",
       "    <tr>\n",
       "      <th>153</th>\n",
       "      <td>South Sudan</td>\n",
       "    </tr>\n",
       "    <tr>\n",
       "      <th>154</th>\n",
       "      <td>Central African Republic</td>\n",
       "    </tr>\n",
       "    <tr>\n",
       "      <th>155</th>\n",
       "      <td>Burundi</td>\n",
       "    </tr>\n",
       "  </tbody>\n",
       "</table>\n",
       "<p>134 rows × 1 columns</p>\n",
       "</div>"
      ],
      "text/plain": [
       "            Country or region\n",
       "3                     Iceland\n",
       "10             United Kingdom\n",
       "12                 Costa Rica\n",
       "17              United States\n",
       "20             Czech Republic\n",
       "..                        ...\n",
       "151                     Yemen\n",
       "152                  Tanzania\n",
       "153               South Sudan\n",
       "154  Central African Republic\n",
       "155                   Burundi\n",
       "\n",
       "[134 rows x 1 columns]"
      ]
     },
     "execution_count": 78,
     "metadata": {},
     "output_type": "execute_result"
    }
   ],
   "source": [
    "#2\n",
    "filtering_series = dataframe[\"Perceptions of corruption\"] < 0.2  #Boolean Series as a filter\n",
    "dataframe[filtering_series][[\"Country or region\"]]"
   ]
  },
  {
   "cell_type": "code",
   "execution_count": 79,
   "metadata": {
    "ExecuteTime": {
     "end_time": "2024-10-16T20:24:36.462235Z",
     "start_time": "2024-10-16T20:24:36.458791Z"
    },
    "id": "RDR7XZU0IzES"
   },
   "outputs": [
    {
     "data": {
      "text/plain": [
       "np.float64(4.6144)"
      ]
     },
     "execution_count": 79,
     "metadata": {},
     "output_type": "execute_result"
    }
   ],
   "source": [
    "#3\n",
    "dataframe.nlargest(n=5, columns=[\"Generosity\"])[\n",
    "    \"Score\"].mean()  #n is country number will be listed and column is specified to sort"
   ]
  },
  {
   "cell_type": "code",
   "execution_count": 80,
   "metadata": {
    "ExecuteTime": {
     "end_time": "2024-10-16T20:24:36.503127Z",
     "start_time": "2024-10-16T20:24:36.499788Z"
    },
    "id": "Q-v1h509IzBw"
   },
   "outputs": [
    {
     "data": {
      "text/plain": [
       "87           Tajikistan\n",
       "97              Somalia\n",
       "100               Nepal\n",
       "108             Senegal\n",
       "112        Sierra Leone\n",
       "117                Mali\n",
       "120        Burkina Faso\n",
       "122          Mozambique\n",
       "123               Kenya\n",
       "126            Ethiopia\n",
       "130                Chad\n",
       "131    Congo (Kinshasa)\n",
       "133               Niger\n",
       "134              Uganda\n",
       "135               Benin\n",
       "Name: Country or region, dtype: object"
      ]
     },
     "execution_count": 80,
     "metadata": {},
     "output_type": "execute_result"
    }
   ],
   "source": [
    "#4\n",
    "filtering_series = (dataframe[\"Score\"] > 4) & (dataframe[\"GDP per capita\"] < 0.5)  #Boolean Series as a filter\n",
    "dataframe[filtering_series][\"Country or region\"]"
   ]
  },
  {
   "cell_type": "code",
   "execution_count": 81,
   "metadata": {
    "ExecuteTime": {
     "end_time": "2024-10-16T20:24:36.536199Z",
     "start_time": "2024-10-16T20:24:36.533286Z"
    },
    "id": "fsxfO5cvIy_L"
   },
   "outputs": [
    {
     "data": {
      "text/plain": [
       "0          Finland\n",
       "1           Norway\n",
       "2          Denmark\n",
       "3          Iceland\n",
       "4      Switzerland\n",
       "          ...     \n",
       "150         Rwanda\n",
       "151          Yemen\n",
       "152       Tanzania\n",
       "153    South Sudan\n",
       "155        Burundi\n",
       "Name: Country or region, Length: 154, dtype: object"
      ]
     },
     "execution_count": 81,
     "metadata": {},
     "output_type": "execute_result"
    }
   ],
   "source": [
    "#5\n",
    "filtering_series = dataframe[\"Freedom to make life choices\"] < dataframe[\"Social support\"]  #Boolean Series as a filter\n",
    "dataframe[filtering_series][\"Country or region\"]"
   ]
  },
  {
   "cell_type": "code",
   "execution_count": 82,
   "metadata": {
    "ExecuteTime": {
     "end_time": "2024-10-16T20:24:36.567923Z",
     "start_time": "2024-10-16T20:24:36.564138Z"
    },
    "id": "p-HrMopaIy8j"
   },
   "outputs": [
    {
     "data": {
      "text/plain": [
       "75          Hong Kong\n",
       "33          Singapore\n",
       "53              Japan\n",
       "35              Spain\n",
       "56        South Korea\n",
       "46              Italy\n",
       "4         Switzerland\n",
       "3             Iceland\n",
       "8              Sweden\n",
       "9           Australia\n",
       "57    Northern Cyprus\n",
       "60             Cyprus\n",
       "22             France\n",
       "6              Canada\n",
       "16         Luxembourg\n",
       "Name: Country or region, dtype: object"
      ]
     },
     "execution_count": 82,
     "metadata": {},
     "output_type": "execute_result"
    }
   ],
   "source": [
    "#6\n",
    "n = int(len(dataframe) * 0.1)  #Number of rows * %10\n",
    "dataframe.nlargest(n=n, columns=\"Healthy life expectancy\")[\"Country or region\"]"
   ]
  },
  {
   "cell_type": "code",
   "execution_count": 83,
   "metadata": {
    "ExecuteTime": {
     "end_time": "2024-10-16T20:24:36.607279Z",
     "start_time": "2024-10-16T20:24:36.604177Z"
    },
    "id": "C3TofhTGIy53"
   },
   "outputs": [
    {
     "data": {
      "text/plain": [
       "0          Finland\n",
       "1           Norway\n",
       "2          Denmark\n",
       "3          Iceland\n",
       "4      Switzerland\n",
       "          ...     \n",
       "150         Rwanda\n",
       "151          Yemen\n",
       "152       Tanzania\n",
       "153    South Sudan\n",
       "155        Burundi\n",
       "Name: Country or region, Length: 155, dtype: object"
      ]
     },
     "execution_count": 83,
     "metadata": {},
     "output_type": "execute_result"
    }
   ],
   "source": [
    "#7\n",
    "filtering_series = dataframe[\"Generosity\"] < dataframe[\"Social support\"]  #Boolean Series as a filter\n",
    "dataframe[filtering_series][\"Country or region\"]"
   ]
  },
  {
   "cell_type": "code",
   "execution_count": 84,
   "metadata": {
    "ExecuteTime": {
     "end_time": "2024-10-16T20:24:36.618558Z",
     "start_time": "2024-10-16T20:24:36.616369Z"
    },
    "collapsed": false
   },
   "outputs": [
    {
     "data": {
      "text/plain": [
       "np.float64(5.390709677419355)"
      ]
     },
     "execution_count": 84,
     "metadata": {},
     "output_type": "execute_result"
    }
   ],
   "source": [
    "#7\n",
    "dataframe[filtering_series][\"Score\"].mean()  #Average of happiness score for filtered countries"
   ]
  },
  {
   "cell_type": "code",
   "execution_count": 85,
   "metadata": {
    "ExecuteTime": {
     "end_time": "2024-10-16T20:24:36.627628Z",
     "start_time": "2024-10-16T20:24:36.624872Z"
    },
    "id": "aErDzpSVIy3Q"
   },
   "outputs": [
    {
     "data": {
      "text/plain": [
       "78                       Greece\n",
       "79                      Lebanon\n",
       "80                   Montenegro\n",
       "81                      Croatia\n",
       "82           Dominican Republic\n",
       "                 ...           \n",
       "151                       Yemen\n",
       "152                    Tanzania\n",
       "153                 South Sudan\n",
       "154    Central African Republic\n",
       "155                     Burundi\n",
       "Name: Country or region, Length: 78, dtype: object"
      ]
     },
     "execution_count": 85,
     "metadata": {},
     "output_type": "execute_result"
    }
   ],
   "source": [
    "#8\n",
    "median_score = dataframe[\"Score\"].median()  #Median of the happiness scores\n",
    "filtering_series = median_score > dataframe[\"Score\"]  #Boolean Series as a filter\n",
    "filtered_countries = dataframe[filtering_series]\n",
    "filtered_countries[\"Country or region\"]  #Filtered countries as a dataframe"
   ]
  },
  {
   "cell_type": "code",
   "execution_count": 86,
   "metadata": {
    "ExecuteTime": {
     "end_time": "2024-10-16T20:24:36.655302Z",
     "start_time": "2024-10-16T20:24:36.652909Z"
    },
    "collapsed": false
   },
   "outputs": [
    {
     "data": {
      "text/plain": [
       "78"
      ]
     },
     "execution_count": 86,
     "metadata": {},
     "output_type": "execute_result"
    }
   ],
   "source": [
    "#8 \n",
    "len(filtered_countries)  #Number of countries "
   ]
  },
  {
   "cell_type": "code",
   "execution_count": 87,
   "metadata": {
    "ExecuteTime": {
     "end_time": "2024-10-16T20:24:36.670841Z",
     "start_time": "2024-10-16T20:24:36.663175Z"
    },
    "collapsed": false
   },
   "outputs": [
    {
     "data": {
      "text/html": [
       "<div>\n",
       "<style scoped>\n",
       "    .dataframe tbody tr th:only-of-type {\n",
       "        vertical-align: middle;\n",
       "    }\n",
       "\n",
       "    .dataframe tbody tr th {\n",
       "        vertical-align: top;\n",
       "    }\n",
       "\n",
       "    .dataframe thead th {\n",
       "        text-align: right;\n",
       "    }\n",
       "</style>\n",
       "<table border=\"1\" class=\"dataframe\">\n",
       "  <thead>\n",
       "    <tr style=\"text-align: right;\">\n",
       "      <th></th>\n",
       "      <th>Overall rank</th>\n",
       "      <th>Score</th>\n",
       "      <th>GDP per capita</th>\n",
       "      <th>Social support</th>\n",
       "      <th>Healthy life expectancy</th>\n",
       "      <th>Freedom to make life choices</th>\n",
       "      <th>Generosity</th>\n",
       "      <th>Perceptions of corruption</th>\n",
       "    </tr>\n",
       "  </thead>\n",
       "  <tbody>\n",
       "    <tr>\n",
       "      <th>count</th>\n",
       "      <td>156.000000</td>\n",
       "      <td>156.000000</td>\n",
       "      <td>156.000000</td>\n",
       "      <td>156.000000</td>\n",
       "      <td>156.000000</td>\n",
       "      <td>156.000000</td>\n",
       "      <td>156.000000</td>\n",
       "      <td>155.000000</td>\n",
       "    </tr>\n",
       "    <tr>\n",
       "      <th>mean</th>\n",
       "      <td>78.500000</td>\n",
       "      <td>5.375917</td>\n",
       "      <td>0.891449</td>\n",
       "      <td>1.213237</td>\n",
       "      <td>0.597346</td>\n",
       "      <td>0.454506</td>\n",
       "      <td>0.181006</td>\n",
       "      <td>0.112000</td>\n",
       "    </tr>\n",
       "    <tr>\n",
       "      <th>std</th>\n",
       "      <td>45.177428</td>\n",
       "      <td>1.119506</td>\n",
       "      <td>0.391921</td>\n",
       "      <td>0.302372</td>\n",
       "      <td>0.247579</td>\n",
       "      <td>0.162424</td>\n",
       "      <td>0.098471</td>\n",
       "      <td>0.096492</td>\n",
       "    </tr>\n",
       "    <tr>\n",
       "      <th>min</th>\n",
       "      <td>1.000000</td>\n",
       "      <td>2.905000</td>\n",
       "      <td>0.000000</td>\n",
       "      <td>0.000000</td>\n",
       "      <td>0.000000</td>\n",
       "      <td>0.000000</td>\n",
       "      <td>0.000000</td>\n",
       "      <td>0.000000</td>\n",
       "    </tr>\n",
       "    <tr>\n",
       "      <th>25%</th>\n",
       "      <td>39.750000</td>\n",
       "      <td>4.453750</td>\n",
       "      <td>0.616250</td>\n",
       "      <td>1.066750</td>\n",
       "      <td>0.422250</td>\n",
       "      <td>0.356000</td>\n",
       "      <td>0.109500</td>\n",
       "      <td>0.051000</td>\n",
       "    </tr>\n",
       "    <tr>\n",
       "      <th>50%</th>\n",
       "      <td>78.500000</td>\n",
       "      <td>5.378000</td>\n",
       "      <td>0.949500</td>\n",
       "      <td>1.255000</td>\n",
       "      <td>0.644000</td>\n",
       "      <td>0.487000</td>\n",
       "      <td>0.174000</td>\n",
       "      <td>0.082000</td>\n",
       "    </tr>\n",
       "    <tr>\n",
       "      <th>75%</th>\n",
       "      <td>117.250000</td>\n",
       "      <td>6.168500</td>\n",
       "      <td>1.197750</td>\n",
       "      <td>1.463000</td>\n",
       "      <td>0.777250</td>\n",
       "      <td>0.578500</td>\n",
       "      <td>0.239000</td>\n",
       "      <td>0.137000</td>\n",
       "    </tr>\n",
       "    <tr>\n",
       "      <th>max</th>\n",
       "      <td>156.000000</td>\n",
       "      <td>7.632000</td>\n",
       "      <td>2.096000</td>\n",
       "      <td>1.644000</td>\n",
       "      <td>1.030000</td>\n",
       "      <td>0.724000</td>\n",
       "      <td>0.598000</td>\n",
       "      <td>0.457000</td>\n",
       "    </tr>\n",
       "  </tbody>\n",
       "</table>\n",
       "</div>"
      ],
      "text/plain": [
       "       Overall rank       Score  GDP per capita  Social support  \\\n",
       "count    156.000000  156.000000      156.000000      156.000000   \n",
       "mean      78.500000    5.375917        0.891449        1.213237   \n",
       "std       45.177428    1.119506        0.391921        0.302372   \n",
       "min        1.000000    2.905000        0.000000        0.000000   \n",
       "25%       39.750000    4.453750        0.616250        1.066750   \n",
       "50%       78.500000    5.378000        0.949500        1.255000   \n",
       "75%      117.250000    6.168500        1.197750        1.463000   \n",
       "max      156.000000    7.632000        2.096000        1.644000   \n",
       "\n",
       "       Healthy life expectancy  Freedom to make life choices  Generosity  \\\n",
       "count               156.000000                    156.000000  156.000000   \n",
       "mean                  0.597346                      0.454506    0.181006   \n",
       "std                   0.247579                      0.162424    0.098471   \n",
       "min                   0.000000                      0.000000    0.000000   \n",
       "25%                   0.422250                      0.356000    0.109500   \n",
       "50%                   0.644000                      0.487000    0.174000   \n",
       "75%                   0.777250                      0.578500    0.239000   \n",
       "max                   1.030000                      0.724000    0.598000   \n",
       "\n",
       "       Perceptions of corruption  \n",
       "count                 155.000000  \n",
       "mean                    0.112000  \n",
       "std                     0.096492  \n",
       "min                     0.000000  \n",
       "25%                     0.051000  \n",
       "50%                     0.082000  \n",
       "75%                     0.137000  \n",
       "max                     0.457000  "
      ]
     },
     "execution_count": 87,
     "metadata": {},
     "output_type": "execute_result"
    }
   ],
   "source": [
    "#8\n",
    "dataframe.describe()"
   ]
  },
  {
   "cell_type": "code",
   "execution_count": 88,
   "metadata": {
    "ExecuteTime": {
     "end_time": "2024-10-16T20:24:36.678330Z",
     "start_time": "2024-10-16T20:24:36.671714Z"
    },
    "collapsed": false
   },
   "outputs": [
    {
     "data": {
      "text/html": [
       "<div>\n",
       "<style scoped>\n",
       "    .dataframe tbody tr th:only-of-type {\n",
       "        vertical-align: middle;\n",
       "    }\n",
       "\n",
       "    .dataframe tbody tr th {\n",
       "        vertical-align: top;\n",
       "    }\n",
       "\n",
       "    .dataframe thead th {\n",
       "        text-align: right;\n",
       "    }\n",
       "</style>\n",
       "<table border=\"1\" class=\"dataframe\">\n",
       "  <thead>\n",
       "    <tr style=\"text-align: right;\">\n",
       "      <th></th>\n",
       "      <th>Overall rank</th>\n",
       "      <th>Score</th>\n",
       "      <th>GDP per capita</th>\n",
       "      <th>Social support</th>\n",
       "      <th>Healthy life expectancy</th>\n",
       "      <th>Freedom to make life choices</th>\n",
       "      <th>Generosity</th>\n",
       "      <th>Perceptions of corruption</th>\n",
       "    </tr>\n",
       "  </thead>\n",
       "  <tbody>\n",
       "    <tr>\n",
       "      <th>count</th>\n",
       "      <td>78.000000</td>\n",
       "      <td>78.000000</td>\n",
       "      <td>78.000000</td>\n",
       "      <td>78.000000</td>\n",
       "      <td>78.000000</td>\n",
       "      <td>78.000000</td>\n",
       "      <td>78.000000</td>\n",
       "      <td>78.000000</td>\n",
       "    </tr>\n",
       "    <tr>\n",
       "      <th>mean</th>\n",
       "      <td>117.500000</td>\n",
       "      <td>4.449321</td>\n",
       "      <td>0.621256</td>\n",
       "      <td>1.019423</td>\n",
       "      <td>0.432962</td>\n",
       "      <td>0.386885</td>\n",
       "      <td>0.176705</td>\n",
       "      <td>0.088295</td>\n",
       "    </tr>\n",
       "    <tr>\n",
       "      <th>std</th>\n",
       "      <td>22.660538</td>\n",
       "      <td>0.623645</td>\n",
       "      <td>0.308177</td>\n",
       "      <td>0.288077</td>\n",
       "      <td>0.221797</td>\n",
       "      <td>0.169637</td>\n",
       "      <td>0.105170</td>\n",
       "      <td>0.064311</td>\n",
       "    </tr>\n",
       "    <tr>\n",
       "      <th>min</th>\n",
       "      <td>79.000000</td>\n",
       "      <td>2.905000</td>\n",
       "      <td>0.000000</td>\n",
       "      <td>0.000000</td>\n",
       "      <td>0.000000</td>\n",
       "      <td>0.000000</td>\n",
       "      <td>0.000000</td>\n",
       "      <td>0.000000</td>\n",
       "    </tr>\n",
       "    <tr>\n",
       "      <th>25%</th>\n",
       "      <td>98.250000</td>\n",
       "      <td>4.139500</td>\n",
       "      <td>0.357250</td>\n",
       "      <td>0.860250</td>\n",
       "      <td>0.254250</td>\n",
       "      <td>0.283000</td>\n",
       "      <td>0.112250</td>\n",
       "      <td>0.052000</td>\n",
       "    </tr>\n",
       "    <tr>\n",
       "      <th>50%</th>\n",
       "      <td>117.500000</td>\n",
       "      <td>4.451500</td>\n",
       "      <td>0.623500</td>\n",
       "      <td>1.083000</td>\n",
       "      <td>0.423000</td>\n",
       "      <td>0.419000</td>\n",
       "      <td>0.174000</td>\n",
       "      <td>0.077500</td>\n",
       "    </tr>\n",
       "    <tr>\n",
       "      <th>75%</th>\n",
       "      <td>136.750000</td>\n",
       "      <td>4.980250</td>\n",
       "      <td>0.910500</td>\n",
       "      <td>1.215000</td>\n",
       "      <td>0.612750</td>\n",
       "      <td>0.515500</td>\n",
       "      <td>0.219500</td>\n",
       "      <td>0.105500</td>\n",
       "    </tr>\n",
       "    <tr>\n",
       "      <th>max</th>\n",
       "      <td>156.000000</td>\n",
       "      <td>5.358000</td>\n",
       "      <td>1.154000</td>\n",
       "      <td>1.517000</td>\n",
       "      <td>0.879000</td>\n",
       "      <td>0.696000</td>\n",
       "      <td>0.598000</td>\n",
       "      <td>0.444000</td>\n",
       "    </tr>\n",
       "  </tbody>\n",
       "</table>\n",
       "</div>"
      ],
      "text/plain": [
       "       Overall rank      Score  GDP per capita  Social support  \\\n",
       "count     78.000000  78.000000       78.000000       78.000000   \n",
       "mean     117.500000   4.449321        0.621256        1.019423   \n",
       "std       22.660538   0.623645        0.308177        0.288077   \n",
       "min       79.000000   2.905000        0.000000        0.000000   \n",
       "25%       98.250000   4.139500        0.357250        0.860250   \n",
       "50%      117.500000   4.451500        0.623500        1.083000   \n",
       "75%      136.750000   4.980250        0.910500        1.215000   \n",
       "max      156.000000   5.358000        1.154000        1.517000   \n",
       "\n",
       "       Healthy life expectancy  Freedom to make life choices  Generosity  \\\n",
       "count                78.000000                     78.000000   78.000000   \n",
       "mean                  0.432962                      0.386885    0.176705   \n",
       "std                   0.221797                      0.169637    0.105170   \n",
       "min                   0.000000                      0.000000    0.000000   \n",
       "25%                   0.254250                      0.283000    0.112250   \n",
       "50%                   0.423000                      0.419000    0.174000   \n",
       "75%                   0.612750                      0.515500    0.219500   \n",
       "max                   0.879000                      0.696000    0.598000   \n",
       "\n",
       "       Perceptions of corruption  \n",
       "count                  78.000000  \n",
       "mean                    0.088295  \n",
       "std                     0.064311  \n",
       "min                     0.000000  \n",
       "25%                     0.052000  \n",
       "50%                     0.077500  \n",
       "75%                     0.105500  \n",
       "max                     0.444000  "
      ]
     },
     "execution_count": 88,
     "metadata": {},
     "output_type": "execute_result"
    }
   ],
   "source": [
    "#8\n",
    "\"\"\"\n",
    "When we compare less happy countries with global mean, we can see that they are also lagging behind in other parameters.\n",
    "They have less salaries, social supports, healthy lives, freedom, generosity. At the same time, their belief in the existence of corruption in their countries is also stronger.\n",
    "\"\"\"\n",
    "filtered_countries.describe()"
   ]
  },
  {
   "cell_type": "code",
   "execution_count": 89,
   "metadata": {
    "ExecuteTime": {
     "end_time": "2024-10-16T20:24:36.681948Z",
     "start_time": "2024-10-16T20:24:36.679042Z"
    },
    "collapsed": false
   },
   "outputs": [
    {
     "data": {
      "text/plain": [
       "0              Finland\n",
       "1               Norway\n",
       "2              Denmark\n",
       "3              Iceland\n",
       "4          Switzerland\n",
       "5          Netherlands\n",
       "6               Canada\n",
       "7          New Zealand\n",
       "8               Sweden\n",
       "9            Australia\n",
       "11             Austria\n",
       "12          Costa Rica\n",
       "13             Ireland\n",
       "14             Germany\n",
       "15             Belgium\n",
       "16          Luxembourg\n",
       "17       United States\n",
       "18              Israel\n",
       "20      Czech Republic\n",
       "21               Malta\n",
       "22              France\n",
       "26              Panama\n",
       "27              Brazil\n",
       "28           Argentina\n",
       "30             Uruguay\n",
       "31               Qatar\n",
       "33           Singapore\n",
       "40           Nicaragua\n",
       "41              Poland\n",
       "42             Bahrain\n",
       "44              Kuwait\n",
       "45            Thailand\n",
       "47             Ecuador\n",
       "50            Slovenia\n",
       "51             Romania\n",
       "53               Japan\n",
       "54           Mauritius\n",
       "55             Jamaica\n",
       "57     Northern Cyprus\n",
       "62             Estonia\n",
       "64                Peru\n",
       "75           Hong Kong\n",
       "76            Portugal\n",
       "79             Lebanon\n",
       "85               China\n",
       "94             Vietnam\n",
       "115          Sri Lanka\n",
       "Name: Country or region, dtype: object"
      ]
     },
     "execution_count": 89,
     "metadata": {},
     "output_type": "execute_result"
    }
   ],
   "source": [
    "#9\n",
    "median_score = dataframe[\"Freedom to make life choices\"].median()\n",
    "median_score_1 = dataframe[\"Healthy life expectancy\"].median()\n",
    "filtering_series = (dataframe[\"Freedom to make life choices\"] > median_score) & (\n",
    "        dataframe[\"Healthy life expectancy\"] > median_score_1)\n",
    "\n",
    "filtered_countries = dataframe[filtering_series][\"Country or region\"]\n",
    "filtered_countries"
   ]
  },
  {
   "cell_type": "code",
   "execution_count": 90,
   "metadata": {
    "ExecuteTime": {
     "end_time": "2024-10-16T20:24:36.697922Z",
     "start_time": "2024-10-16T20:24:36.695853Z"
    },
    "collapsed": false
   },
   "outputs": [
    {
     "data": {
      "text/plain": [
       "47"
      ]
     },
     "execution_count": 90,
     "metadata": {},
     "output_type": "execute_result"
    }
   ],
   "source": [
    "#9\n",
    "len(filtered_countries)  #Number of countries where both Freedom to Make Life Choices and Healthy Life Expectancy are above the global median"
   ]
  },
  {
   "cell_type": "markdown",
   "metadata": {
    "id": "BPt91yizJhpJ"
   },
   "source": [
    "# **PART- 2**\n",
    "\n",
    "**Set of Questions on the passenger_demographics.csv and passenger_survival.csv** **(25 Pts)**\n",
    "\n",
    "**Dataset Path: \"Data/passenger_demographics.csv\" and \"Data/passenger_survival.csv\"**"
   ]
  },
  {
   "cell_type": "markdown",
   "metadata": {
    "id": "OX2D4qaNT3na"
   },
   "source": [
    "# Q1. Data Merging and Consistency Checking\n",
    "\n",
    "\n",
    "1. Merge the datasets on PassengerId into a single DataFrame. How many rows are there in the merged dataset? **(3 Pts)**\n",
    "2. Perform a consistency check for duplicated rows. After merging, check for any duplicated rows in the merged dataset and provide a summary of your findings. Provide the details (average, mean, etc.) of each feature in the merged DataFrame. **(3 Pts)**\n",
    "3. Determine the survival rate for each passenger class and gender. Analyze how the survival rate varies among different classes (Pclass) and genders. **(3 Pts)**\n",
    "4. Analyze the effect of age on survival probability. Determine whether age significantly affects the probability of survival. Use statistical techniques to explore this relationship.(use binning) **(4 Pts)**\n",
    "5. Investigate the impact of family size on survival. Determine if family size (based on the number of siblings/spouses and parents/children aboard) has any correlation with survival. **(4 Pts)**\n",
    "6. Determine the most common embarkation point among survivors. Find out which embarkation point (C, Q, or S) had the highest survival rate. **(4 Pts)**\n",
    "7. Evaluate the correlation between Fare and Survival. Determine if there is a correlation between the fare paid and the survival status of the passengers. **(4 Pts)**"
   ]
  },
  {
   "cell_type": "code",
   "execution_count": 91,
   "metadata": {
    "ExecuteTime": {
     "end_time": "2024-10-16T20:24:36.715685Z",
     "start_time": "2024-10-16T20:24:36.711278Z"
    },
    "id": "Lhe7YtGBYtjD"
   },
   "outputs": [
    {
     "data": {
      "text/plain": [
       "891"
      ]
     },
     "execution_count": 91,
     "metadata": {},
     "output_type": "execute_result"
    }
   ],
   "source": [
    "#1\n",
    "demographics_df = pd.read_csv(\"Data/passenger_demographics.csv\")\n",
    "survival_df = pd.read_csv(\"Data/passenger_survival.csv\")\n",
    "dataframe = pd.merge(demographics_df, survival_df, on=\"PassengerId\")  #Merges dataframes on Passenger ID column\n",
    "len(dataframe)  #Number of rows inside merged dataframe"
   ]
  },
  {
   "cell_type": "code",
   "execution_count": 92,
   "metadata": {
    "ExecuteTime": {
     "end_time": "2024-10-16T20:24:36.748861Z",
     "start_time": "2024-10-16T20:24:36.745239Z"
    },
    "id": "WsIKBmxnYuZc"
   },
   "outputs": [
    {
     "data": {
      "text/plain": [
       "0"
      ]
     },
     "execution_count": 92,
     "metadata": {},
     "output_type": "execute_result"
    }
   ],
   "source": [
    "#2\n",
    "#There is no duplicate\n",
    "len(dataframe[dataframe.duplicated(keep=False)])"
   ]
  },
  {
   "cell_type": "code",
   "execution_count": 93,
   "metadata": {
    "ExecuteTime": {
     "end_time": "2024-10-16T20:24:36.781976Z",
     "start_time": "2024-10-16T20:24:36.772991Z"
    },
    "collapsed": false
   },
   "outputs": [
    {
     "data": {
      "text/html": [
       "<div>\n",
       "<style scoped>\n",
       "    .dataframe tbody tr th:only-of-type {\n",
       "        vertical-align: middle;\n",
       "    }\n",
       "\n",
       "    .dataframe tbody tr th {\n",
       "        vertical-align: top;\n",
       "    }\n",
       "\n",
       "    .dataframe thead th {\n",
       "        text-align: right;\n",
       "    }\n",
       "</style>\n",
       "<table border=\"1\" class=\"dataframe\">\n",
       "  <thead>\n",
       "    <tr style=\"text-align: right;\">\n",
       "      <th></th>\n",
       "      <th>PassengerId</th>\n",
       "      <th>Pclass</th>\n",
       "      <th>Sex</th>\n",
       "      <th>Age</th>\n",
       "      <th>SibSp</th>\n",
       "      <th>Parch</th>\n",
       "      <th>Survived</th>\n",
       "      <th>Fare</th>\n",
       "      <th>Embarked</th>\n",
       "    </tr>\n",
       "  </thead>\n",
       "  <tbody>\n",
       "    <tr>\n",
       "      <th>count</th>\n",
       "      <td>891.000000</td>\n",
       "      <td>891.000000</td>\n",
       "      <td>891</td>\n",
       "      <td>714.000000</td>\n",
       "      <td>891.000000</td>\n",
       "      <td>891.000000</td>\n",
       "      <td>891.000000</td>\n",
       "      <td>891.000000</td>\n",
       "      <td>889</td>\n",
       "    </tr>\n",
       "    <tr>\n",
       "      <th>unique</th>\n",
       "      <td>NaN</td>\n",
       "      <td>NaN</td>\n",
       "      <td>2</td>\n",
       "      <td>NaN</td>\n",
       "      <td>NaN</td>\n",
       "      <td>NaN</td>\n",
       "      <td>NaN</td>\n",
       "      <td>NaN</td>\n",
       "      <td>3</td>\n",
       "    </tr>\n",
       "    <tr>\n",
       "      <th>top</th>\n",
       "      <td>NaN</td>\n",
       "      <td>NaN</td>\n",
       "      <td>male</td>\n",
       "      <td>NaN</td>\n",
       "      <td>NaN</td>\n",
       "      <td>NaN</td>\n",
       "      <td>NaN</td>\n",
       "      <td>NaN</td>\n",
       "      <td>S</td>\n",
       "    </tr>\n",
       "    <tr>\n",
       "      <th>freq</th>\n",
       "      <td>NaN</td>\n",
       "      <td>NaN</td>\n",
       "      <td>577</td>\n",
       "      <td>NaN</td>\n",
       "      <td>NaN</td>\n",
       "      <td>NaN</td>\n",
       "      <td>NaN</td>\n",
       "      <td>NaN</td>\n",
       "      <td>644</td>\n",
       "    </tr>\n",
       "    <tr>\n",
       "      <th>mean</th>\n",
       "      <td>446.000000</td>\n",
       "      <td>2.308642</td>\n",
       "      <td>NaN</td>\n",
       "      <td>29.699118</td>\n",
       "      <td>0.523008</td>\n",
       "      <td>0.381594</td>\n",
       "      <td>0.383838</td>\n",
       "      <td>32.204208</td>\n",
       "      <td>NaN</td>\n",
       "    </tr>\n",
       "    <tr>\n",
       "      <th>std</th>\n",
       "      <td>257.353842</td>\n",
       "      <td>0.836071</td>\n",
       "      <td>NaN</td>\n",
       "      <td>14.526497</td>\n",
       "      <td>1.102743</td>\n",
       "      <td>0.806057</td>\n",
       "      <td>0.486592</td>\n",
       "      <td>49.693429</td>\n",
       "      <td>NaN</td>\n",
       "    </tr>\n",
       "    <tr>\n",
       "      <th>min</th>\n",
       "      <td>1.000000</td>\n",
       "      <td>1.000000</td>\n",
       "      <td>NaN</td>\n",
       "      <td>0.420000</td>\n",
       "      <td>0.000000</td>\n",
       "      <td>0.000000</td>\n",
       "      <td>0.000000</td>\n",
       "      <td>0.000000</td>\n",
       "      <td>NaN</td>\n",
       "    </tr>\n",
       "    <tr>\n",
       "      <th>25%</th>\n",
       "      <td>223.500000</td>\n",
       "      <td>2.000000</td>\n",
       "      <td>NaN</td>\n",
       "      <td>20.125000</td>\n",
       "      <td>0.000000</td>\n",
       "      <td>0.000000</td>\n",
       "      <td>0.000000</td>\n",
       "      <td>7.910400</td>\n",
       "      <td>NaN</td>\n",
       "    </tr>\n",
       "    <tr>\n",
       "      <th>50%</th>\n",
       "      <td>446.000000</td>\n",
       "      <td>3.000000</td>\n",
       "      <td>NaN</td>\n",
       "      <td>28.000000</td>\n",
       "      <td>0.000000</td>\n",
       "      <td>0.000000</td>\n",
       "      <td>0.000000</td>\n",
       "      <td>14.454200</td>\n",
       "      <td>NaN</td>\n",
       "    </tr>\n",
       "    <tr>\n",
       "      <th>75%</th>\n",
       "      <td>668.500000</td>\n",
       "      <td>3.000000</td>\n",
       "      <td>NaN</td>\n",
       "      <td>38.000000</td>\n",
       "      <td>1.000000</td>\n",
       "      <td>0.000000</td>\n",
       "      <td>1.000000</td>\n",
       "      <td>31.000000</td>\n",
       "      <td>NaN</td>\n",
       "    </tr>\n",
       "    <tr>\n",
       "      <th>max</th>\n",
       "      <td>891.000000</td>\n",
       "      <td>3.000000</td>\n",
       "      <td>NaN</td>\n",
       "      <td>80.000000</td>\n",
       "      <td>8.000000</td>\n",
       "      <td>6.000000</td>\n",
       "      <td>1.000000</td>\n",
       "      <td>512.329200</td>\n",
       "      <td>NaN</td>\n",
       "    </tr>\n",
       "  </tbody>\n",
       "</table>\n",
       "</div>"
      ],
      "text/plain": [
       "        PassengerId      Pclass   Sex         Age       SibSp       Parch  \\\n",
       "count    891.000000  891.000000   891  714.000000  891.000000  891.000000   \n",
       "unique          NaN         NaN     2         NaN         NaN         NaN   \n",
       "top             NaN         NaN  male         NaN         NaN         NaN   \n",
       "freq            NaN         NaN   577         NaN         NaN         NaN   \n",
       "mean     446.000000    2.308642   NaN   29.699118    0.523008    0.381594   \n",
       "std      257.353842    0.836071   NaN   14.526497    1.102743    0.806057   \n",
       "min        1.000000    1.000000   NaN    0.420000    0.000000    0.000000   \n",
       "25%      223.500000    2.000000   NaN   20.125000    0.000000    0.000000   \n",
       "50%      446.000000    3.000000   NaN   28.000000    0.000000    0.000000   \n",
       "75%      668.500000    3.000000   NaN   38.000000    1.000000    0.000000   \n",
       "max      891.000000    3.000000   NaN   80.000000    8.000000    6.000000   \n",
       "\n",
       "          Survived        Fare Embarked  \n",
       "count   891.000000  891.000000      889  \n",
       "unique         NaN         NaN        3  \n",
       "top            NaN         NaN        S  \n",
       "freq           NaN         NaN      644  \n",
       "mean      0.383838   32.204208      NaN  \n",
       "std       0.486592   49.693429      NaN  \n",
       "min       0.000000    0.000000      NaN  \n",
       "25%       0.000000    7.910400      NaN  \n",
       "50%       0.000000   14.454200      NaN  \n",
       "75%       1.000000   31.000000      NaN  \n",
       "max       1.000000  512.329200      NaN  "
      ]
     },
     "execution_count": 93,
     "metadata": {},
     "output_type": "execute_result"
    }
   ],
   "source": [
    "#2\n",
    "dataframe.describe(include=\"all\")  #Summary of the data"
   ]
  },
  {
   "cell_type": "code",
   "execution_count": 94,
   "metadata": {
    "ExecuteTime": {
     "end_time": "2024-10-16T20:24:36.796528Z",
     "start_time": "2024-10-16T20:24:36.793185Z"
    },
    "collapsed": false
   },
   "outputs": [
    {
     "data": {
      "text/plain": [
       "Pclass  Sex   \n",
       "1       female    0.968085\n",
       "        male      0.368852\n",
       "2       female    0.921053\n",
       "        male      0.157407\n",
       "3       female    0.500000\n",
       "        male      0.135447\n",
       "Name: Survived, dtype: float64"
      ]
     },
     "execution_count": 94,
     "metadata": {},
     "output_type": "execute_result"
    }
   ],
   "source": [
    "#3\n",
    "#Females has higher survival rate than males and class also increases survival probability. \n",
    "dataframe.groupby([\"Pclass\", \"Sex\"])[\"Survived\"].mean()"
   ]
  },
  {
   "cell_type": "code",
   "execution_count": 95,
   "metadata": {
    "ExecuteTime": {
     "end_time": "2024-10-16T20:24:36.846305Z",
     "start_time": "2024-10-16T20:24:36.843404Z"
    },
    "id": "vHLFSeDKYuVG"
   },
   "outputs": [],
   "source": [
    "#3\n",
    "male_dataframe = dataframe[dataframe[\"Sex\"] == \"male\"]\n",
    "female_dataframe = dataframe[dataframe[\"Sex\"] == \"female\"]\n",
    "\n",
    "male_count = len(male_dataframe)\n",
    "female_count = len(female_dataframe)\n",
    "\n",
    "male_survived = male_dataframe[\"Survived\"].sum()\n",
    "female_survived = female_dataframe[\"Survived\"].sum()\n",
    "\n"
   ]
  },
  {
   "cell_type": "code",
   "execution_count": 96,
   "metadata": {
    "ExecuteTime": {
     "end_time": "2024-10-16T20:24:36.872377Z",
     "start_time": "2024-10-16T20:24:36.870104Z"
    },
    "collapsed": false
   },
   "outputs": [
    {
     "data": {
      "text/plain": [
       "18"
      ]
     },
     "execution_count": 96,
     "metadata": {},
     "output_type": "execute_result"
    }
   ],
   "source": [
    "#3\n",
    "int(male_survived / male_count * 100)  #Survival rate of males"
   ]
  },
  {
   "cell_type": "code",
   "execution_count": 97,
   "metadata": {
    "ExecuteTime": {
     "end_time": "2024-10-16T20:24:36.908127Z",
     "start_time": "2024-10-16T20:24:36.905650Z"
    },
    "collapsed": false
   },
   "outputs": [
    {
     "data": {
      "text/plain": [
       "74"
      ]
     },
     "execution_count": 97,
     "metadata": {},
     "output_type": "execute_result"
    }
   ],
   "source": [
    "#3\n",
    "int(female_survived / female_count * 100)  #Survival rate of females, percentage almost equals to 4 times of males' percentage. "
   ]
  },
  {
   "cell_type": "code",
   "execution_count": 98,
   "metadata": {
    "ExecuteTime": {
     "end_time": "2024-10-16T20:24:36.916581Z",
     "start_time": "2024-10-16T20:24:36.913708Z"
    },
    "collapsed": false
   },
   "outputs": [],
   "source": [
    "#3\n",
    "first_class_df = dataframe[dataframe[\"Pclass\"] == 1]\n",
    "second_class_df = dataframe[dataframe[\"Pclass\"] == 2]\n",
    "third_class_df = dataframe[dataframe[\"Pclass\"] == 3]\n",
    "\n",
    "first_class_count = len(first_class_df)\n",
    "second_class_count = len(second_class_df)\n",
    "third_class_count = len(third_class_df)\n",
    "\n",
    "first_class_survived = first_class_df[\"Survived\"].sum()\n",
    "second_class_survived = second_class_df[\"Survived\"].sum()\n",
    "third_class_survived = third_class_df[\"Survived\"].sum()"
   ]
  },
  {
   "cell_type": "code",
   "execution_count": 99,
   "metadata": {
    "ExecuteTime": {
     "end_time": "2024-10-16T20:24:36.933232Z",
     "start_time": "2024-10-16T20:24:36.931446Z"
    },
    "collapsed": false
   },
   "outputs": [
    {
     "data": {
      "text/plain": [
       "62"
      ]
     },
     "execution_count": 99,
     "metadata": {},
     "output_type": "execute_result"
    }
   ],
   "source": [
    "#3\n",
    "int(first_class_survived / first_class_count * 100)  #Survival rate of first class"
   ]
  },
  {
   "cell_type": "code",
   "execution_count": 100,
   "metadata": {
    "ExecuteTime": {
     "end_time": "2024-10-16T20:24:36.954769Z",
     "start_time": "2024-10-16T20:24:36.952657Z"
    },
    "collapsed": false
   },
   "outputs": [
    {
     "data": {
      "text/plain": [
       "47"
      ]
     },
     "execution_count": 100,
     "metadata": {},
     "output_type": "execute_result"
    }
   ],
   "source": [
    "#3\n",
    "int(second_class_survived / second_class_count * 100)  #Survival rate of second class"
   ]
  },
  {
   "cell_type": "code",
   "execution_count": 101,
   "metadata": {
    "ExecuteTime": {
     "end_time": "2024-10-16T20:24:36.966921Z",
     "start_time": "2024-10-16T20:24:36.964847Z"
    },
    "collapsed": false
   },
   "outputs": [
    {
     "data": {
      "text/plain": [
       "24"
      ]
     },
     "execution_count": 101,
     "metadata": {},
     "output_type": "execute_result"
    }
   ],
   "source": [
    "#3\n",
    "int(third_class_survived / third_class_count * 100)  #Survival rate of first class, as the social class increases, the survival rate noticeably rises."
   ]
  },
  {
   "cell_type": "code",
   "execution_count": 102,
   "metadata": {
    "ExecuteTime": {
     "end_time": "2024-10-16T20:24:36.980394Z",
     "start_time": "2024-10-16T20:24:36.975668Z"
    },
    "id": "3nrS1BgFYuQJ"
   },
   "outputs": [
    {
     "data": {
      "text/plain": [
       "AgeGroup\n",
       "0-9      0.612903\n",
       "10-19    0.401961\n",
       "20-29    0.350000\n",
       "30-39    0.437126\n",
       "40-49    0.382022\n",
       "50-59    0.416667\n",
       "60-69    0.315789\n",
       "70-79    0.000000\n",
       "80-89    1.000000\n",
       "90-99         NaN\n",
       "Name: Survived, dtype: float64"
      ]
     },
     "execution_count": 102,
     "metadata": {},
     "output_type": "execute_result"
    }
   ],
   "source": [
    "#4  \n",
    "age_bins = [0, 10, 20, 30, 40, 50, 60, 70, 80, 90, 100]\n",
    "age_labels = [\"0-9\", \"10-19\", \"20-29\", \"30-39\", \"40-49\", \"50-59\", \"60-69\", \"70-79\", \"80-89\", \"90-99\"]\n",
    "\n",
    "dataframe['AgeGroup'] = pd.cut(dataframe['Age'], bins=age_bins, labels=age_labels, right=False)\n",
    "#Since survival rate varies among 1 and 0, mean can be used as survival rate.\n",
    "age_groups_survival_rate = dataframe.groupby('AgeGroup', observed=False)['Survived'].mean()\n",
    "\n",
    "age_groups_survival_rate\n",
    "\n",
    "#The survival rate is almost uniform except at the ends, there isn't a significant correlation between age and survival."
   ]
  },
  {
   "cell_type": "code",
   "execution_count": 103,
   "metadata": {
    "ExecuteTime": {
     "end_time": "2024-10-16T20:24:37.002781Z",
     "start_time": "2024-10-16T20:24:36.998755Z"
    },
    "id": "xlco8hajYuIX"
   },
   "outputs": [
    {
     "data": {
      "text/plain": [
       "FamilySizeCategory\n",
       "0    0.303538\n",
       "1    0.552795\n",
       "2    0.578431\n",
       "3    0.724138\n",
       "4    0.200000\n",
       "5    0.136364\n",
       "6    0.333333\n",
       "7    0.000000\n",
       "8         NaN\n",
       "9         NaN\n",
       "Name: Survived, dtype: float64"
      ]
     },
     "execution_count": 103,
     "metadata": {},
     "output_type": "execute_result"
    }
   ],
   "source": [
    "#5\n",
    "dataframe[\"FamSize\"] = dataframe[\"SibSp\"] + dataframe[\"Parch\"]\n",
    "family_size_bins = [0, 1, 2, 3, 4, 5, 6, 7, 8, 9, 10]\n",
    "family_size_labels = [\"0\", \"1\", \"2\", \"3\", \"4\", \"5\", \"6\", \"7\", \"8\", \"9\"]\n",
    "\n",
    "dataframe[\"FamilySizeCategory\"] = pd.cut(dataframe[\"FamSize\"], bins=family_size_bins, labels=family_size_labels,\n",
    "                                         right=False)\n",
    "family_size_groups_survival_rate = dataframe.groupby(\"FamilySizeCategory\", observed=False)['Survived'].mean()\n",
    "\n",
    "family_size_groups_survival_rate\n",
    "#Small families are better than large families for survival. Most optimal family size looks like 3, but there is not a direct correlation."
   ]
  },
  {
   "cell_type": "code",
   "execution_count": 104,
   "metadata": {
    "ExecuteTime": {
     "end_time": "2024-10-16T20:24:37.016613Z",
     "start_time": "2024-10-16T20:24:37.013473Z"
    },
    "id": "RdPyq5mFYuCT"
   },
   "outputs": [
    {
     "name": "stdout",
     "output_type": "stream",
     "text": [
      "Q: 30, S: 217, C: 93\n"
     ]
    },
    {
     "data": {
      "text/plain": [
       "'The S embarkation point had the most survivals.'"
      ]
     },
     "execution_count": 104,
     "metadata": {},
     "output_type": "execute_result"
    }
   ],
   "source": [
    "#6\n",
    "survivors_dataframe = dataframe[dataframe[\"Survived\"] == 1]\n",
    "q_point_survived_count = len(survivors_dataframe[survivors_dataframe[\"Embarked\"] == \"Q\"])\n",
    "s_point_survived_count = len(survivors_dataframe[survivors_dataframe[\"Embarked\"] == \"S\"])\n",
    "c_point_survived_count = len(survivors_dataframe[survivors_dataframe[\"Embarked\"] == \"C\"])\n",
    "print(f\"Q: {q_point_survived_count}, S: {s_point_survived_count}, C: {c_point_survived_count}\")\n",
    "\"The S embarkation point had the most survivals.\""
   ]
  },
  {
   "cell_type": "code",
   "execution_count": 105,
   "metadata": {
    "ExecuteTime": {
     "end_time": "2024-10-16T20:24:37.028466Z",
     "start_time": "2024-10-16T20:24:37.025311Z"
    },
    "collapsed": false
   },
   "outputs": [
    {
     "data": {
      "text/plain": [
       "Embarked\n",
       "C    55.357143\n",
       "Q    38.961039\n",
       "S    33.695652\n",
       "Name: Survived, dtype: float64"
      ]
     },
     "metadata": {},
     "output_type": "display_data"
    },
    {
     "data": {
      "text/plain": [
       "'The highest survival rate is at C point'"
      ]
     },
     "execution_count": 105,
     "metadata": {},
     "output_type": "execute_result"
    }
   ],
   "source": [
    "display(dataframe.groupby(\"Embarked\")[\"Survived\"].mean() * 100)\n",
    "\"The highest survival rate is at C point\""
   ]
  },
  {
   "cell_type": "code",
   "execution_count": 106,
   "metadata": {
    "ExecuteTime": {
     "end_time": "2024-10-16T20:24:37.053400Z",
     "start_time": "2024-10-16T20:24:37.050844Z"
    },
    "id": "vH_UEV-QYt5x"
   },
   "outputs": [
    {
     "name": "stdout",
     "output_type": "stream",
     "text": [
      "Correlation coefficient : 0.2573065223849625\n",
      "This means that, generally, as the fare paid increases, the likelihood of survival also tends to increase, though the correlation is not very strong.\n"
     ]
    }
   ],
   "source": [
    "#7\n",
    "correlation_coe = dataframe[\"Survived\"].corr(dataframe[\"Fare\"])\n",
    "print(\n",
    "    f\"Correlation coefficient : {correlation_coe}\\nThis means that, generally, as the fare paid increases, the likelihood of survival also tends to increase, though the correlation is not very strong.\")"
   ]
  },
  {
   "cell_type": "markdown",
   "metadata": {
    "id": "_3suDJgQZm01"
   },
   "source": [
    "# **PART- 3**\n",
    "\n",
    "**Set of Questions on SQL - using sqlite3 library!**\n",
    "\n",
    "**Dataset Path: \"Data/supermarket_sales.csv\"**"
   ]
  },
  {
   "cell_type": "markdown",
   "metadata": {
    "id": "DOZouTkQh-aa"
   },
   "source": [
    "\n",
    "The Supermarket Sales Dataset is a comprehensive dataset designed to provide insights into the sales performance of a supermarket.\n",
    "\n",
    "We want to store this data in a relational database, with the following table schemas:"
   ]
  },
  {
   "cell_type": "markdown",
   "metadata": {
    "id": "8g3KN0RagrO4"
   },
   "source": [
    "# Tables\n",
    "\n",
    "## 1. Branches Table\n",
    "\n",
    "| Column   | Type  | Key      | Description                              |\n",
    "|----------|-------|----------|------------------------------------------|\n",
    "| BranchID | INTEGER  | PRIMARY  | Unique identifier for each branch        |\n",
    "| Branch | TEXT  |            |    Name of the supermarket branch        |\n",
    "| City     | TEXT  |          | City where the branch is located         |\n",
    "\n",
    "\n",
    "\n",
    "## 2. Products Table\n",
    "\n",
    "| Column      | Type  | Key      | Description                               |\n",
    "|-------------|-------|----------|-------------------------------------------|\n",
    "| ProductID | INTEGER  | PRIMARY  | Unique identifier for each product line   |\n",
    "| ProductLine | TEXT  |          | Category of the product |\n",
    "\n",
    "\n",
    "\n",
    "## 3. Orders Table\n",
    "\n",
    "| Column        | Type  | Key      | Description                                    |\n",
    "|---------------|-------|----------|------------------------------------------------|\n",
    "| OrderID       | TEXT  | PRIMARY  | Unique identifier for each order               |\n",
    "| BranchID      | INTEGER  |   FK       | Identifier for the branch of the order    |\n",
    "| ProductID   | INTEGER  |      FK    | Identifier linking to Products table ordered                      |\n",
    "| Quantity      | INTEGER |        | Number of units ordered                        |\n",
    "| UnitPrice   | REAL  |          | Price per unit of the product             |Total         | REAL  |          | Total sales value for the order               |\n",
    "| OrderDate     | TEXT  |          | Date when the order was placed                |\n",
    "| PaymentMethod | TEXT  |          | Method used for payment                       |\n",
    "| CustomerType  | TEXT  |          | Type of customer (e.g., Member, Normal)     |\n",
    "| Gender        | TEXT  |          | Gender of the customer                        |\n",
    "\n"
   ]
  },
  {
   "cell_type": "markdown",
   "metadata": {
    "id": "nWvMCCPLi2W0"
   },
   "source": [
    "Summary of Table Structures\n",
    "\n",
    "* Branches Table contains information about different supermarket branches.\n",
    "\n",
    "* Products Table details the various products available for purchase.\n",
    "* Orders Table records the transactions made, linking products and branches to specific purchases.\n"
   ]
  },
  {
   "cell_type": "markdown",
   "metadata": {
    "id": "jqFWg0pzhL9L"
   },
   "source": [
    "# **Questions** **(35 Pts)**\n",
    "\n",
    "1. Read the csv file and create this DB **(10 Pts)**\n",
    "2. Write a query to find the top 3 product lines with the highest total quantity sold, using a LIMIT statement. **(4 Pts)**\n",
    "3. Find the total revenue generated for each branch by product line **(4 Pts)**\n",
    "4. Find the total sales for each branch **(3 Pts)**\n",
    "5. Determine the number of orders placed by each gender **(3 Pts)**\n",
    "6. List the product lines sold in each branch and the number of orders **(4 Pts)**\n",
    "7. Find the highest quantity sold for a single order and the corresponding product line **(4 Pts)**\n",
    "8. Check for duplicated invoices **(3 Pts)**\n"
   ]
  },
  {
   "cell_type": "code",
   "execution_count": 107,
   "metadata": {
    "ExecuteTime": {
     "end_time": "2024-10-16T20:24:37.090932Z",
     "start_time": "2024-10-16T20:24:37.073924Z"
    },
    "id": "4Z4tAiQHlqnF"
   },
   "outputs": [
    {
     "data": {
      "text/html": [
       "<div>\n",
       "<style scoped>\n",
       "    .dataframe tbody tr th:only-of-type {\n",
       "        vertical-align: middle;\n",
       "    }\n",
       "\n",
       "    .dataframe tbody tr th {\n",
       "        vertical-align: top;\n",
       "    }\n",
       "\n",
       "    .dataframe thead th {\n",
       "        text-align: right;\n",
       "    }\n",
       "</style>\n",
       "<table border=\"1\" class=\"dataframe\">\n",
       "  <thead>\n",
       "    <tr style=\"text-align: right;\">\n",
       "      <th></th>\n",
       "      <th>Branch</th>\n",
       "      <th>City</th>\n",
       "      <th>BranchID</th>\n",
       "    </tr>\n",
       "  </thead>\n",
       "  <tbody>\n",
       "    <tr>\n",
       "      <th>0</th>\n",
       "      <td>A</td>\n",
       "      <td>Yangon</td>\n",
       "      <td>1</td>\n",
       "    </tr>\n",
       "    <tr>\n",
       "      <th>1</th>\n",
       "      <td>C</td>\n",
       "      <td>Naypyitaw</td>\n",
       "      <td>2</td>\n",
       "    </tr>\n",
       "    <tr>\n",
       "      <th>9</th>\n",
       "      <td>B</td>\n",
       "      <td>Mandalay</td>\n",
       "      <td>3</td>\n",
       "    </tr>\n",
       "  </tbody>\n",
       "</table>\n",
       "</div>"
      ],
      "text/plain": [
       "  Branch       City  BranchID\n",
       "0      A     Yangon         1\n",
       "1      C  Naypyitaw         2\n",
       "9      B   Mandalay         3"
      ]
     },
     "metadata": {},
     "output_type": "display_data"
    },
    {
     "data": {
      "text/html": [
       "<div>\n",
       "<style scoped>\n",
       "    .dataframe tbody tr th:only-of-type {\n",
       "        vertical-align: middle;\n",
       "    }\n",
       "\n",
       "    .dataframe tbody tr th {\n",
       "        vertical-align: top;\n",
       "    }\n",
       "\n",
       "    .dataframe thead th {\n",
       "        text-align: right;\n",
       "    }\n",
       "</style>\n",
       "<table border=\"1\" class=\"dataframe\">\n",
       "  <thead>\n",
       "    <tr style=\"text-align: right;\">\n",
       "      <th></th>\n",
       "      <th>ProductLine</th>\n",
       "      <th>ProductID</th>\n",
       "    </tr>\n",
       "  </thead>\n",
       "  <tbody>\n",
       "    <tr>\n",
       "      <th>0</th>\n",
       "      <td>Health and beauty</td>\n",
       "      <td>1</td>\n",
       "    </tr>\n",
       "    <tr>\n",
       "      <th>1</th>\n",
       "      <td>Electronic accessories</td>\n",
       "      <td>2</td>\n",
       "    </tr>\n",
       "    <tr>\n",
       "      <th>2</th>\n",
       "      <td>Home and lifestyle</td>\n",
       "      <td>3</td>\n",
       "    </tr>\n",
       "    <tr>\n",
       "      <th>4</th>\n",
       "      <td>Sports and travel</td>\n",
       "      <td>4</td>\n",
       "    </tr>\n",
       "    <tr>\n",
       "      <th>9</th>\n",
       "      <td>Food and beverages</td>\n",
       "      <td>5</td>\n",
       "    </tr>\n",
       "    <tr>\n",
       "      <th>10</th>\n",
       "      <td>Fashion accessories</td>\n",
       "      <td>6</td>\n",
       "    </tr>\n",
       "  </tbody>\n",
       "</table>\n",
       "</div>"
      ],
      "text/plain": [
       "               ProductLine  ProductID\n",
       "0        Health and beauty          1\n",
       "1   Electronic accessories          2\n",
       "2       Home and lifestyle          3\n",
       "4        Sports and travel          4\n",
       "9       Food and beverages          5\n",
       "10     Fashion accessories          6"
      ]
     },
     "metadata": {},
     "output_type": "display_data"
    }
   ],
   "source": [
    "dataframe = pd.read_csv(\"Data/supermarket_sales.csv\").drop_duplicates()  #Creates dataframe\n",
    "\n",
    "sql_connection = sqlite3.connect(\"supermarket_sales\", timeout=10)\n",
    "sql_cursor = sql_connection.cursor()  #sql settings\n",
    "\n",
    "sql_cursor.execute(\"DROP TABLE IF EXISTS Orders\")  #Rerun settings\n",
    "sql_cursor.execute(\"DROP TABLE IF EXISTS Products\")\n",
    "sql_cursor.execute(\"DROP TABLE IF EXISTS Branches\")\n",
    "\n",
    "#Creates tables in given structure\n",
    "sql_cursor.execute(\"\"\"\n",
    "CREATE TABLE IF NOT EXISTS Branches(\n",
    "BranchID INTEGER PRIMARY KEY,\n",
    "Branch TEXT,\n",
    "City TEXT)\n",
    "\"\"\")\n",
    "\n",
    "sql_cursor.execute(\"\"\"\n",
    "Create TABLE IF NOT EXISTS Products(\n",
    "ProductID INTEGER PRIMARY KEY,\n",
    "ProductLine TEXT)\n",
    "\"\"\")\n",
    "\n",
    "sql_cursor.execute('''\n",
    "CREATE TABLE IF NOT EXISTS Orders (\n",
    "    OrderID TEXT PRIMARY KEY,\n",
    "    BranchID INTEGER,\n",
    "    ProductID INTEGER,\n",
    "    Quantity INTEGER,\n",
    "    UnitPrice REAL,\n",
    "    Total REAL,\n",
    "    OrderDate TEXT,\n",
    "    PaymentMethod TEXT,\n",
    "    CustomerType TEXT,\n",
    "    Gender TEXT,\n",
    "    FOREIGN KEY (BranchID) REFERENCES Branches(BranchID),\n",
    "    FOREIGN KEY (ProductID) REFERENCES Products(ProductID)\n",
    ")\n",
    "''')\n",
    "\n",
    "#Takes columns for dataframes in given structure\n",
    "products_df = dataframe.loc[:, [\"Product line\"]]\n",
    "branches_df = dataframe.loc[:, [\"Branch\", \"City\"]]\n",
    "\n",
    "#Makes every row unique\n",
    "products_df.drop_duplicates(inplace=True)\n",
    "branches_df.drop_duplicates(inplace=True)\n",
    "\n",
    "#ID declaration\n",
    "products_df[\"ProductID\"] = range(1, len(products_df) + 1)\n",
    "branches_df[\"BranchID\"] = range(1, len(branches_df) + 1)\n",
    "\n",
    "#Adds new ID columns to main dataframe\n",
    "dataframe = dataframe.merge(branches_df, on=[\"Branch\", \"City\"], how=\"left\")\n",
    "dataframe = dataframe.merge(products_df, on=\"Product line\", how=\"left\")\n",
    "\n",
    "products_df.rename(columns={\"Product line\": \"ProductLine\"}, inplace=True)\n",
    "\n",
    "#Creates orders dataframe\n",
    "orders_df = dataframe[\n",
    "    [\"Invoice ID\", \"ProductID\", \"BranchID\", 'Quantity', \"Unit price\", \"Date\", \"Payment\", \"Customer type\",\n",
    "     \"Gender\"]].rename(\n",
    "    columns={\n",
    "        'Invoice ID': 'OrderID',\n",
    "        'Unit price': 'UnitPrice',\n",
    "        'Date': 'OrderDate',\n",
    "        'Payment': 'PaymentMethod',\n",
    "        \"Customer type\": 'CustomerType'\n",
    "    })\n",
    "\n",
    "#Saves data into db\n",
    "orders_df.to_sql(name=\"Orders\", con=sql_connection, index=False, if_exists=\"append\")\n",
    "products_df.to_sql(name=\"Products\", con=sql_connection, index=False, if_exists=\"append\")\n",
    "branches_df.to_sql(name=\"Branches\", con=sql_connection, index=False, if_exists=\"append\")\n",
    "\n",
    "sql_connection.close()\n",
    "\n",
    "display(branches_df, products_df)"
   ]
  },
  {
   "cell_type": "code",
   "execution_count": 108,
   "metadata": {
    "ExecuteTime": {
     "end_time": "2024-10-16T20:24:37.101668Z",
     "start_time": "2024-10-16T20:24:37.097855Z"
    },
    "id": "5V2Ubeyclqjc"
   },
   "outputs": [
    {
     "data": {
      "text/html": [
       "<div>\n",
       "<style scoped>\n",
       "    .dataframe tbody tr th:only-of-type {\n",
       "        vertical-align: middle;\n",
       "    }\n",
       "\n",
       "    .dataframe tbody tr th {\n",
       "        vertical-align: top;\n",
       "    }\n",
       "\n",
       "    .dataframe thead th {\n",
       "        text-align: right;\n",
       "    }\n",
       "</style>\n",
       "<table border=\"1\" class=\"dataframe\">\n",
       "  <thead>\n",
       "    <tr style=\"text-align: right;\">\n",
       "      <th></th>\n",
       "      <th>ProductID</th>\n",
       "      <th>ProductLine</th>\n",
       "      <th>sale_count</th>\n",
       "    </tr>\n",
       "  </thead>\n",
       "  <tbody>\n",
       "    <tr>\n",
       "      <th>0</th>\n",
       "      <td>2</td>\n",
       "      <td>Electronic accessories</td>\n",
       "      <td>971</td>\n",
       "    </tr>\n",
       "    <tr>\n",
       "      <th>1</th>\n",
       "      <td>5</td>\n",
       "      <td>Food and beverages</td>\n",
       "      <td>952</td>\n",
       "    </tr>\n",
       "    <tr>\n",
       "      <th>2</th>\n",
       "      <td>4</td>\n",
       "      <td>Sports and travel</td>\n",
       "      <td>920</td>\n",
       "    </tr>\n",
       "  </tbody>\n",
       "</table>\n",
       "</div>"
      ],
      "text/plain": [
       "   ProductID             ProductLine  sale_count\n",
       "0          2  Electronic accessories         971\n",
       "1          5      Food and beverages         952\n",
       "2          4       Sports and travel         920"
      ]
     },
     "execution_count": 108,
     "metadata": {},
     "output_type": "execute_result"
    }
   ],
   "source": [
    "#2\n",
    "sql_connection = sqlite3.connect(\"supermarket_sales\", timeout=10)\n",
    "sql_cursor = sql_connection.cursor()\n",
    "#\n",
    "query = pd.read_sql_query(\"\"\"\n",
    "SELECT Orders.ProductID, Products.ProductLine, SUM(Orders.Quantity) AS sale_count \n",
    "FROM Orders \n",
    "JOIN Products ON Orders.ProductID = Products.ProductID\n",
    "GROUP BY Products.ProductLine\n",
    "ORDER BY sale_count DESC\n",
    "LIMIT 3\n",
    "\"\"\", sql_connection)\n",
    "\n",
    "sql_connection.close()\n",
    "\n",
    "query"
   ]
  },
  {
   "cell_type": "code",
   "execution_count": 109,
   "metadata": {
    "ExecuteTime": {
     "end_time": "2024-10-16T20:24:37.115185Z",
     "start_time": "2024-10-16T20:24:37.110454Z"
    },
    "id": "qUjEH_LvlqfN"
   },
   "outputs": [
    {
     "data": {
      "text/html": [
       "<div>\n",
       "<style scoped>\n",
       "    .dataframe tbody tr th:only-of-type {\n",
       "        vertical-align: middle;\n",
       "    }\n",
       "\n",
       "    .dataframe tbody tr th {\n",
       "        vertical-align: top;\n",
       "    }\n",
       "\n",
       "    .dataframe thead th {\n",
       "        text-align: right;\n",
       "    }\n",
       "</style>\n",
       "<table border=\"1\" class=\"dataframe\">\n",
       "  <thead>\n",
       "    <tr style=\"text-align: right;\">\n",
       "      <th></th>\n",
       "      <th>Branch</th>\n",
       "      <th>ProductLine</th>\n",
       "      <th>total_revenue</th>\n",
       "    </tr>\n",
       "  </thead>\n",
       "  <tbody>\n",
       "    <tr>\n",
       "      <th>0</th>\n",
       "      <td>A</td>\n",
       "      <td>Health and beauty</td>\n",
       "      <td>11997.86</td>\n",
       "    </tr>\n",
       "    <tr>\n",
       "      <th>1</th>\n",
       "      <td>A</td>\n",
       "      <td>Fashion accessories</td>\n",
       "      <td>15554.77</td>\n",
       "    </tr>\n",
       "    <tr>\n",
       "      <th>2</th>\n",
       "      <td>A</td>\n",
       "      <td>Food and beverages</td>\n",
       "      <td>16345.81</td>\n",
       "    </tr>\n",
       "    <tr>\n",
       "      <th>3</th>\n",
       "      <td>A</td>\n",
       "      <td>Electronic accessories</td>\n",
       "      <td>17444.87</td>\n",
       "    </tr>\n",
       "    <tr>\n",
       "      <th>4</th>\n",
       "      <td>A</td>\n",
       "      <td>Sports and travel</td>\n",
       "      <td>18450.19</td>\n",
       "    </tr>\n",
       "    <tr>\n",
       "      <th>5</th>\n",
       "      <td>A</td>\n",
       "      <td>Home and lifestyle</td>\n",
       "      <td>21349.71</td>\n",
       "    </tr>\n",
       "    <tr>\n",
       "      <th>6</th>\n",
       "      <td>B</td>\n",
       "      <td>Food and beverages</td>\n",
       "      <td>14490.37</td>\n",
       "    </tr>\n",
       "    <tr>\n",
       "      <th>7</th>\n",
       "      <td>B</td>\n",
       "      <td>Fashion accessories</td>\n",
       "      <td>15631.73</td>\n",
       "    </tr>\n",
       "    <tr>\n",
       "      <th>8</th>\n",
       "      <td>B</td>\n",
       "      <td>Electronic accessories</td>\n",
       "      <td>16239.47</td>\n",
       "    </tr>\n",
       "    <tr>\n",
       "      <th>9</th>\n",
       "      <td>B</td>\n",
       "      <td>Home and lifestyle</td>\n",
       "      <td>16713.49</td>\n",
       "    </tr>\n",
       "    <tr>\n",
       "      <th>10</th>\n",
       "      <td>B</td>\n",
       "      <td>Health and beauty</td>\n",
       "      <td>19029.20</td>\n",
       "    </tr>\n",
       "    <tr>\n",
       "      <th>11</th>\n",
       "      <td>B</td>\n",
       "      <td>Sports and travel</td>\n",
       "      <td>19036.38</td>\n",
       "    </tr>\n",
       "    <tr>\n",
       "      <th>12</th>\n",
       "      <td>C</td>\n",
       "      <td>Home and lifestyle</td>\n",
       "      <td>13233.86</td>\n",
       "    </tr>\n",
       "    <tr>\n",
       "      <th>13</th>\n",
       "      <td>C</td>\n",
       "      <td>Sports and travel</td>\n",
       "      <td>15011.36</td>\n",
       "    </tr>\n",
       "    <tr>\n",
       "      <th>14</th>\n",
       "      <td>C</td>\n",
       "      <td>Health and beauty</td>\n",
       "      <td>15824.12</td>\n",
       "    </tr>\n",
       "    <tr>\n",
       "      <th>15</th>\n",
       "      <td>C</td>\n",
       "      <td>Electronic accessories</td>\n",
       "      <td>18065.69</td>\n",
       "    </tr>\n",
       "    <tr>\n",
       "      <th>16</th>\n",
       "      <td>C</td>\n",
       "      <td>Fashion accessories</td>\n",
       "      <td>20533.40</td>\n",
       "    </tr>\n",
       "    <tr>\n",
       "      <th>17</th>\n",
       "      <td>C</td>\n",
       "      <td>Food and beverages</td>\n",
       "      <td>22635.10</td>\n",
       "    </tr>\n",
       "  </tbody>\n",
       "</table>\n",
       "</div>"
      ],
      "text/plain": [
       "   Branch             ProductLine  total_revenue\n",
       "0       A       Health and beauty       11997.86\n",
       "1       A     Fashion accessories       15554.77\n",
       "2       A      Food and beverages       16345.81\n",
       "3       A  Electronic accessories       17444.87\n",
       "4       A       Sports and travel       18450.19\n",
       "5       A      Home and lifestyle       21349.71\n",
       "6       B      Food and beverages       14490.37\n",
       "7       B     Fashion accessories       15631.73\n",
       "8       B  Electronic accessories       16239.47\n",
       "9       B      Home and lifestyle       16713.49\n",
       "10      B       Health and beauty       19029.20\n",
       "11      B       Sports and travel       19036.38\n",
       "12      C      Home and lifestyle       13233.86\n",
       "13      C       Sports and travel       15011.36\n",
       "14      C       Health and beauty       15824.12\n",
       "15      C  Electronic accessories       18065.69\n",
       "16      C     Fashion accessories       20533.40\n",
       "17      C      Food and beverages       22635.10"
      ]
     },
     "execution_count": 109,
     "metadata": {},
     "output_type": "execute_result"
    }
   ],
   "source": [
    "#3\n",
    "sql_connection = sqlite3.connect(\"supermarket_sales\", timeout=10)\n",
    "\n",
    "query = pd.read_sql_query(\"\"\"\n",
    "SELECT b.Branch, p.ProductLine, SUM(o.Quantity * o.UnitPrice) AS total_revenue\n",
    "FROM Orders o \n",
    "JOIN Products p on p.ProductID = o.ProductID\n",
    "JOIN Branches b on b.BranchID = o.BranchID\n",
    "GROUP BY p.ProductLine, b.Branch\n",
    "ORDER BY b.Branch, total_revenue\n",
    "\"\"\", sql_connection)\n",
    "\n",
    "sql_connection.close()\n",
    "\n",
    "query"
   ]
  },
  {
   "cell_type": "code",
   "execution_count": 110,
   "metadata": {
    "ExecuteTime": {
     "end_time": "2024-10-16T20:24:37.125369Z",
     "start_time": "2024-10-16T20:24:37.121476Z"
    },
    "id": "aZAzTF7Hlqbi"
   },
   "outputs": [
    {
     "data": {
      "text/html": [
       "<div>\n",
       "<style scoped>\n",
       "    .dataframe tbody tr th:only-of-type {\n",
       "        vertical-align: middle;\n",
       "    }\n",
       "\n",
       "    .dataframe tbody tr th {\n",
       "        vertical-align: top;\n",
       "    }\n",
       "\n",
       "    .dataframe thead th {\n",
       "        text-align: right;\n",
       "    }\n",
       "</style>\n",
       "<table border=\"1\" class=\"dataframe\">\n",
       "  <thead>\n",
       "    <tr style=\"text-align: right;\">\n",
       "      <th></th>\n",
       "      <th>Branch</th>\n",
       "      <th>total_sales</th>\n",
       "    </tr>\n",
       "  </thead>\n",
       "  <tbody>\n",
       "    <tr>\n",
       "      <th>0</th>\n",
       "      <td>A</td>\n",
       "      <td>1859</td>\n",
       "    </tr>\n",
       "    <tr>\n",
       "      <th>1</th>\n",
       "      <td>B</td>\n",
       "      <td>1820</td>\n",
       "    </tr>\n",
       "    <tr>\n",
       "      <th>2</th>\n",
       "      <td>C</td>\n",
       "      <td>1831</td>\n",
       "    </tr>\n",
       "  </tbody>\n",
       "</table>\n",
       "</div>"
      ],
      "text/plain": [
       "  Branch  total_sales\n",
       "0      A         1859\n",
       "1      B         1820\n",
       "2      C         1831"
      ]
     },
     "execution_count": 110,
     "metadata": {},
     "output_type": "execute_result"
    }
   ],
   "source": [
    "#4\n",
    "sql_connection = sqlite3.connect(\"supermarket_sales\", timeout=10)\n",
    "\n",
    "query = pd.read_sql_query(\"\"\"\n",
    "SELECT b.Branch, SUM(o.Quantity) AS total_sales\n",
    "FROM Orders o \n",
    "JOIN Branches b on b.BranchID = o.BranchID\n",
    "GROUP BY b.Branch\n",
    "ORDER BY b.Branch\n",
    "\"\"\", sql_connection)\n",
    "\n",
    "sql_connection.close()\n",
    "\n",
    "query"
   ]
  },
  {
   "cell_type": "code",
   "execution_count": 111,
   "metadata": {
    "ExecuteTime": {
     "end_time": "2024-10-16T20:24:37.139038Z",
     "start_time": "2024-10-16T20:24:37.135450Z"
    },
    "id": "FVBfDGVolqXG"
   },
   "outputs": [
    {
     "data": {
      "text/html": [
       "<div>\n",
       "<style scoped>\n",
       "    .dataframe tbody tr th:only-of-type {\n",
       "        vertical-align: middle;\n",
       "    }\n",
       "\n",
       "    .dataframe tbody tr th {\n",
       "        vertical-align: top;\n",
       "    }\n",
       "\n",
       "    .dataframe thead th {\n",
       "        text-align: right;\n",
       "    }\n",
       "</style>\n",
       "<table border=\"1\" class=\"dataframe\">\n",
       "  <thead>\n",
       "    <tr style=\"text-align: right;\">\n",
       "      <th></th>\n",
       "      <th>Gender</th>\n",
       "      <th>order_count</th>\n",
       "    </tr>\n",
       "  </thead>\n",
       "  <tbody>\n",
       "    <tr>\n",
       "      <th>0</th>\n",
       "      <td>Male</td>\n",
       "      <td>499</td>\n",
       "    </tr>\n",
       "    <tr>\n",
       "      <th>1</th>\n",
       "      <td>Female</td>\n",
       "      <td>501</td>\n",
       "    </tr>\n",
       "  </tbody>\n",
       "</table>\n",
       "</div>"
      ],
      "text/plain": [
       "   Gender  order_count\n",
       "0    Male          499\n",
       "1  Female          501"
      ]
     },
     "execution_count": 111,
     "metadata": {},
     "output_type": "execute_result"
    }
   ],
   "source": [
    "#5\n",
    "sql_connection = sqlite3.connect(\"supermarket_sales\", timeout=10)\n",
    "\n",
    "query = pd.read_sql_query(\"\"\"\n",
    "SELECT Gender, COUNT(OrderID) AS order_count\n",
    "FROM Orders\n",
    "GROUP BY Gender\n",
    "ORDER BY order_count\n",
    "\"\"\", sql_connection)\n",
    "\n",
    "sql_connection.close()\n",
    "\n",
    "query"
   ]
  },
  {
   "cell_type": "code",
   "execution_count": 112,
   "metadata": {
    "ExecuteTime": {
     "end_time": "2024-10-16T20:24:37.187800Z",
     "start_time": "2024-10-16T20:24:37.183445Z"
    },
    "id": "NqeB7IRalqRa"
   },
   "outputs": [
    {
     "data": {
      "text/html": [
       "<div>\n",
       "<style scoped>\n",
       "    .dataframe tbody tr th:only-of-type {\n",
       "        vertical-align: middle;\n",
       "    }\n",
       "\n",
       "    .dataframe tbody tr th {\n",
       "        vertical-align: top;\n",
       "    }\n",
       "\n",
       "    .dataframe thead th {\n",
       "        text-align: right;\n",
       "    }\n",
       "</style>\n",
       "<table border=\"1\" class=\"dataframe\">\n",
       "  <thead>\n",
       "    <tr style=\"text-align: right;\">\n",
       "      <th></th>\n",
       "      <th>Branch</th>\n",
       "      <th>ProductLine</th>\n",
       "      <th>order_count</th>\n",
       "    </tr>\n",
       "  </thead>\n",
       "  <tbody>\n",
       "    <tr>\n",
       "      <th>0</th>\n",
       "      <td>A</td>\n",
       "      <td>Health and beauty</td>\n",
       "      <td>47</td>\n",
       "    </tr>\n",
       "    <tr>\n",
       "      <th>1</th>\n",
       "      <td>A</td>\n",
       "      <td>Fashion accessories</td>\n",
       "      <td>51</td>\n",
       "    </tr>\n",
       "    <tr>\n",
       "      <th>2</th>\n",
       "      <td>A</td>\n",
       "      <td>Food and beverages</td>\n",
       "      <td>58</td>\n",
       "    </tr>\n",
       "    <tr>\n",
       "      <th>3</th>\n",
       "      <td>A</td>\n",
       "      <td>Sports and travel</td>\n",
       "      <td>59</td>\n",
       "    </tr>\n",
       "    <tr>\n",
       "      <th>4</th>\n",
       "      <td>A</td>\n",
       "      <td>Electronic accessories</td>\n",
       "      <td>60</td>\n",
       "    </tr>\n",
       "    <tr>\n",
       "      <th>5</th>\n",
       "      <td>A</td>\n",
       "      <td>Home and lifestyle</td>\n",
       "      <td>65</td>\n",
       "    </tr>\n",
       "    <tr>\n",
       "      <th>6</th>\n",
       "      <td>B</td>\n",
       "      <td>Food and beverages</td>\n",
       "      <td>50</td>\n",
       "    </tr>\n",
       "    <tr>\n",
       "      <th>7</th>\n",
       "      <td>B</td>\n",
       "      <td>Home and lifestyle</td>\n",
       "      <td>50</td>\n",
       "    </tr>\n",
       "    <tr>\n",
       "      <th>8</th>\n",
       "      <td>B</td>\n",
       "      <td>Health and beauty</td>\n",
       "      <td>53</td>\n",
       "    </tr>\n",
       "    <tr>\n",
       "      <th>9</th>\n",
       "      <td>B</td>\n",
       "      <td>Electronic accessories</td>\n",
       "      <td>55</td>\n",
       "    </tr>\n",
       "    <tr>\n",
       "      <th>10</th>\n",
       "      <td>B</td>\n",
       "      <td>Fashion accessories</td>\n",
       "      <td>62</td>\n",
       "    </tr>\n",
       "    <tr>\n",
       "      <th>11</th>\n",
       "      <td>B</td>\n",
       "      <td>Sports and travel</td>\n",
       "      <td>62</td>\n",
       "    </tr>\n",
       "    <tr>\n",
       "      <th>12</th>\n",
       "      <td>C</td>\n",
       "      <td>Home and lifestyle</td>\n",
       "      <td>45</td>\n",
       "    </tr>\n",
       "    <tr>\n",
       "      <th>13</th>\n",
       "      <td>C</td>\n",
       "      <td>Sports and travel</td>\n",
       "      <td>45</td>\n",
       "    </tr>\n",
       "    <tr>\n",
       "      <th>14</th>\n",
       "      <td>C</td>\n",
       "      <td>Health and beauty</td>\n",
       "      <td>52</td>\n",
       "    </tr>\n",
       "    <tr>\n",
       "      <th>15</th>\n",
       "      <td>C</td>\n",
       "      <td>Electronic accessories</td>\n",
       "      <td>55</td>\n",
       "    </tr>\n",
       "    <tr>\n",
       "      <th>16</th>\n",
       "      <td>C</td>\n",
       "      <td>Fashion accessories</td>\n",
       "      <td>65</td>\n",
       "    </tr>\n",
       "    <tr>\n",
       "      <th>17</th>\n",
       "      <td>C</td>\n",
       "      <td>Food and beverages</td>\n",
       "      <td>66</td>\n",
       "    </tr>\n",
       "  </tbody>\n",
       "</table>\n",
       "</div>"
      ],
      "text/plain": [
       "   Branch             ProductLine  order_count\n",
       "0       A       Health and beauty           47\n",
       "1       A     Fashion accessories           51\n",
       "2       A      Food and beverages           58\n",
       "3       A       Sports and travel           59\n",
       "4       A  Electronic accessories           60\n",
       "5       A      Home and lifestyle           65\n",
       "6       B      Food and beverages           50\n",
       "7       B      Home and lifestyle           50\n",
       "8       B       Health and beauty           53\n",
       "9       B  Electronic accessories           55\n",
       "10      B     Fashion accessories           62\n",
       "11      B       Sports and travel           62\n",
       "12      C      Home and lifestyle           45\n",
       "13      C       Sports and travel           45\n",
       "14      C       Health and beauty           52\n",
       "15      C  Electronic accessories           55\n",
       "16      C     Fashion accessories           65\n",
       "17      C      Food and beverages           66"
      ]
     },
     "execution_count": 112,
     "metadata": {},
     "output_type": "execute_result"
    }
   ],
   "source": [
    "#6\n",
    "sql_connection = sqlite3.connect(\"supermarket_sales\", timeout=10)\n",
    "\n",
    "query = pd.read_sql_query(\"\"\"\n",
    "SELECT b.Branch, p.ProductLine, COUNT(OrderID) AS order_count\n",
    "FROM Orders o\n",
    "JOIN Branches b on b.BranchID = o.BranchID\n",
    "JOIN Products p on p.ProductID = o.ProductID\n",
    "GROUP BY b.Branch, p.ProductLine\n",
    "ORDER BY b.Branch, order_count\n",
    "\"\"\", sql_connection)\n",
    "\n",
    "sql_connection.close()\n",
    "\n",
    "query"
   ]
  },
  {
   "cell_type": "code",
   "execution_count": 113,
   "metadata": {
    "ExecuteTime": {
     "end_time": "2024-10-16T20:24:37.248337Z",
     "start_time": "2024-10-16T20:24:37.244488Z"
    },
    "id": "ECIox9ZylqKY"
   },
   "outputs": [
    {
     "data": {
      "text/html": [
       "<div>\n",
       "<style scoped>\n",
       "    .dataframe tbody tr th:only-of-type {\n",
       "        vertical-align: middle;\n",
       "    }\n",
       "\n",
       "    .dataframe tbody tr th {\n",
       "        vertical-align: top;\n",
       "    }\n",
       "\n",
       "    .dataframe thead th {\n",
       "        text-align: right;\n",
       "    }\n",
       "</style>\n",
       "<table border=\"1\" class=\"dataframe\">\n",
       "  <thead>\n",
       "    <tr style=\"text-align: right;\">\n",
       "      <th></th>\n",
       "      <th>ProductLine</th>\n",
       "      <th>Quantity</th>\n",
       "    </tr>\n",
       "  </thead>\n",
       "  <tbody>\n",
       "    <tr>\n",
       "      <th>0</th>\n",
       "      <td>Home and lifestyle</td>\n",
       "      <td>10</td>\n",
       "    </tr>\n",
       "  </tbody>\n",
       "</table>\n",
       "</div>"
      ],
      "text/plain": [
       "          ProductLine  Quantity\n",
       "0  Home and lifestyle        10"
      ]
     },
     "execution_count": 113,
     "metadata": {},
     "output_type": "execute_result"
    }
   ],
   "source": [
    "#7\n",
    "sql_connection = sqlite3.connect(\"supermarket_sales\", timeout=10)\n",
    "\n",
    "query = pd.read_sql_query(\"\"\"\n",
    "SELECT p.ProductLine, o.Quantity\n",
    "FROM Orders o \n",
    "JOIN Products p on p.ProductID = o.ProductID\n",
    "ORDER BY o.Quantity DESC\n",
    "LIMIT 1\n",
    "\"\"\", sql_connection)\n",
    "\n",
    "sql_connection.close()\n",
    "\n",
    "query"
   ]
  },
  {
   "cell_type": "code",
   "execution_count": 114,
   "metadata": {
    "ExecuteTime": {
     "end_time": "2024-10-16T20:24:37.283210Z",
     "start_time": "2024-10-16T20:24:37.273530Z"
    },
    "id": "MUWbll4RluQg"
   },
   "outputs": [
    {
     "data": {
      "text/html": [
       "<div>\n",
       "<style scoped>\n",
       "    .dataframe tbody tr th:only-of-type {\n",
       "        vertical-align: middle;\n",
       "    }\n",
       "\n",
       "    .dataframe tbody tr th {\n",
       "        vertical-align: top;\n",
       "    }\n",
       "\n",
       "    .dataframe thead th {\n",
       "        text-align: right;\n",
       "    }\n",
       "</style>\n",
       "<table border=\"1\" class=\"dataframe\">\n",
       "  <thead>\n",
       "    <tr style=\"text-align: right;\">\n",
       "      <th></th>\n",
       "      <th>Invoice ID</th>\n",
       "      <th>Branch</th>\n",
       "      <th>City</th>\n",
       "      <th>Customer type</th>\n",
       "      <th>Gender</th>\n",
       "      <th>Product line</th>\n",
       "      <th>Unit price</th>\n",
       "      <th>Quantity</th>\n",
       "      <th>Tax 5%</th>\n",
       "      <th>Total</th>\n",
       "      <th>Date</th>\n",
       "      <th>Time</th>\n",
       "      <th>Payment</th>\n",
       "    </tr>\n",
       "  </thead>\n",
       "  <tbody>\n",
       "    <tr>\n",
       "      <th>1000</th>\n",
       "      <td>233-67-5758</td>\n",
       "      <td>C</td>\n",
       "      <td>Naypyitaw</td>\n",
       "      <td>Normal</td>\n",
       "      <td>Male</td>\n",
       "      <td>Health and beauty</td>\n",
       "      <td>40.35</td>\n",
       "      <td>1</td>\n",
       "      <td>2.0175</td>\n",
       "      <td>42.3675</td>\n",
       "      <td>1/29/2019</td>\n",
       "      <td>13:46</td>\n",
       "      <td>Ewallet</td>\n",
       "    </tr>\n",
       "    <tr>\n",
       "      <th>1001</th>\n",
       "      <td>303-96-2227</td>\n",
       "      <td>B</td>\n",
       "      <td>Mandalay</td>\n",
       "      <td>Normal</td>\n",
       "      <td>Female</td>\n",
       "      <td>Home and lifestyle</td>\n",
       "      <td>97.38</td>\n",
       "      <td>10</td>\n",
       "      <td>48.6900</td>\n",
       "      <td>1022.4900</td>\n",
       "      <td>3/2/2019</td>\n",
       "      <td>17:16</td>\n",
       "      <td>Ewallet</td>\n",
       "    </tr>\n",
       "    <tr>\n",
       "      <th>1002</th>\n",
       "      <td>727-02-1313</td>\n",
       "      <td>A</td>\n",
       "      <td>Yangon</td>\n",
       "      <td>Member</td>\n",
       "      <td>Male</td>\n",
       "      <td>Food and beverages</td>\n",
       "      <td>31.84</td>\n",
       "      <td>1</td>\n",
       "      <td>1.5920</td>\n",
       "      <td>33.4320</td>\n",
       "      <td>2/9/2019</td>\n",
       "      <td>13:22</td>\n",
       "      <td>Cash</td>\n",
       "    </tr>\n",
       "    <tr>\n",
       "      <th>1003</th>\n",
       "      <td>347-56-2442</td>\n",
       "      <td>A</td>\n",
       "      <td>Yangon</td>\n",
       "      <td>Normal</td>\n",
       "      <td>Male</td>\n",
       "      <td>Home and lifestyle</td>\n",
       "      <td>65.82</td>\n",
       "      <td>1</td>\n",
       "      <td>3.2910</td>\n",
       "      <td>69.1110</td>\n",
       "      <td>2/22/2019</td>\n",
       "      <td>15:33</td>\n",
       "      <td>Cash</td>\n",
       "    </tr>\n",
       "    <tr>\n",
       "      <th>1004</th>\n",
       "      <td>849-09-3807</td>\n",
       "      <td>A</td>\n",
       "      <td>Yangon</td>\n",
       "      <td>Member</td>\n",
       "      <td>Female</td>\n",
       "      <td>Fashion accessories</td>\n",
       "      <td>88.34</td>\n",
       "      <td>7</td>\n",
       "      <td>30.9190</td>\n",
       "      <td>649.2990</td>\n",
       "      <td>2/18/2019</td>\n",
       "      <td>13:28</td>\n",
       "      <td>Cash</td>\n",
       "    </tr>\n",
       "  </tbody>\n",
       "</table>\n",
       "</div>"
      ],
      "text/plain": [
       "       Invoice ID Branch       City Customer type  Gender  \\\n",
       "1000  233-67-5758      C  Naypyitaw        Normal    Male   \n",
       "1001  303-96-2227      B   Mandalay        Normal  Female   \n",
       "1002  727-02-1313      A     Yangon        Member    Male   \n",
       "1003  347-56-2442      A     Yangon        Normal    Male   \n",
       "1004  849-09-3807      A     Yangon        Member  Female   \n",
       "\n",
       "             Product line  Unit price  Quantity   Tax 5%      Total  \\\n",
       "1000    Health and beauty       40.35         1   2.0175    42.3675   \n",
       "1001   Home and lifestyle       97.38        10  48.6900  1022.4900   \n",
       "1002   Food and beverages       31.84         1   1.5920    33.4320   \n",
       "1003   Home and lifestyle       65.82         1   3.2910    69.1110   \n",
       "1004  Fashion accessories       88.34         7  30.9190   649.2990   \n",
       "\n",
       "           Date   Time  Payment  \n",
       "1000  1/29/2019  13:46  Ewallet  \n",
       "1001   3/2/2019  17:16  Ewallet  \n",
       "1002   2/9/2019  13:22     Cash  \n",
       "1003  2/22/2019  15:33     Cash  \n",
       "1004  2/18/2019  13:28     Cash  "
      ]
     },
     "metadata": {},
     "output_type": "display_data"
    },
    {
     "data": {
      "text/html": [
       "<div>\n",
       "<style scoped>\n",
       "    .dataframe tbody tr th:only-of-type {\n",
       "        vertical-align: middle;\n",
       "    }\n",
       "\n",
       "    .dataframe tbody tr th {\n",
       "        vertical-align: top;\n",
       "    }\n",
       "\n",
       "    .dataframe thead th {\n",
       "        text-align: right;\n",
       "    }\n",
       "</style>\n",
       "<table border=\"1\" class=\"dataframe\">\n",
       "  <thead>\n",
       "    <tr style=\"text-align: right;\">\n",
       "      <th></th>\n",
       "      <th>OrderID</th>\n",
       "      <th>count</th>\n",
       "    </tr>\n",
       "  </thead>\n",
       "  <tbody>\n",
       "  </tbody>\n",
       "</table>\n",
       "</div>"
      ],
      "text/plain": [
       "Empty DataFrame\n",
       "Columns: [OrderID, count]\n",
       "Index: []"
      ]
     },
     "execution_count": 114,
     "metadata": {},
     "output_type": "execute_result"
    }
   ],
   "source": [
    "#8\n",
    "sql_connection = sqlite3.connect(\"supermarket_sales\", timeout=10)\n",
    "\n",
    "query = pd.read_sql_query(\"\"\"\n",
    "SELECT OrderID, COUNT(*) AS count\n",
    "FROM Orders\n",
    "GROUP BY OrderID\n",
    "HAVING count > 1\n",
    "\"\"\", sql_connection)\n",
    "\n",
    "sql_connection.close()\n",
    "\n",
    "#To be able to make InvoiceId primaryKey in db, I dropped duplicates at reading part of csv.\n",
    "dataframe = pd.read_csv(\"Data/supermarket_sales.csv\")\n",
    "display(dataframe[dataframe.duplicated()])\n",
    "\n",
    "query"
   ]
  },
  {
   "cell_type": "markdown",
   "metadata": {
    "id": "hlDZmDHMWBrk"
   },
   "source": [
    "# SUBMIT FORMAT\n",
    "\n",
    "* **<-zip>**\n",
    "  - **studentID_name_surname_hw1.ipynb**\n"
   ]
  },
  {
   "cell_type": "markdown",
   "metadata": {
    "id": "fTXBu8Dql0Iv"
   },
   "source": [
    "# PLAGIARISM\n",
    "\n",
    "All work on assignments must be done individually. You are encouraged to discuss the given assignments with your classmates, but these discussions should be carried out in an abstract way. That is, discussions related to a particular solution to a specific probem (either in actual code or in pseudocode) will not be tolerated. In short, turning in someone else’s work (including work available on the internet), in whole or in part, as your own will be considered as a violation of academic integrity. Please note that the former conditions also hold for the material attained using AI tools, including ChatGPT, GitHub Copilot, etc."
   ]
  }
 ],
 "metadata": {
  "colab": {
   "provenance": []
  },
  "kernelspec": {
   "display_name": "Python 3 (ipykernel)",
   "language": "python",
   "name": "python3"
  },
  "language_info": {
   "name": "python"
  }
 },
 "nbformat": 4,
 "nbformat_minor": 0
}
