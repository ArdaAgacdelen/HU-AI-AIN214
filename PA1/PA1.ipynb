{
 "nbformat": 4,
 "nbformat_minor": 0,
 "metadata": {
  "colab": {
   "provenance": []
  },
  "kernelspec": {
   "name": "python3",
   "language": "python",
   "display_name": "Python 3 (ipykernel)"
  },
  "language_info": {
   "name": "python"
  }
 },
 "cells": [
  {
   "cell_type": "markdown",
   "source": [
    "# **AIN 214 - PA1 - FALL 2024**"
   ],
   "metadata": {
    "id": "-JsD4n549KSW"
   }
  },
  {
   "cell_type": "markdown",
   "source": [
    "**Student Number** : 2220765009\n",
    "\n",
    "**Name Surname**   : Arda Ağaçdelen"
   ],
   "metadata": {
    "id": "jeu4gamv8uxb"
   }
  },
  {
   "cell_type": "markdown",
   "source": [
    "\n",
    "BELOW MD CELLS CONTAIN THE QUESTIONS YOU ARE ASKED TO IMPLEMENT WITHIN THE CONTEXT OF THIS HW. PLEASE FILL IN THE CELLS FOR THE ANSWERS RIGHT BELOW THE MD CELL OF THE QUESTION. YOU CAN ADD AS MANY CELLS AS YOU WANT, BE IT CODE OR MD, SO LONG AS YOU PROVIDE AN UNDERSTANDABLE AND TRACBLE REPORTING. PLEASE ADD COMMENTS ON YOUR CODES. ALSO, FILL IN MD CELLS WHERE YOU ARE ASKED YO COMMENT ON YOUR RESULTS OR EPXLAIN YOUR REASONING. ALSO, PLEASE DO NO HESITATE TO USE THEM FOR YOUR OWN REPORTING PURPOSES. PLEASE KEEP IN MIND THAT, REPORTING IS A KEY STEP IN DATA SCIENCE.\n",
    "\n",
    "**Deadline: 18.10.2023 (23:59:59)**\n",
    "\n",
    "**Submission:** Submit your Jupyter Notebooks via https://submit.cs.hacettepe.edu.tr/"
   ],
   "metadata": {
    "id": "so7UTKwA8ULy"
   }
  },
  {
   "cell_type": "markdown",
   "source": [
    "# **Necessary Imports**"
   ],
   "metadata": {
    "id": "l9crUPV39bKP"
   }
  },
  {
   "cell_type": "code",
   "source": [
    "# Import required libraries\n",
    "import pandas as pd\n",
    "import sqlite3"
   ],
   "metadata": {
    "id": "bDF8rpnv9kjd",
    "ExecuteTime": {
     "end_time": "2024-10-16T20:24:35.623939Z",
     "start_time": "2024-10-16T20:24:35.622187Z"
    }
   },
   "execution_count": 58,
   "outputs": []
  },
  {
   "cell_type": "markdown",
   "source": [
    "# **Notes:**\n",
    "\n",
    "* Use pandas dataframe (df) to load the data.\n",
    "\n",
    "* Use numpy or pandas operations for the requested tasks unless otherwise specified.\n",
    "\n",
    "* Use of naive for loops is not considered valid.\n",
    "\n",
    "* For the db operations, use sqlite3 library in Python"
   ],
   "metadata": {
    "id": "YzjmuhYk90CY"
   }
  },
  {
   "cell_type": "markdown",
   "source": [
    "# **PART- 1**\n",
    "\n",
    "**Set of Questions on World Happiness Report Dataset (40 Pts)**\n",
    "\n",
    "**Dataset Path: \"Data/WorldHappinessReport.csv\"**"
   ],
   "metadata": {
    "id": "ErBKcN6KBvW8"
   }
  },
  {
   "cell_type": "markdown",
   "source": [
    "# Q1. Basic Data Exploration **(10 Pts)**\n",
    "\n",
    "1. Load the data into Pandas DataFrame and print the column names. **(1 pts)**\n",
    "2. Display the first and last 10 rows of the dataset. **(1 pts)**\n",
    "3. Display random 10 rows. **(1 pts)**\n",
    "4. Display random 10 rows with a seed, ie, it outputs the same random rows everytime it is run. **(1 pts)**\n",
    "5. Display every 10th row. **(1 pts)**\n",
    "6. Get the summary stats of the dataset regarding each column. **(2 pts)**\n",
    "7. Identify and count the number of missing values in each column. **(3 pts)**"
   ],
   "metadata": {
    "id": "GWggnrTxCQJD"
   }
  },
  {
   "cell_type": "code",
   "source": [
    "#1 Load the data into Pandas DataFrame and print the column names\n",
    "dataframe = pd.read_csv(\"Data/WorldHappinessReport.csv\")  #Loads csv file into the variable as a dataframe"
   ],
   "metadata": {
    "id": "_NzJ6GYkD1aY",
    "ExecuteTime": {
     "end_time": "2024-10-16T20:24:35.833108Z",
     "start_time": "2024-10-16T20:24:35.829708Z"
    }
   },
   "execution_count": 59,
   "outputs": []
  },
  {
   "cell_type": "code",
   "outputs": [
    {
     "data": {
      "text/plain": "Index(['Overall rank', 'Country or region', 'Score', 'GDP per capita',\n       'Social support', 'Healthy life expectancy',\n       'Freedom to make life choices', 'Generosity',\n       'Perceptions of corruption'],\n      dtype='object')"
     },
     "execution_count": 60,
     "metadata": {},
     "output_type": "execute_result"
    }
   ],
   "source": [
    "#1\n",
    "dataframe.columns  #Prints the column names of dataframe"
   ],
   "metadata": {
    "collapsed": false,
    "ExecuteTime": {
     "end_time": "2024-10-16T20:24:35.843617Z",
     "start_time": "2024-10-16T20:24:35.841137Z"
    }
   },
   "execution_count": 60
  },
  {
   "cell_type": "code",
   "source": [
    "#2 Display the first and last 10 rows of the dataset.\n",
    "dataframe.head(10)  #First 10 rows"
   ],
   "metadata": {
    "id": "Z-m2CigRD26Z",
    "ExecuteTime": {
     "end_time": "2024-10-16T20:24:35.850629Z",
     "start_time": "2024-10-16T20:24:35.844874Z"
    }
   },
   "execution_count": 61,
   "outputs": [
    {
     "data": {
      "text/plain": "   Overall rank Country or region  Score  GDP per capita  Social support  \\\n0             1           Finland  7.632           1.305           1.592   \n1             2            Norway  7.594           1.456           1.582   \n2             3           Denmark  7.555           1.351           1.590   \n3             4           Iceland  7.495           1.343           1.644   \n4             5       Switzerland  7.487           1.420           1.549   \n5             6       Netherlands  7.441           1.361           1.488   \n6             7            Canada  7.328           1.330           1.532   \n7             8       New Zealand  7.324           1.268           1.601   \n8             9            Sweden  7.314           1.355           1.501   \n9            10         Australia  7.272           1.340           1.573   \n\n   Healthy life expectancy  Freedom to make life choices  Generosity  \\\n0                    0.874                         0.681       0.202   \n1                    0.861                         0.686       0.286   \n2                    0.868                         0.683       0.284   \n3                    0.914                         0.677       0.353   \n4                    0.927                         0.660       0.256   \n5                    0.878                         0.638       0.333   \n6                    0.896                         0.653       0.321   \n7                    0.876                         0.669       0.365   \n8                    0.913                         0.659       0.285   \n9                    0.910                         0.647       0.361   \n\n   Perceptions of corruption  \n0                      0.393  \n1                      0.340  \n2                      0.408  \n3                      0.138  \n4                      0.357  \n5                      0.295  \n6                      0.291  \n7                      0.389  \n8                      0.383  \n9                      0.302  ",
      "text/html": "<div>\n<style scoped>\n    .dataframe tbody tr th:only-of-type {\n        vertical-align: middle;\n    }\n\n    .dataframe tbody tr th {\n        vertical-align: top;\n    }\n\n    .dataframe thead th {\n        text-align: right;\n    }\n</style>\n<table border=\"1\" class=\"dataframe\">\n  <thead>\n    <tr style=\"text-align: right;\">\n      <th></th>\n      <th>Overall rank</th>\n      <th>Country or region</th>\n      <th>Score</th>\n      <th>GDP per capita</th>\n      <th>Social support</th>\n      <th>Healthy life expectancy</th>\n      <th>Freedom to make life choices</th>\n      <th>Generosity</th>\n      <th>Perceptions of corruption</th>\n    </tr>\n  </thead>\n  <tbody>\n    <tr>\n      <th>0</th>\n      <td>1</td>\n      <td>Finland</td>\n      <td>7.632</td>\n      <td>1.305</td>\n      <td>1.592</td>\n      <td>0.874</td>\n      <td>0.681</td>\n      <td>0.202</td>\n      <td>0.393</td>\n    </tr>\n    <tr>\n      <th>1</th>\n      <td>2</td>\n      <td>Norway</td>\n      <td>7.594</td>\n      <td>1.456</td>\n      <td>1.582</td>\n      <td>0.861</td>\n      <td>0.686</td>\n      <td>0.286</td>\n      <td>0.340</td>\n    </tr>\n    <tr>\n      <th>2</th>\n      <td>3</td>\n      <td>Denmark</td>\n      <td>7.555</td>\n      <td>1.351</td>\n      <td>1.590</td>\n      <td>0.868</td>\n      <td>0.683</td>\n      <td>0.284</td>\n      <td>0.408</td>\n    </tr>\n    <tr>\n      <th>3</th>\n      <td>4</td>\n      <td>Iceland</td>\n      <td>7.495</td>\n      <td>1.343</td>\n      <td>1.644</td>\n      <td>0.914</td>\n      <td>0.677</td>\n      <td>0.353</td>\n      <td>0.138</td>\n    </tr>\n    <tr>\n      <th>4</th>\n      <td>5</td>\n      <td>Switzerland</td>\n      <td>7.487</td>\n      <td>1.420</td>\n      <td>1.549</td>\n      <td>0.927</td>\n      <td>0.660</td>\n      <td>0.256</td>\n      <td>0.357</td>\n    </tr>\n    <tr>\n      <th>5</th>\n      <td>6</td>\n      <td>Netherlands</td>\n      <td>7.441</td>\n      <td>1.361</td>\n      <td>1.488</td>\n      <td>0.878</td>\n      <td>0.638</td>\n      <td>0.333</td>\n      <td>0.295</td>\n    </tr>\n    <tr>\n      <th>6</th>\n      <td>7</td>\n      <td>Canada</td>\n      <td>7.328</td>\n      <td>1.330</td>\n      <td>1.532</td>\n      <td>0.896</td>\n      <td>0.653</td>\n      <td>0.321</td>\n      <td>0.291</td>\n    </tr>\n    <tr>\n      <th>7</th>\n      <td>8</td>\n      <td>New Zealand</td>\n      <td>7.324</td>\n      <td>1.268</td>\n      <td>1.601</td>\n      <td>0.876</td>\n      <td>0.669</td>\n      <td>0.365</td>\n      <td>0.389</td>\n    </tr>\n    <tr>\n      <th>8</th>\n      <td>9</td>\n      <td>Sweden</td>\n      <td>7.314</td>\n      <td>1.355</td>\n      <td>1.501</td>\n      <td>0.913</td>\n      <td>0.659</td>\n      <td>0.285</td>\n      <td>0.383</td>\n    </tr>\n    <tr>\n      <th>9</th>\n      <td>10</td>\n      <td>Australia</td>\n      <td>7.272</td>\n      <td>1.340</td>\n      <td>1.573</td>\n      <td>0.910</td>\n      <td>0.647</td>\n      <td>0.361</td>\n      <td>0.302</td>\n    </tr>\n  </tbody>\n</table>\n</div>"
     },
     "execution_count": 61,
     "metadata": {},
     "output_type": "execute_result"
    }
   ]
  },
  {
   "cell_type": "code",
   "outputs": [
    {
     "data": {
      "text/plain": "     Overall rank         Country or region  Score  GDP per capita  \\\n146           147                    Malawi  3.587           0.186   \n147           148                     Haiti  3.582           0.315   \n148           149                   Liberia  3.495           0.076   \n149           150                     Syria  3.462           0.689   \n150           151                    Rwanda  3.408           0.332   \n151           152                     Yemen  3.355           0.442   \n152           153                  Tanzania  3.303           0.455   \n153           154               South Sudan  3.254           0.337   \n154           155  Central African Republic  3.083           0.024   \n155           156                   Burundi  2.905           0.091   \n\n     Social support  Healthy life expectancy  Freedom to make life choices  \\\n146           0.541                    0.306                         0.531   \n147           0.714                    0.289                         0.025   \n148           0.858                    0.267                         0.419   \n149           0.382                    0.539                         0.088   \n150           0.896                    0.400                         0.636   \n151           1.073                    0.343                         0.244   \n152           0.991                    0.381                         0.481   \n153           0.608                    0.177                         0.112   \n154           0.000                    0.010                         0.305   \n155           0.627                    0.145                         0.065   \n\n     Generosity  Perceptions of corruption  \n146       0.210                      0.080  \n147       0.392                      0.104  \n148       0.206                      0.030  \n149       0.376                      0.144  \n150       0.200                      0.444  \n151       0.083                      0.064  \n152       0.270                      0.097  \n153       0.224                      0.106  \n154       0.218                      0.038  \n155       0.149                      0.076  ",
      "text/html": "<div>\n<style scoped>\n    .dataframe tbody tr th:only-of-type {\n        vertical-align: middle;\n    }\n\n    .dataframe tbody tr th {\n        vertical-align: top;\n    }\n\n    .dataframe thead th {\n        text-align: right;\n    }\n</style>\n<table border=\"1\" class=\"dataframe\">\n  <thead>\n    <tr style=\"text-align: right;\">\n      <th></th>\n      <th>Overall rank</th>\n      <th>Country or region</th>\n      <th>Score</th>\n      <th>GDP per capita</th>\n      <th>Social support</th>\n      <th>Healthy life expectancy</th>\n      <th>Freedom to make life choices</th>\n      <th>Generosity</th>\n      <th>Perceptions of corruption</th>\n    </tr>\n  </thead>\n  <tbody>\n    <tr>\n      <th>146</th>\n      <td>147</td>\n      <td>Malawi</td>\n      <td>3.587</td>\n      <td>0.186</td>\n      <td>0.541</td>\n      <td>0.306</td>\n      <td>0.531</td>\n      <td>0.210</td>\n      <td>0.080</td>\n    </tr>\n    <tr>\n      <th>147</th>\n      <td>148</td>\n      <td>Haiti</td>\n      <td>3.582</td>\n      <td>0.315</td>\n      <td>0.714</td>\n      <td>0.289</td>\n      <td>0.025</td>\n      <td>0.392</td>\n      <td>0.104</td>\n    </tr>\n    <tr>\n      <th>148</th>\n      <td>149</td>\n      <td>Liberia</td>\n      <td>3.495</td>\n      <td>0.076</td>\n      <td>0.858</td>\n      <td>0.267</td>\n      <td>0.419</td>\n      <td>0.206</td>\n      <td>0.030</td>\n    </tr>\n    <tr>\n      <th>149</th>\n      <td>150</td>\n      <td>Syria</td>\n      <td>3.462</td>\n      <td>0.689</td>\n      <td>0.382</td>\n      <td>0.539</td>\n      <td>0.088</td>\n      <td>0.376</td>\n      <td>0.144</td>\n    </tr>\n    <tr>\n      <th>150</th>\n      <td>151</td>\n      <td>Rwanda</td>\n      <td>3.408</td>\n      <td>0.332</td>\n      <td>0.896</td>\n      <td>0.400</td>\n      <td>0.636</td>\n      <td>0.200</td>\n      <td>0.444</td>\n    </tr>\n    <tr>\n      <th>151</th>\n      <td>152</td>\n      <td>Yemen</td>\n      <td>3.355</td>\n      <td>0.442</td>\n      <td>1.073</td>\n      <td>0.343</td>\n      <td>0.244</td>\n      <td>0.083</td>\n      <td>0.064</td>\n    </tr>\n    <tr>\n      <th>152</th>\n      <td>153</td>\n      <td>Tanzania</td>\n      <td>3.303</td>\n      <td>0.455</td>\n      <td>0.991</td>\n      <td>0.381</td>\n      <td>0.481</td>\n      <td>0.270</td>\n      <td>0.097</td>\n    </tr>\n    <tr>\n      <th>153</th>\n      <td>154</td>\n      <td>South Sudan</td>\n      <td>3.254</td>\n      <td>0.337</td>\n      <td>0.608</td>\n      <td>0.177</td>\n      <td>0.112</td>\n      <td>0.224</td>\n      <td>0.106</td>\n    </tr>\n    <tr>\n      <th>154</th>\n      <td>155</td>\n      <td>Central African Republic</td>\n      <td>3.083</td>\n      <td>0.024</td>\n      <td>0.000</td>\n      <td>0.010</td>\n      <td>0.305</td>\n      <td>0.218</td>\n      <td>0.038</td>\n    </tr>\n    <tr>\n      <th>155</th>\n      <td>156</td>\n      <td>Burundi</td>\n      <td>2.905</td>\n      <td>0.091</td>\n      <td>0.627</td>\n      <td>0.145</td>\n      <td>0.065</td>\n      <td>0.149</td>\n      <td>0.076</td>\n    </tr>\n  </tbody>\n</table>\n</div>"
     },
     "execution_count": 62,
     "metadata": {},
     "output_type": "execute_result"
    }
   ],
   "source": [
    "dataframe.tail(10)  #Last 10 rows"
   ],
   "metadata": {
    "collapsed": false,
    "ExecuteTime": {
     "end_time": "2024-10-16T20:24:35.857198Z",
     "start_time": "2024-10-16T20:24:35.852638Z"
    }
   },
   "execution_count": 62
  },
  {
   "cell_type": "code",
   "source": [
    "#3 Display the random 10 rows\n",
    "dataframe.sample(n=10)  #Gets 10 random row each time"
   ],
   "metadata": {
    "id": "XmyRJcvED4P2",
    "ExecuteTime": {
     "end_time": "2024-10-16T20:24:35.879231Z",
     "start_time": "2024-10-16T20:24:35.874318Z"
    }
   },
   "execution_count": 63,
   "outputs": [
    {
     "data": {
      "text/plain": "     Overall rank       Country or region  Score  GDP per capita  \\\n2               3                 Denmark  7.555           1.351   \n104           105            South Africa  4.724           0.940   \n56             57             South Korea  5.875           1.266   \n112           113            Sierra Leone  4.571           0.256   \n64             65                    Peru  5.663           0.934   \n51             52                 Romania  5.945           1.116   \n115           116               Sri Lanka  4.471           0.918   \n25             26                  Taiwan  6.441           1.365   \n92             93  Bosnia and Herzegovina  5.129           0.915   \n109           110                    Laos  4.623           0.720   \n\n     Social support  Healthy life expectancy  Freedom to make life choices  \\\n2             1.590                    0.868                         0.683   \n104           1.410                    0.330                         0.516   \n56            1.204                    0.955                         0.244   \n112           0.813                    0.000                         0.355   \n64            1.249                    0.674                         0.530   \n51            1.219                    0.726                         0.528   \n115           1.314                    0.672                         0.585   \n25            1.436                    0.857                         0.418   \n92            1.078                    0.758                         0.280   \n109           1.034                    0.441                         0.626   \n\n     Generosity  Perceptions of corruption  \n2         0.284                      0.408  \n104       0.103                      0.056  \n56        0.175                      0.051  \n112       0.238                      0.053  \n64        0.092                      0.034  \n51        0.088                      0.001  \n115       0.307                      0.050  \n25        0.151                      0.078  \n92        0.216                      0.000  \n109       0.230                      0.174  ",
      "text/html": "<div>\n<style scoped>\n    .dataframe tbody tr th:only-of-type {\n        vertical-align: middle;\n    }\n\n    .dataframe tbody tr th {\n        vertical-align: top;\n    }\n\n    .dataframe thead th {\n        text-align: right;\n    }\n</style>\n<table border=\"1\" class=\"dataframe\">\n  <thead>\n    <tr style=\"text-align: right;\">\n      <th></th>\n      <th>Overall rank</th>\n      <th>Country or region</th>\n      <th>Score</th>\n      <th>GDP per capita</th>\n      <th>Social support</th>\n      <th>Healthy life expectancy</th>\n      <th>Freedom to make life choices</th>\n      <th>Generosity</th>\n      <th>Perceptions of corruption</th>\n    </tr>\n  </thead>\n  <tbody>\n    <tr>\n      <th>2</th>\n      <td>3</td>\n      <td>Denmark</td>\n      <td>7.555</td>\n      <td>1.351</td>\n      <td>1.590</td>\n      <td>0.868</td>\n      <td>0.683</td>\n      <td>0.284</td>\n      <td>0.408</td>\n    </tr>\n    <tr>\n      <th>104</th>\n      <td>105</td>\n      <td>South Africa</td>\n      <td>4.724</td>\n      <td>0.940</td>\n      <td>1.410</td>\n      <td>0.330</td>\n      <td>0.516</td>\n      <td>0.103</td>\n      <td>0.056</td>\n    </tr>\n    <tr>\n      <th>56</th>\n      <td>57</td>\n      <td>South Korea</td>\n      <td>5.875</td>\n      <td>1.266</td>\n      <td>1.204</td>\n      <td>0.955</td>\n      <td>0.244</td>\n      <td>0.175</td>\n      <td>0.051</td>\n    </tr>\n    <tr>\n      <th>112</th>\n      <td>113</td>\n      <td>Sierra Leone</td>\n      <td>4.571</td>\n      <td>0.256</td>\n      <td>0.813</td>\n      <td>0.000</td>\n      <td>0.355</td>\n      <td>0.238</td>\n      <td>0.053</td>\n    </tr>\n    <tr>\n      <th>64</th>\n      <td>65</td>\n      <td>Peru</td>\n      <td>5.663</td>\n      <td>0.934</td>\n      <td>1.249</td>\n      <td>0.674</td>\n      <td>0.530</td>\n      <td>0.092</td>\n      <td>0.034</td>\n    </tr>\n    <tr>\n      <th>51</th>\n      <td>52</td>\n      <td>Romania</td>\n      <td>5.945</td>\n      <td>1.116</td>\n      <td>1.219</td>\n      <td>0.726</td>\n      <td>0.528</td>\n      <td>0.088</td>\n      <td>0.001</td>\n    </tr>\n    <tr>\n      <th>115</th>\n      <td>116</td>\n      <td>Sri Lanka</td>\n      <td>4.471</td>\n      <td>0.918</td>\n      <td>1.314</td>\n      <td>0.672</td>\n      <td>0.585</td>\n      <td>0.307</td>\n      <td>0.050</td>\n    </tr>\n    <tr>\n      <th>25</th>\n      <td>26</td>\n      <td>Taiwan</td>\n      <td>6.441</td>\n      <td>1.365</td>\n      <td>1.436</td>\n      <td>0.857</td>\n      <td>0.418</td>\n      <td>0.151</td>\n      <td>0.078</td>\n    </tr>\n    <tr>\n      <th>92</th>\n      <td>93</td>\n      <td>Bosnia and Herzegovina</td>\n      <td>5.129</td>\n      <td>0.915</td>\n      <td>1.078</td>\n      <td>0.758</td>\n      <td>0.280</td>\n      <td>0.216</td>\n      <td>0.000</td>\n    </tr>\n    <tr>\n      <th>109</th>\n      <td>110</td>\n      <td>Laos</td>\n      <td>4.623</td>\n      <td>0.720</td>\n      <td>1.034</td>\n      <td>0.441</td>\n      <td>0.626</td>\n      <td>0.230</td>\n      <td>0.174</td>\n    </tr>\n  </tbody>\n</table>\n</div>"
     },
     "execution_count": 63,
     "metadata": {},
     "output_type": "execute_result"
    }
   ]
  },
  {
   "cell_type": "code",
   "source": [
    "#4 sample using seed\n",
    "dataframe.sample(n=10, random_state=2220)  #We gave a seed for the random operations, it will always result same"
   ],
   "metadata": {
    "id": "N9MA5WPBD5zt",
    "ExecuteTime": {
     "end_time": "2024-10-16T20:24:35.894632Z",
     "start_time": "2024-10-16T20:24:35.889283Z"
    }
   },
   "execution_count": 64,
   "outputs": [
    {
     "data": {
      "text/plain": "     Overall rank        Country or region  Score  GDP per capita  \\\n111           112                  Albania  4.586           0.916   \n50             51                 Slovenia  5.948           1.219   \n108           109                  Senegal  4.631           0.429   \n27             28                   Brazil  6.419           0.986   \n116           117                     Iraq  4.456           1.010   \n83             84                  Algeria  5.295           0.979   \n103           104  Palestinian Territories  4.743           0.642   \n110           111                  Tunisia  4.592           0.900   \n51             52                  Romania  5.945           1.116   \n39             40              El Salvador  6.167           0.806   \n\n     Social support  Healthy life expectancy  Freedom to make life choices  \\\n111           0.817                    0.790                         0.419   \n50            1.506                    0.856                         0.633   \n108           1.117                    0.433                         0.406   \n27            1.474                    0.675                         0.493   \n116           0.971                    0.536                         0.304   \n83            1.154                    0.687                         0.077   \n103           1.217                    0.602                         0.266   \n110           0.906                    0.690                         0.271   \n51            1.219                    0.726                         0.528   \n39            1.231                    0.639                         0.461   \n\n     Generosity  Perceptions of corruption  \n111       0.149                      0.032  \n50        0.160                      0.051  \n108       0.138                      0.082  \n27        0.110                      0.088  \n116       0.148                      0.095  \n83        0.055                      0.135  \n103       0.086                      0.076  \n110       0.040                      0.063  \n51        0.088                      0.001  \n39        0.065                      0.082  ",
      "text/html": "<div>\n<style scoped>\n    .dataframe tbody tr th:only-of-type {\n        vertical-align: middle;\n    }\n\n    .dataframe tbody tr th {\n        vertical-align: top;\n    }\n\n    .dataframe thead th {\n        text-align: right;\n    }\n</style>\n<table border=\"1\" class=\"dataframe\">\n  <thead>\n    <tr style=\"text-align: right;\">\n      <th></th>\n      <th>Overall rank</th>\n      <th>Country or region</th>\n      <th>Score</th>\n      <th>GDP per capita</th>\n      <th>Social support</th>\n      <th>Healthy life expectancy</th>\n      <th>Freedom to make life choices</th>\n      <th>Generosity</th>\n      <th>Perceptions of corruption</th>\n    </tr>\n  </thead>\n  <tbody>\n    <tr>\n      <th>111</th>\n      <td>112</td>\n      <td>Albania</td>\n      <td>4.586</td>\n      <td>0.916</td>\n      <td>0.817</td>\n      <td>0.790</td>\n      <td>0.419</td>\n      <td>0.149</td>\n      <td>0.032</td>\n    </tr>\n    <tr>\n      <th>50</th>\n      <td>51</td>\n      <td>Slovenia</td>\n      <td>5.948</td>\n      <td>1.219</td>\n      <td>1.506</td>\n      <td>0.856</td>\n      <td>0.633</td>\n      <td>0.160</td>\n      <td>0.051</td>\n    </tr>\n    <tr>\n      <th>108</th>\n      <td>109</td>\n      <td>Senegal</td>\n      <td>4.631</td>\n      <td>0.429</td>\n      <td>1.117</td>\n      <td>0.433</td>\n      <td>0.406</td>\n      <td>0.138</td>\n      <td>0.082</td>\n    </tr>\n    <tr>\n      <th>27</th>\n      <td>28</td>\n      <td>Brazil</td>\n      <td>6.419</td>\n      <td>0.986</td>\n      <td>1.474</td>\n      <td>0.675</td>\n      <td>0.493</td>\n      <td>0.110</td>\n      <td>0.088</td>\n    </tr>\n    <tr>\n      <th>116</th>\n      <td>117</td>\n      <td>Iraq</td>\n      <td>4.456</td>\n      <td>1.010</td>\n      <td>0.971</td>\n      <td>0.536</td>\n      <td>0.304</td>\n      <td>0.148</td>\n      <td>0.095</td>\n    </tr>\n    <tr>\n      <th>83</th>\n      <td>84</td>\n      <td>Algeria</td>\n      <td>5.295</td>\n      <td>0.979</td>\n      <td>1.154</td>\n      <td>0.687</td>\n      <td>0.077</td>\n      <td>0.055</td>\n      <td>0.135</td>\n    </tr>\n    <tr>\n      <th>103</th>\n      <td>104</td>\n      <td>Palestinian Territories</td>\n      <td>4.743</td>\n      <td>0.642</td>\n      <td>1.217</td>\n      <td>0.602</td>\n      <td>0.266</td>\n      <td>0.086</td>\n      <td>0.076</td>\n    </tr>\n    <tr>\n      <th>110</th>\n      <td>111</td>\n      <td>Tunisia</td>\n      <td>4.592</td>\n      <td>0.900</td>\n      <td>0.906</td>\n      <td>0.690</td>\n      <td>0.271</td>\n      <td>0.040</td>\n      <td>0.063</td>\n    </tr>\n    <tr>\n      <th>51</th>\n      <td>52</td>\n      <td>Romania</td>\n      <td>5.945</td>\n      <td>1.116</td>\n      <td>1.219</td>\n      <td>0.726</td>\n      <td>0.528</td>\n      <td>0.088</td>\n      <td>0.001</td>\n    </tr>\n    <tr>\n      <th>39</th>\n      <td>40</td>\n      <td>El Salvador</td>\n      <td>6.167</td>\n      <td>0.806</td>\n      <td>1.231</td>\n      <td>0.639</td>\n      <td>0.461</td>\n      <td>0.065</td>\n      <td>0.082</td>\n    </tr>\n  </tbody>\n</table>\n</div>"
     },
     "execution_count": 64,
     "metadata": {},
     "output_type": "execute_result"
    }
   ]
  },
  {
   "cell_type": "code",
   "source": [
    "#5 Display every 10th row\n",
    "dataframe.iloc[9::10]  #Start from 10th row, continue until the end, jump 10 row as a step"
   ],
   "metadata": {
    "id": "GjUmX2RdD7X_",
    "ExecuteTime": {
     "end_time": "2024-10-16T20:24:35.934074Z",
     "start_time": "2024-10-16T20:24:35.928089Z"
    }
   },
   "execution_count": 65,
   "outputs": [
    {
     "data": {
      "text/plain": "     Overall rank     Country or region  Score  GDP per capita  \\\n9              10             Australia  7.272           1.340   \n19             20  United Arab Emirates  6.774           2.096   \n29             30             Guatemala  6.382           0.781   \n39             40           El Salvador  6.167           0.806   \n49             50             Lithuania  5.952           1.197   \n59             60            Kazakhstan  5.790           1.143   \n69             70                 Libya  5.566           0.985   \n79             80               Lebanon  5.358           0.965   \n89             90                Jordan  5.161           0.822   \n99            100              Bulgaria  4.933           1.054   \n109           110                  Laos  4.623           0.720   \n119           120              Cambodia  4.433           0.549   \n129           130               Myanmar  4.308           0.682   \n139           140                Guinea  3.964           0.344   \n149           150                 Syria  3.462           0.689   \n\n     Social support  Healthy life expectancy  Freedom to make life choices  \\\n9             1.573                    0.910                         0.647   \n19            0.776                    0.670                         0.284   \n29            1.268                    0.608                         0.604   \n39            1.231                    0.639                         0.461   \n49            1.527                    0.716                         0.350   \n59            1.516                    0.631                         0.454   \n69            1.350                    0.553                         0.496   \n79            1.179                    0.785                         0.503   \n89            1.265                    0.645                         0.468   \n99            1.515                    0.712                         0.359   \n109           1.034                    0.441                         0.626   \n119           1.088                    0.457                         0.696   \n129           1.174                    0.429                         0.580   \n139           0.792                    0.211                         0.394   \n149           0.382                    0.539                         0.088   \n\n     Generosity  Perceptions of corruption  \n9         0.361                      0.302  \n19        0.186                        NaN  \n29        0.179                      0.071  \n39        0.065                      0.082  \n49        0.026                      0.006  \n59        0.148                      0.121  \n69        0.116                      0.148  \n79        0.214                      0.136  \n89        0.130                      0.134  \n99        0.064                      0.009  \n109       0.230                      0.174  \n119       0.256                      0.065  \n129       0.598                      0.178  \n139       0.185                      0.094  \n149       0.376                      0.144  ",
      "text/html": "<div>\n<style scoped>\n    .dataframe tbody tr th:only-of-type {\n        vertical-align: middle;\n    }\n\n    .dataframe tbody tr th {\n        vertical-align: top;\n    }\n\n    .dataframe thead th {\n        text-align: right;\n    }\n</style>\n<table border=\"1\" class=\"dataframe\">\n  <thead>\n    <tr style=\"text-align: right;\">\n      <th></th>\n      <th>Overall rank</th>\n      <th>Country or region</th>\n      <th>Score</th>\n      <th>GDP per capita</th>\n      <th>Social support</th>\n      <th>Healthy life expectancy</th>\n      <th>Freedom to make life choices</th>\n      <th>Generosity</th>\n      <th>Perceptions of corruption</th>\n    </tr>\n  </thead>\n  <tbody>\n    <tr>\n      <th>9</th>\n      <td>10</td>\n      <td>Australia</td>\n      <td>7.272</td>\n      <td>1.340</td>\n      <td>1.573</td>\n      <td>0.910</td>\n      <td>0.647</td>\n      <td>0.361</td>\n      <td>0.302</td>\n    </tr>\n    <tr>\n      <th>19</th>\n      <td>20</td>\n      <td>United Arab Emirates</td>\n      <td>6.774</td>\n      <td>2.096</td>\n      <td>0.776</td>\n      <td>0.670</td>\n      <td>0.284</td>\n      <td>0.186</td>\n      <td>NaN</td>\n    </tr>\n    <tr>\n      <th>29</th>\n      <td>30</td>\n      <td>Guatemala</td>\n      <td>6.382</td>\n      <td>0.781</td>\n      <td>1.268</td>\n      <td>0.608</td>\n      <td>0.604</td>\n      <td>0.179</td>\n      <td>0.071</td>\n    </tr>\n    <tr>\n      <th>39</th>\n      <td>40</td>\n      <td>El Salvador</td>\n      <td>6.167</td>\n      <td>0.806</td>\n      <td>1.231</td>\n      <td>0.639</td>\n      <td>0.461</td>\n      <td>0.065</td>\n      <td>0.082</td>\n    </tr>\n    <tr>\n      <th>49</th>\n      <td>50</td>\n      <td>Lithuania</td>\n      <td>5.952</td>\n      <td>1.197</td>\n      <td>1.527</td>\n      <td>0.716</td>\n      <td>0.350</td>\n      <td>0.026</td>\n      <td>0.006</td>\n    </tr>\n    <tr>\n      <th>59</th>\n      <td>60</td>\n      <td>Kazakhstan</td>\n      <td>5.790</td>\n      <td>1.143</td>\n      <td>1.516</td>\n      <td>0.631</td>\n      <td>0.454</td>\n      <td>0.148</td>\n      <td>0.121</td>\n    </tr>\n    <tr>\n      <th>69</th>\n      <td>70</td>\n      <td>Libya</td>\n      <td>5.566</td>\n      <td>0.985</td>\n      <td>1.350</td>\n      <td>0.553</td>\n      <td>0.496</td>\n      <td>0.116</td>\n      <td>0.148</td>\n    </tr>\n    <tr>\n      <th>79</th>\n      <td>80</td>\n      <td>Lebanon</td>\n      <td>5.358</td>\n      <td>0.965</td>\n      <td>1.179</td>\n      <td>0.785</td>\n      <td>0.503</td>\n      <td>0.214</td>\n      <td>0.136</td>\n    </tr>\n    <tr>\n      <th>89</th>\n      <td>90</td>\n      <td>Jordan</td>\n      <td>5.161</td>\n      <td>0.822</td>\n      <td>1.265</td>\n      <td>0.645</td>\n      <td>0.468</td>\n      <td>0.130</td>\n      <td>0.134</td>\n    </tr>\n    <tr>\n      <th>99</th>\n      <td>100</td>\n      <td>Bulgaria</td>\n      <td>4.933</td>\n      <td>1.054</td>\n      <td>1.515</td>\n      <td>0.712</td>\n      <td>0.359</td>\n      <td>0.064</td>\n      <td>0.009</td>\n    </tr>\n    <tr>\n      <th>109</th>\n      <td>110</td>\n      <td>Laos</td>\n      <td>4.623</td>\n      <td>0.720</td>\n      <td>1.034</td>\n      <td>0.441</td>\n      <td>0.626</td>\n      <td>0.230</td>\n      <td>0.174</td>\n    </tr>\n    <tr>\n      <th>119</th>\n      <td>120</td>\n      <td>Cambodia</td>\n      <td>4.433</td>\n      <td>0.549</td>\n      <td>1.088</td>\n      <td>0.457</td>\n      <td>0.696</td>\n      <td>0.256</td>\n      <td>0.065</td>\n    </tr>\n    <tr>\n      <th>129</th>\n      <td>130</td>\n      <td>Myanmar</td>\n      <td>4.308</td>\n      <td>0.682</td>\n      <td>1.174</td>\n      <td>0.429</td>\n      <td>0.580</td>\n      <td>0.598</td>\n      <td>0.178</td>\n    </tr>\n    <tr>\n      <th>139</th>\n      <td>140</td>\n      <td>Guinea</td>\n      <td>3.964</td>\n      <td>0.344</td>\n      <td>0.792</td>\n      <td>0.211</td>\n      <td>0.394</td>\n      <td>0.185</td>\n      <td>0.094</td>\n    </tr>\n    <tr>\n      <th>149</th>\n      <td>150</td>\n      <td>Syria</td>\n      <td>3.462</td>\n      <td>0.689</td>\n      <td>0.382</td>\n      <td>0.539</td>\n      <td>0.088</td>\n      <td>0.376</td>\n      <td>0.144</td>\n    </tr>\n  </tbody>\n</table>\n</div>"
     },
     "execution_count": 65,
     "metadata": {},
     "output_type": "execute_result"
    }
   ]
  },
  {
   "cell_type": "code",
   "source": [
    "#6 Get the summary stats of the dataset regarding each column\n",
    "dataframe.describe(include='all')  #For non-numeric column \"Country or region\" include parameter is 'all'"
   ],
   "metadata": {
    "id": "DXdwpo1SD9-F",
    "ExecuteTime": {
     "end_time": "2024-10-16T20:24:35.985384Z",
     "start_time": "2024-10-16T20:24:35.975521Z"
    }
   },
   "execution_count": 66,
   "outputs": [
    {
     "data": {
      "text/plain": "        Overall rank Country or region       Score  GDP per capita  \\\ncount     156.000000               156  156.000000      156.000000   \nunique           NaN               156         NaN             NaN   \ntop              NaN           Finland         NaN             NaN   \nfreq             NaN                 1         NaN             NaN   \nmean       78.500000               NaN    5.375917        0.891449   \nstd        45.177428               NaN    1.119506        0.391921   \nmin         1.000000               NaN    2.905000        0.000000   \n25%        39.750000               NaN    4.453750        0.616250   \n50%        78.500000               NaN    5.378000        0.949500   \n75%       117.250000               NaN    6.168500        1.197750   \nmax       156.000000               NaN    7.632000        2.096000   \n\n        Social support  Healthy life expectancy  Freedom to make life choices  \\\ncount       156.000000               156.000000                    156.000000   \nunique             NaN                      NaN                           NaN   \ntop                NaN                      NaN                           NaN   \nfreq               NaN                      NaN                           NaN   \nmean          1.213237                 0.597346                      0.454506   \nstd           0.302372                 0.247579                      0.162424   \nmin           0.000000                 0.000000                      0.000000   \n25%           1.066750                 0.422250                      0.356000   \n50%           1.255000                 0.644000                      0.487000   \n75%           1.463000                 0.777250                      0.578500   \nmax           1.644000                 1.030000                      0.724000   \n\n        Generosity  Perceptions of corruption  \ncount   156.000000                 155.000000  \nunique         NaN                        NaN  \ntop            NaN                        NaN  \nfreq           NaN                        NaN  \nmean      0.181006                   0.112000  \nstd       0.098471                   0.096492  \nmin       0.000000                   0.000000  \n25%       0.109500                   0.051000  \n50%       0.174000                   0.082000  \n75%       0.239000                   0.137000  \nmax       0.598000                   0.457000  ",
      "text/html": "<div>\n<style scoped>\n    .dataframe tbody tr th:only-of-type {\n        vertical-align: middle;\n    }\n\n    .dataframe tbody tr th {\n        vertical-align: top;\n    }\n\n    .dataframe thead th {\n        text-align: right;\n    }\n</style>\n<table border=\"1\" class=\"dataframe\">\n  <thead>\n    <tr style=\"text-align: right;\">\n      <th></th>\n      <th>Overall rank</th>\n      <th>Country or region</th>\n      <th>Score</th>\n      <th>GDP per capita</th>\n      <th>Social support</th>\n      <th>Healthy life expectancy</th>\n      <th>Freedom to make life choices</th>\n      <th>Generosity</th>\n      <th>Perceptions of corruption</th>\n    </tr>\n  </thead>\n  <tbody>\n    <tr>\n      <th>count</th>\n      <td>156.000000</td>\n      <td>156</td>\n      <td>156.000000</td>\n      <td>156.000000</td>\n      <td>156.000000</td>\n      <td>156.000000</td>\n      <td>156.000000</td>\n      <td>156.000000</td>\n      <td>155.000000</td>\n    </tr>\n    <tr>\n      <th>unique</th>\n      <td>NaN</td>\n      <td>156</td>\n      <td>NaN</td>\n      <td>NaN</td>\n      <td>NaN</td>\n      <td>NaN</td>\n      <td>NaN</td>\n      <td>NaN</td>\n      <td>NaN</td>\n    </tr>\n    <tr>\n      <th>top</th>\n      <td>NaN</td>\n      <td>Finland</td>\n      <td>NaN</td>\n      <td>NaN</td>\n      <td>NaN</td>\n      <td>NaN</td>\n      <td>NaN</td>\n      <td>NaN</td>\n      <td>NaN</td>\n    </tr>\n    <tr>\n      <th>freq</th>\n      <td>NaN</td>\n      <td>1</td>\n      <td>NaN</td>\n      <td>NaN</td>\n      <td>NaN</td>\n      <td>NaN</td>\n      <td>NaN</td>\n      <td>NaN</td>\n      <td>NaN</td>\n    </tr>\n    <tr>\n      <th>mean</th>\n      <td>78.500000</td>\n      <td>NaN</td>\n      <td>5.375917</td>\n      <td>0.891449</td>\n      <td>1.213237</td>\n      <td>0.597346</td>\n      <td>0.454506</td>\n      <td>0.181006</td>\n      <td>0.112000</td>\n    </tr>\n    <tr>\n      <th>std</th>\n      <td>45.177428</td>\n      <td>NaN</td>\n      <td>1.119506</td>\n      <td>0.391921</td>\n      <td>0.302372</td>\n      <td>0.247579</td>\n      <td>0.162424</td>\n      <td>0.098471</td>\n      <td>0.096492</td>\n    </tr>\n    <tr>\n      <th>min</th>\n      <td>1.000000</td>\n      <td>NaN</td>\n      <td>2.905000</td>\n      <td>0.000000</td>\n      <td>0.000000</td>\n      <td>0.000000</td>\n      <td>0.000000</td>\n      <td>0.000000</td>\n      <td>0.000000</td>\n    </tr>\n    <tr>\n      <th>25%</th>\n      <td>39.750000</td>\n      <td>NaN</td>\n      <td>4.453750</td>\n      <td>0.616250</td>\n      <td>1.066750</td>\n      <td>0.422250</td>\n      <td>0.356000</td>\n      <td>0.109500</td>\n      <td>0.051000</td>\n    </tr>\n    <tr>\n      <th>50%</th>\n      <td>78.500000</td>\n      <td>NaN</td>\n      <td>5.378000</td>\n      <td>0.949500</td>\n      <td>1.255000</td>\n      <td>0.644000</td>\n      <td>0.487000</td>\n      <td>0.174000</td>\n      <td>0.082000</td>\n    </tr>\n    <tr>\n      <th>75%</th>\n      <td>117.250000</td>\n      <td>NaN</td>\n      <td>6.168500</td>\n      <td>1.197750</td>\n      <td>1.463000</td>\n      <td>0.777250</td>\n      <td>0.578500</td>\n      <td>0.239000</td>\n      <td>0.137000</td>\n    </tr>\n    <tr>\n      <th>max</th>\n      <td>156.000000</td>\n      <td>NaN</td>\n      <td>7.632000</td>\n      <td>2.096000</td>\n      <td>1.644000</td>\n      <td>1.030000</td>\n      <td>0.724000</td>\n      <td>0.598000</td>\n      <td>0.457000</td>\n    </tr>\n  </tbody>\n</table>\n</div>"
     },
     "execution_count": 66,
     "metadata": {},
     "output_type": "execute_result"
    }
   ]
  },
  {
   "cell_type": "code",
   "source": [
    "#7 Identify and count the number of missing values in each column\n",
    "\"\"\"\n",
    "First, it creates a same sized DataFrame with Boolean values (True or False) indicating whether each cell contains a NaN value (dataframe.isnull())\n",
    "\n",
    "Then, it creates a Series with Boolean values (True or False) indicating whether each row contains True(NaN in this case) (.any(axis = 1))\n",
    "\n",
    "Last, using Series it filters the dataframe.\n",
    "\"\"\"\n",
    "rows_containing_null = dataframe[dataframe.isnull().any(axis=1)]\n",
    "rows_containing_null"
   ],
   "metadata": {
    "id": "qhE0TwZZEAM5",
    "ExecuteTime": {
     "end_time": "2024-10-16T20:24:36.029258Z",
     "start_time": "2024-10-16T20:24:36.024722Z"
    }
   },
   "execution_count": 67,
   "outputs": [
    {
     "data": {
      "text/plain": "    Overall rank     Country or region  Score  GDP per capita  Social support  \\\n19            20  United Arab Emirates  6.774           2.096           0.776   \n\n    Healthy life expectancy  Freedom to make life choices  Generosity  \\\n19                     0.67                         0.284       0.186   \n\n    Perceptions of corruption  \n19                        NaN  ",
      "text/html": "<div>\n<style scoped>\n    .dataframe tbody tr th:only-of-type {\n        vertical-align: middle;\n    }\n\n    .dataframe tbody tr th {\n        vertical-align: top;\n    }\n\n    .dataframe thead th {\n        text-align: right;\n    }\n</style>\n<table border=\"1\" class=\"dataframe\">\n  <thead>\n    <tr style=\"text-align: right;\">\n      <th></th>\n      <th>Overall rank</th>\n      <th>Country or region</th>\n      <th>Score</th>\n      <th>GDP per capita</th>\n      <th>Social support</th>\n      <th>Healthy life expectancy</th>\n      <th>Freedom to make life choices</th>\n      <th>Generosity</th>\n      <th>Perceptions of corruption</th>\n    </tr>\n  </thead>\n  <tbody>\n    <tr>\n      <th>19</th>\n      <td>20</td>\n      <td>United Arab Emirates</td>\n      <td>6.774</td>\n      <td>2.096</td>\n      <td>0.776</td>\n      <td>0.67</td>\n      <td>0.284</td>\n      <td>0.186</td>\n      <td>NaN</td>\n    </tr>\n  </tbody>\n</table>\n</div>"
     },
     "execution_count": 67,
     "metadata": {},
     "output_type": "execute_result"
    }
   ]
  },
  {
   "cell_type": "code",
   "outputs": [
    {
     "data": {
      "text/plain": "Overall rank                    0\nCountry or region               0\nScore                           0\nGDP per capita                  0\nSocial support                  0\nHealthy life expectancy         0\nFreedom to make life choices    0\nGenerosity                      0\nPerceptions of corruption       1\ndtype: int64"
     },
     "execution_count": 68,
     "metadata": {},
     "output_type": "execute_result"
    }
   ],
   "source": [
    "#7\n",
    "\"\"\"\n",
    "First, it creates a same sized DataFrame with Boolean values (True or False) indicating whether each cell contains a NaN value (dataframe.isnull())\n",
    "\n",
    "Then, it sums the Boolean values for each column separately (where True is treated as 1 and False as 0), resulting in the count of NaN values for each column.\n",
    "\"\"\"\n",
    "rows_containing_null.isnull().sum()"
   ],
   "metadata": {
    "collapsed": false,
    "ExecuteTime": {
     "end_time": "2024-10-16T20:24:36.108578Z",
     "start_time": "2024-10-16T20:24:36.105456Z"
    }
   },
   "execution_count": 68
  },
  {
   "cell_type": "markdown",
   "source": [
    "# Q2. Basic Data Statistics: **(10 Pts)**\n",
    "\n",
    "1. Calculate the mean, median, and standard deviation of the happiness Score across all countries. **(1 Pts)**\n",
    "2. Identify the top 5 happiest countries and the bottom 5 least happy countries based on happiness Score. **(1 Pts)**\n",
    "3. Find the country with the highest Healthy Life Expectancy. What is the corresponding happiness Score? **(2 Pts)**\n",
    "4. Calculate the average Corruption Perceptions for countries with a happiness Score greater than 6. **(2 Pts)**\n",
    "5. Are there any countries where Generosity is higher than Social Support? List them. **(2 Pts)**\n",
    "6. What is the range (max-min) of GDP per Capita values in the dataset? **(2 Pts)**"
   ],
   "metadata": {
    "id": "03njHFZpEDcR"
   }
  },
  {
   "cell_type": "code",
   "source": [
    "#1\n",
    "dataframe[\"Score\"].agg([\"mean\", \"median\", \"std\"])  #Apllies aggregation to the Score column and computes wanted stats"
   ],
   "metadata": {
    "id": "7VerqUJlIxdB",
    "ExecuteTime": {
     "end_time": "2024-10-16T20:24:36.161611Z",
     "start_time": "2024-10-16T20:24:36.158504Z"
    }
   },
   "execution_count": 69,
   "outputs": [
    {
     "data": {
      "text/plain": "mean      5.375917\nmedian    5.378000\nstd       1.119506\nName: Score, dtype: float64"
     },
     "execution_count": 69,
     "metadata": {},
     "output_type": "execute_result"
    }
   ]
  },
  {
   "cell_type": "code",
   "source": [
    "#2\n",
    "dataframe.nlargest(n=5, columns=[\"Score\"])[[\"Score\", \"Country or region\"]]  #Top 5 happiest countries"
   ],
   "metadata": {
    "id": "wggNKMOnIxZR",
    "ExecuteTime": {
     "end_time": "2024-10-16T20:24:36.227939Z",
     "start_time": "2024-10-16T20:24:36.223902Z"
    }
   },
   "execution_count": 70,
   "outputs": [
    {
     "data": {
      "text/plain": "   Score Country or region\n0  7.632           Finland\n1  7.594            Norway\n2  7.555           Denmark\n3  7.495           Iceland\n4  7.487       Switzerland",
      "text/html": "<div>\n<style scoped>\n    .dataframe tbody tr th:only-of-type {\n        vertical-align: middle;\n    }\n\n    .dataframe tbody tr th {\n        vertical-align: top;\n    }\n\n    .dataframe thead th {\n        text-align: right;\n    }\n</style>\n<table border=\"1\" class=\"dataframe\">\n  <thead>\n    <tr style=\"text-align: right;\">\n      <th></th>\n      <th>Score</th>\n      <th>Country or region</th>\n    </tr>\n  </thead>\n  <tbody>\n    <tr>\n      <th>0</th>\n      <td>7.632</td>\n      <td>Finland</td>\n    </tr>\n    <tr>\n      <th>1</th>\n      <td>7.594</td>\n      <td>Norway</td>\n    </tr>\n    <tr>\n      <th>2</th>\n      <td>7.555</td>\n      <td>Denmark</td>\n    </tr>\n    <tr>\n      <th>3</th>\n      <td>7.495</td>\n      <td>Iceland</td>\n    </tr>\n    <tr>\n      <th>4</th>\n      <td>7.487</td>\n      <td>Switzerland</td>\n    </tr>\n  </tbody>\n</table>\n</div>"
     },
     "execution_count": 70,
     "metadata": {},
     "output_type": "execute_result"
    }
   ]
  },
  {
   "cell_type": "code",
   "outputs": [
    {
     "data": {
      "text/plain": "     Score         Country or region\n155  2.905                   Burundi\n154  3.083  Central African Republic\n153  3.254               South Sudan\n152  3.303                  Tanzania\n151  3.355                     Yemen",
      "text/html": "<div>\n<style scoped>\n    .dataframe tbody tr th:only-of-type {\n        vertical-align: middle;\n    }\n\n    .dataframe tbody tr th {\n        vertical-align: top;\n    }\n\n    .dataframe thead th {\n        text-align: right;\n    }\n</style>\n<table border=\"1\" class=\"dataframe\">\n  <thead>\n    <tr style=\"text-align: right;\">\n      <th></th>\n      <th>Score</th>\n      <th>Country or region</th>\n    </tr>\n  </thead>\n  <tbody>\n    <tr>\n      <th>155</th>\n      <td>2.905</td>\n      <td>Burundi</td>\n    </tr>\n    <tr>\n      <th>154</th>\n      <td>3.083</td>\n      <td>Central African Republic</td>\n    </tr>\n    <tr>\n      <th>153</th>\n      <td>3.254</td>\n      <td>South Sudan</td>\n    </tr>\n    <tr>\n      <th>152</th>\n      <td>3.303</td>\n      <td>Tanzania</td>\n    </tr>\n    <tr>\n      <th>151</th>\n      <td>3.355</td>\n      <td>Yemen</td>\n    </tr>\n  </tbody>\n</table>\n</div>"
     },
     "execution_count": 71,
     "metadata": {},
     "output_type": "execute_result"
    }
   ],
   "source": [
    "#2\n",
    "dataframe.nsmallest(n=5, columns=[\"Score\"])[[\"Score\", \"Country or region\"]]  #Bottom 5 least happy countries"
   ],
   "metadata": {
    "collapsed": false,
    "ExecuteTime": {
     "end_time": "2024-10-16T20:24:36.280728Z",
     "start_time": "2024-10-16T20:24:36.276235Z"
    }
   },
   "execution_count": 71
  },
  {
   "cell_type": "code",
   "source": [
    "#3\n",
    "\"\"\"\n",
    "First returns a Series that contains the indexes of the maximum data in each columns separately (dataframe.idxmax()), \n",
    "Then, gets the index of the maximum data in Healthy life expectancy column (.get(key=\"Healthy life expectancy\"))\n",
    "Last, gets the Country and Score data using iloc\n",
    "\"\"\"\n",
    "index_of_max = dataframe.idxmax().get(key=\"Healthy life expectancy\")\n",
    "dataframe.iloc[index_of_max][[\"Country or region\", \"Score\"]]"
   ],
   "metadata": {
    "id": "HEMghv00IxU1",
    "ExecuteTime": {
     "end_time": "2024-10-16T20:24:36.291127Z",
     "start_time": "2024-10-16T20:24:36.287633Z"
    }
   },
   "execution_count": 72,
   "outputs": [
    {
     "data": {
      "text/plain": "Country or region    Hong Kong\nScore                     5.43\nName: 75, dtype: object"
     },
     "execution_count": 72,
     "metadata": {},
     "output_type": "execute_result"
    }
   ]
  },
  {
   "cell_type": "code",
   "source": [
    "#4\n",
    "filtering_series = dataframe[\n",
    "                       \"Score\"] > 6  #Returns a boolean Series indicating whether score is grater than 6 for the country\n",
    "dataframe[filtering_series][\"Perceptions of corruption\"].mean()  #Calculates average corruption perceptions"
   ],
   "metadata": {
    "id": "7V9fOGmyIxPx",
    "ExecuteTime": {
     "end_time": "2024-10-16T20:24:36.310109Z",
     "start_time": "2024-10-16T20:24:36.306563Z"
    }
   },
   "execution_count": 73,
   "outputs": [
    {
     "data": {
      "text/plain": "np.float64(0.1782888888888889)"
     },
     "execution_count": 73,
     "metadata": {},
     "output_type": "execute_result"
    }
   ]
  },
  {
   "cell_type": "code",
   "source": [
    "#5\n",
    "filtering_series = dataframe[\"Generosity\"] > dataframe[\n",
    "    \"Social support\"]  #Returns a boolean Series indicating whether generosity is grater than social support for the country\n",
    "dataframe[filtering_series][\"Country or region\"]"
   ],
   "metadata": {
    "id": "Xu8KeZpuIxKX",
    "ExecuteTime": {
     "end_time": "2024-10-16T20:24:36.328433Z",
     "start_time": "2024-10-16T20:24:36.325157Z"
    }
   },
   "execution_count": 74,
   "outputs": [
    {
     "data": {
      "text/plain": "154    Central African Republic\nName: Country or region, dtype: object"
     },
     "execution_count": 74,
     "metadata": {},
     "output_type": "execute_result"
    }
   ]
  },
  {
   "cell_type": "code",
   "source": [
    "#6\n",
    "index_of_max = dataframe.idxmax().get(key=\"GDP per capita\")\n",
    "index_of_min = dataframe.idxmin().get(key=\"GDP per capita\")\n",
    "#Calculating range\n",
    "(dataframe.iloc[index_of_max][[\"GDP per capita\"]] - dataframe.iloc[index_of_min][[\"GDP per capita\"]]).get(\n",
    "    key=\"GDP per capita\"), \"max: \", dataframe.iloc[index_of_max][\"GDP per capita\"], \"min: \", \\\n",
    "dataframe.iloc[index_of_min][\"GDP per capita\"]"
   ],
   "metadata": {
    "id": "TwGHH-K9IxDy",
    "ExecuteTime": {
     "end_time": "2024-10-16T20:24:36.365615Z",
     "start_time": "2024-10-16T20:24:36.362120Z"
    }
   },
   "execution_count": 75,
   "outputs": [
    {
     "data": {
      "text/plain": "(np.float64(2.096), 'max: ', np.float64(2.096), 'min: ', np.float64(0.0))"
     },
     "execution_count": 75,
     "metadata": {},
     "output_type": "execute_result"
    }
   ]
  },
  {
   "cell_type": "markdown",
   "source": [
    "# Q3. Data Filtering **(20 Pts)**\n",
    "\n",
    "1. How many countries have a Happiness Score greater than 7.5? List their names.**(2 Pts)**\n",
    "2. List all countries where the Corruption Perception score is below 0.2. **(2 Pts)**\n",
    "3. Filter and list the top 5 countries by Generosity. What is their average Happiness Score? **(2 Pts)**\n",
    "4. Find countries where GDP per Capita is less than 0.5 but the Happiness Score is above 4. List the countries. **(2 Pts)**\n",
    "5. Filter countries where Social Support is higher than Freedom to Make Life **(2 Pts)**\n",
    "6. Find countries in the top 10% of Healthy Life Expectancy and list their names. **(2 Pts)**\n",
    "7. Filter and list countries where Generosity is less than Social Support. What is the average Happiness Score of these countries? **(2 Pts)**\n",
    "8.  Find all countries with a Happiness Score below the median happiness score. How many are there, and what are the common characteristics of these countries? **(3 Pts)**\n",
    "9. Filter countries where both Freedom to Make Life Choices and Healthy Life Expectancy are above the global median. How many such countries are there? **(3 Pts)**"
   ],
   "metadata": {
    "id": "s6LGyNg0Fqns"
   }
  },
  {
   "cell_type": "code",
   "source": [
    "#1\n",
    "filtering_series = dataframe[\"Score\"] > 7.5  #Boolean Series as a filter\n",
    "dataframe[filtering_series][\"Country or region\"]"
   ],
   "metadata": {
    "id": "H2ZCnvlKIzvU",
    "ExecuteTime": {
     "end_time": "2024-10-16T20:24:36.400661Z",
     "start_time": "2024-10-16T20:24:36.398185Z"
    }
   },
   "execution_count": 76,
   "outputs": [
    {
     "data": {
      "text/plain": "0    Finland\n1     Norway\n2    Denmark\nName: Country or region, dtype: object"
     },
     "execution_count": 76,
     "metadata": {},
     "output_type": "execute_result"
    }
   ]
  },
  {
   "cell_type": "code",
   "outputs": [
    {
     "data": {
      "text/plain": "np.int64(3)"
     },
     "execution_count": 77,
     "metadata": {},
     "output_type": "execute_result"
    }
   ],
   "source": [
    "dataframe[filtering_series][\"Country or region\"].count()  #Number of countries have a Happiness Score greater than 7.5"
   ],
   "metadata": {
    "collapsed": false,
    "ExecuteTime": {
     "end_time": "2024-10-16T20:24:36.420998Z",
     "start_time": "2024-10-16T20:24:36.418346Z"
    }
   },
   "execution_count": 77
  },
  {
   "cell_type": "code",
   "source": [
    "#2\n",
    "filtering_series = dataframe[\"Perceptions of corruption\"] < 0.2  #Boolean Series as a filter\n",
    "dataframe[filtering_series][[\"Country or region\"]]"
   ],
   "metadata": {
    "id": "pedm2qN7Izpj",
    "ExecuteTime": {
     "end_time": "2024-10-16T20:24:36.433486Z",
     "start_time": "2024-10-16T20:24:36.430102Z"
    }
   },
   "execution_count": 78,
   "outputs": [
    {
     "data": {
      "text/plain": "            Country or region\n3                     Iceland\n10             United Kingdom\n12                 Costa Rica\n17              United States\n20             Czech Republic\n..                        ...\n151                     Yemen\n152                  Tanzania\n153               South Sudan\n154  Central African Republic\n155                   Burundi\n\n[134 rows x 1 columns]",
      "text/html": "<div>\n<style scoped>\n    .dataframe tbody tr th:only-of-type {\n        vertical-align: middle;\n    }\n\n    .dataframe tbody tr th {\n        vertical-align: top;\n    }\n\n    .dataframe thead th {\n        text-align: right;\n    }\n</style>\n<table border=\"1\" class=\"dataframe\">\n  <thead>\n    <tr style=\"text-align: right;\">\n      <th></th>\n      <th>Country or region</th>\n    </tr>\n  </thead>\n  <tbody>\n    <tr>\n      <th>3</th>\n      <td>Iceland</td>\n    </tr>\n    <tr>\n      <th>10</th>\n      <td>United Kingdom</td>\n    </tr>\n    <tr>\n      <th>12</th>\n      <td>Costa Rica</td>\n    </tr>\n    <tr>\n      <th>17</th>\n      <td>United States</td>\n    </tr>\n    <tr>\n      <th>20</th>\n      <td>Czech Republic</td>\n    </tr>\n    <tr>\n      <th>...</th>\n      <td>...</td>\n    </tr>\n    <tr>\n      <th>151</th>\n      <td>Yemen</td>\n    </tr>\n    <tr>\n      <th>152</th>\n      <td>Tanzania</td>\n    </tr>\n    <tr>\n      <th>153</th>\n      <td>South Sudan</td>\n    </tr>\n    <tr>\n      <th>154</th>\n      <td>Central African Republic</td>\n    </tr>\n    <tr>\n      <th>155</th>\n      <td>Burundi</td>\n    </tr>\n  </tbody>\n</table>\n<p>134 rows × 1 columns</p>\n</div>"
     },
     "execution_count": 78,
     "metadata": {},
     "output_type": "execute_result"
    }
   ]
  },
  {
   "cell_type": "code",
   "source": [
    "#3\n",
    "dataframe.nlargest(n=5, columns=[\"Generosity\"])[\n",
    "    \"Score\"].mean()  #n is country number will be listed and column is specified to sort"
   ],
   "metadata": {
    "id": "RDR7XZU0IzES",
    "ExecuteTime": {
     "end_time": "2024-10-16T20:24:36.462235Z",
     "start_time": "2024-10-16T20:24:36.458791Z"
    }
   },
   "execution_count": 79,
   "outputs": [
    {
     "data": {
      "text/plain": "np.float64(4.6144)"
     },
     "execution_count": 79,
     "metadata": {},
     "output_type": "execute_result"
    }
   ]
  },
  {
   "cell_type": "code",
   "source": [
    "#4\n",
    "filtering_series = (dataframe[\"Score\"] > 4) & (dataframe[\"GDP per capita\"] < 0.5)  #Boolean Series as a filter\n",
    "dataframe[filtering_series][\"Country or region\"]"
   ],
   "metadata": {
    "id": "Q-v1h509IzBw",
    "ExecuteTime": {
     "end_time": "2024-10-16T20:24:36.503127Z",
     "start_time": "2024-10-16T20:24:36.499788Z"
    }
   },
   "execution_count": 80,
   "outputs": [
    {
     "data": {
      "text/plain": "87           Tajikistan\n97              Somalia\n100               Nepal\n108             Senegal\n112        Sierra Leone\n117                Mali\n120        Burkina Faso\n122          Mozambique\n123               Kenya\n126            Ethiopia\n130                Chad\n131    Congo (Kinshasa)\n133               Niger\n134              Uganda\n135               Benin\nName: Country or region, dtype: object"
     },
     "execution_count": 80,
     "metadata": {},
     "output_type": "execute_result"
    }
   ]
  },
  {
   "cell_type": "code",
   "source": [
    "#5\n",
    "filtering_series = dataframe[\"Freedom to make life choices\"] < dataframe[\"Social support\"]  #Boolean Series as a filter\n",
    "dataframe[filtering_series][\"Country or region\"]"
   ],
   "metadata": {
    "id": "fsxfO5cvIy_L",
    "ExecuteTime": {
     "end_time": "2024-10-16T20:24:36.536199Z",
     "start_time": "2024-10-16T20:24:36.533286Z"
    }
   },
   "execution_count": 81,
   "outputs": [
    {
     "data": {
      "text/plain": "0          Finland\n1           Norway\n2          Denmark\n3          Iceland\n4      Switzerland\n          ...     \n150         Rwanda\n151          Yemen\n152       Tanzania\n153    South Sudan\n155        Burundi\nName: Country or region, Length: 154, dtype: object"
     },
     "execution_count": 81,
     "metadata": {},
     "output_type": "execute_result"
    }
   ]
  },
  {
   "cell_type": "code",
   "source": [
    "#6\n",
    "n = int(len(dataframe) * 0.1)  #Number of rows * %10\n",
    "dataframe.nlargest(n=n, columns=\"Healthy life expectancy\")[\"Country or region\"]"
   ],
   "metadata": {
    "id": "p-HrMopaIy8j",
    "ExecuteTime": {
     "end_time": "2024-10-16T20:24:36.567923Z",
     "start_time": "2024-10-16T20:24:36.564138Z"
    }
   },
   "execution_count": 82,
   "outputs": [
    {
     "data": {
      "text/plain": "75          Hong Kong\n33          Singapore\n53              Japan\n35              Spain\n56        South Korea\n46              Italy\n4         Switzerland\n3             Iceland\n8              Sweden\n9           Australia\n57    Northern Cyprus\n60             Cyprus\n22             France\n6              Canada\n16         Luxembourg\nName: Country or region, dtype: object"
     },
     "execution_count": 82,
     "metadata": {},
     "output_type": "execute_result"
    }
   ]
  },
  {
   "cell_type": "code",
   "source": [
    "#7\n",
    "filtering_series = dataframe[\"Generosity\"] < dataframe[\"Social support\"]  #Boolean Series as a filter\n",
    "dataframe[filtering_series][\"Country or region\"]"
   ],
   "metadata": {
    "id": "C3TofhTGIy53",
    "ExecuteTime": {
     "end_time": "2024-10-16T20:24:36.607279Z",
     "start_time": "2024-10-16T20:24:36.604177Z"
    }
   },
   "execution_count": 83,
   "outputs": [
    {
     "data": {
      "text/plain": "0          Finland\n1           Norway\n2          Denmark\n3          Iceland\n4      Switzerland\n          ...     \n150         Rwanda\n151          Yemen\n152       Tanzania\n153    South Sudan\n155        Burundi\nName: Country or region, Length: 155, dtype: object"
     },
     "execution_count": 83,
     "metadata": {},
     "output_type": "execute_result"
    }
   ]
  },
  {
   "cell_type": "code",
   "outputs": [
    {
     "data": {
      "text/plain": "np.float64(5.390709677419355)"
     },
     "execution_count": 84,
     "metadata": {},
     "output_type": "execute_result"
    }
   ],
   "source": [
    "#7\n",
    "dataframe[filtering_series][\"Score\"].mean()  #Average of happiness score for filtered countries"
   ],
   "metadata": {
    "collapsed": false,
    "ExecuteTime": {
     "end_time": "2024-10-16T20:24:36.618558Z",
     "start_time": "2024-10-16T20:24:36.616369Z"
    }
   },
   "execution_count": 84
  },
  {
   "cell_type": "code",
   "source": [
    "#8\n",
    "median_score = dataframe[\"Score\"].median()  #Median of the happiness scores\n",
    "filtering_series = median_score > dataframe[\"Score\"]  #Boolean Series as a filter\n",
    "filtered_countries = dataframe[filtering_series]\n",
    "filtered_countries[\"Country or region\"]  #Filtered countries as a dataframe"
   ],
   "metadata": {
    "id": "aErDzpSVIy3Q",
    "ExecuteTime": {
     "end_time": "2024-10-16T20:24:36.627628Z",
     "start_time": "2024-10-16T20:24:36.624872Z"
    }
   },
   "execution_count": 85,
   "outputs": [
    {
     "data": {
      "text/plain": "78                       Greece\n79                      Lebanon\n80                   Montenegro\n81                      Croatia\n82           Dominican Republic\n                 ...           \n151                       Yemen\n152                    Tanzania\n153                 South Sudan\n154    Central African Republic\n155                     Burundi\nName: Country or region, Length: 78, dtype: object"
     },
     "execution_count": 85,
     "metadata": {},
     "output_type": "execute_result"
    }
   ]
  },
  {
   "cell_type": "code",
   "outputs": [
    {
     "data": {
      "text/plain": "78"
     },
     "execution_count": 86,
     "metadata": {},
     "output_type": "execute_result"
    }
   ],
   "source": [
    "#8 \n",
    "len(filtered_countries)  #Number of countries "
   ],
   "metadata": {
    "collapsed": false,
    "ExecuteTime": {
     "end_time": "2024-10-16T20:24:36.655302Z",
     "start_time": "2024-10-16T20:24:36.652909Z"
    }
   },
   "execution_count": 86
  },
  {
   "cell_type": "code",
   "outputs": [
    {
     "data": {
      "text/plain": "       Overall rank       Score  GDP per capita  Social support  \\\ncount    156.000000  156.000000      156.000000      156.000000   \nmean      78.500000    5.375917        0.891449        1.213237   \nstd       45.177428    1.119506        0.391921        0.302372   \nmin        1.000000    2.905000        0.000000        0.000000   \n25%       39.750000    4.453750        0.616250        1.066750   \n50%       78.500000    5.378000        0.949500        1.255000   \n75%      117.250000    6.168500        1.197750        1.463000   \nmax      156.000000    7.632000        2.096000        1.644000   \n\n       Healthy life expectancy  Freedom to make life choices  Generosity  \\\ncount               156.000000                    156.000000  156.000000   \nmean                  0.597346                      0.454506    0.181006   \nstd                   0.247579                      0.162424    0.098471   \nmin                   0.000000                      0.000000    0.000000   \n25%                   0.422250                      0.356000    0.109500   \n50%                   0.644000                      0.487000    0.174000   \n75%                   0.777250                      0.578500    0.239000   \nmax                   1.030000                      0.724000    0.598000   \n\n       Perceptions of corruption  \ncount                 155.000000  \nmean                    0.112000  \nstd                     0.096492  \nmin                     0.000000  \n25%                     0.051000  \n50%                     0.082000  \n75%                     0.137000  \nmax                     0.457000  ",
      "text/html": "<div>\n<style scoped>\n    .dataframe tbody tr th:only-of-type {\n        vertical-align: middle;\n    }\n\n    .dataframe tbody tr th {\n        vertical-align: top;\n    }\n\n    .dataframe thead th {\n        text-align: right;\n    }\n</style>\n<table border=\"1\" class=\"dataframe\">\n  <thead>\n    <tr style=\"text-align: right;\">\n      <th></th>\n      <th>Overall rank</th>\n      <th>Score</th>\n      <th>GDP per capita</th>\n      <th>Social support</th>\n      <th>Healthy life expectancy</th>\n      <th>Freedom to make life choices</th>\n      <th>Generosity</th>\n      <th>Perceptions of corruption</th>\n    </tr>\n  </thead>\n  <tbody>\n    <tr>\n      <th>count</th>\n      <td>156.000000</td>\n      <td>156.000000</td>\n      <td>156.000000</td>\n      <td>156.000000</td>\n      <td>156.000000</td>\n      <td>156.000000</td>\n      <td>156.000000</td>\n      <td>155.000000</td>\n    </tr>\n    <tr>\n      <th>mean</th>\n      <td>78.500000</td>\n      <td>5.375917</td>\n      <td>0.891449</td>\n      <td>1.213237</td>\n      <td>0.597346</td>\n      <td>0.454506</td>\n      <td>0.181006</td>\n      <td>0.112000</td>\n    </tr>\n    <tr>\n      <th>std</th>\n      <td>45.177428</td>\n      <td>1.119506</td>\n      <td>0.391921</td>\n      <td>0.302372</td>\n      <td>0.247579</td>\n      <td>0.162424</td>\n      <td>0.098471</td>\n      <td>0.096492</td>\n    </tr>\n    <tr>\n      <th>min</th>\n      <td>1.000000</td>\n      <td>2.905000</td>\n      <td>0.000000</td>\n      <td>0.000000</td>\n      <td>0.000000</td>\n      <td>0.000000</td>\n      <td>0.000000</td>\n      <td>0.000000</td>\n    </tr>\n    <tr>\n      <th>25%</th>\n      <td>39.750000</td>\n      <td>4.453750</td>\n      <td>0.616250</td>\n      <td>1.066750</td>\n      <td>0.422250</td>\n      <td>0.356000</td>\n      <td>0.109500</td>\n      <td>0.051000</td>\n    </tr>\n    <tr>\n      <th>50%</th>\n      <td>78.500000</td>\n      <td>5.378000</td>\n      <td>0.949500</td>\n      <td>1.255000</td>\n      <td>0.644000</td>\n      <td>0.487000</td>\n      <td>0.174000</td>\n      <td>0.082000</td>\n    </tr>\n    <tr>\n      <th>75%</th>\n      <td>117.250000</td>\n      <td>6.168500</td>\n      <td>1.197750</td>\n      <td>1.463000</td>\n      <td>0.777250</td>\n      <td>0.578500</td>\n      <td>0.239000</td>\n      <td>0.137000</td>\n    </tr>\n    <tr>\n      <th>max</th>\n      <td>156.000000</td>\n      <td>7.632000</td>\n      <td>2.096000</td>\n      <td>1.644000</td>\n      <td>1.030000</td>\n      <td>0.724000</td>\n      <td>0.598000</td>\n      <td>0.457000</td>\n    </tr>\n  </tbody>\n</table>\n</div>"
     },
     "execution_count": 87,
     "metadata": {},
     "output_type": "execute_result"
    }
   ],
   "source": [
    "#8\n",
    "dataframe.describe()"
   ],
   "metadata": {
    "collapsed": false,
    "ExecuteTime": {
     "end_time": "2024-10-16T20:24:36.670841Z",
     "start_time": "2024-10-16T20:24:36.663175Z"
    }
   },
   "execution_count": 87
  },
  {
   "cell_type": "code",
   "outputs": [
    {
     "data": {
      "text/plain": "       Overall rank      Score  GDP per capita  Social support  \\\ncount     78.000000  78.000000       78.000000       78.000000   \nmean     117.500000   4.449321        0.621256        1.019423   \nstd       22.660538   0.623645        0.308177        0.288077   \nmin       79.000000   2.905000        0.000000        0.000000   \n25%       98.250000   4.139500        0.357250        0.860250   \n50%      117.500000   4.451500        0.623500        1.083000   \n75%      136.750000   4.980250        0.910500        1.215000   \nmax      156.000000   5.358000        1.154000        1.517000   \n\n       Healthy life expectancy  Freedom to make life choices  Generosity  \\\ncount                78.000000                     78.000000   78.000000   \nmean                  0.432962                      0.386885    0.176705   \nstd                   0.221797                      0.169637    0.105170   \nmin                   0.000000                      0.000000    0.000000   \n25%                   0.254250                      0.283000    0.112250   \n50%                   0.423000                      0.419000    0.174000   \n75%                   0.612750                      0.515500    0.219500   \nmax                   0.879000                      0.696000    0.598000   \n\n       Perceptions of corruption  \ncount                  78.000000  \nmean                    0.088295  \nstd                     0.064311  \nmin                     0.000000  \n25%                     0.052000  \n50%                     0.077500  \n75%                     0.105500  \nmax                     0.444000  ",
      "text/html": "<div>\n<style scoped>\n    .dataframe tbody tr th:only-of-type {\n        vertical-align: middle;\n    }\n\n    .dataframe tbody tr th {\n        vertical-align: top;\n    }\n\n    .dataframe thead th {\n        text-align: right;\n    }\n</style>\n<table border=\"1\" class=\"dataframe\">\n  <thead>\n    <tr style=\"text-align: right;\">\n      <th></th>\n      <th>Overall rank</th>\n      <th>Score</th>\n      <th>GDP per capita</th>\n      <th>Social support</th>\n      <th>Healthy life expectancy</th>\n      <th>Freedom to make life choices</th>\n      <th>Generosity</th>\n      <th>Perceptions of corruption</th>\n    </tr>\n  </thead>\n  <tbody>\n    <tr>\n      <th>count</th>\n      <td>78.000000</td>\n      <td>78.000000</td>\n      <td>78.000000</td>\n      <td>78.000000</td>\n      <td>78.000000</td>\n      <td>78.000000</td>\n      <td>78.000000</td>\n      <td>78.000000</td>\n    </tr>\n    <tr>\n      <th>mean</th>\n      <td>117.500000</td>\n      <td>4.449321</td>\n      <td>0.621256</td>\n      <td>1.019423</td>\n      <td>0.432962</td>\n      <td>0.386885</td>\n      <td>0.176705</td>\n      <td>0.088295</td>\n    </tr>\n    <tr>\n      <th>std</th>\n      <td>22.660538</td>\n      <td>0.623645</td>\n      <td>0.308177</td>\n      <td>0.288077</td>\n      <td>0.221797</td>\n      <td>0.169637</td>\n      <td>0.105170</td>\n      <td>0.064311</td>\n    </tr>\n    <tr>\n      <th>min</th>\n      <td>79.000000</td>\n      <td>2.905000</td>\n      <td>0.000000</td>\n      <td>0.000000</td>\n      <td>0.000000</td>\n      <td>0.000000</td>\n      <td>0.000000</td>\n      <td>0.000000</td>\n    </tr>\n    <tr>\n      <th>25%</th>\n      <td>98.250000</td>\n      <td>4.139500</td>\n      <td>0.357250</td>\n      <td>0.860250</td>\n      <td>0.254250</td>\n      <td>0.283000</td>\n      <td>0.112250</td>\n      <td>0.052000</td>\n    </tr>\n    <tr>\n      <th>50%</th>\n      <td>117.500000</td>\n      <td>4.451500</td>\n      <td>0.623500</td>\n      <td>1.083000</td>\n      <td>0.423000</td>\n      <td>0.419000</td>\n      <td>0.174000</td>\n      <td>0.077500</td>\n    </tr>\n    <tr>\n      <th>75%</th>\n      <td>136.750000</td>\n      <td>4.980250</td>\n      <td>0.910500</td>\n      <td>1.215000</td>\n      <td>0.612750</td>\n      <td>0.515500</td>\n      <td>0.219500</td>\n      <td>0.105500</td>\n    </tr>\n    <tr>\n      <th>max</th>\n      <td>156.000000</td>\n      <td>5.358000</td>\n      <td>1.154000</td>\n      <td>1.517000</td>\n      <td>0.879000</td>\n      <td>0.696000</td>\n      <td>0.598000</td>\n      <td>0.444000</td>\n    </tr>\n  </tbody>\n</table>\n</div>"
     },
     "execution_count": 88,
     "metadata": {},
     "output_type": "execute_result"
    }
   ],
   "source": [
    "#8\n",
    "\"\"\"\n",
    "When we compare less happy countries with global mean, we can see that they are also lagging behind in other parameters.\n",
    "They have less salaries, social supports, healthy lives, freedom, generosity. At the same time, their belief in the existence of corruption in their countries is also stronger.\n",
    "\"\"\"\n",
    "filtered_countries.describe()"
   ],
   "metadata": {
    "collapsed": false,
    "ExecuteTime": {
     "end_time": "2024-10-16T20:24:36.678330Z",
     "start_time": "2024-10-16T20:24:36.671714Z"
    }
   },
   "execution_count": 88
  },
  {
   "cell_type": "code",
   "outputs": [
    {
     "data": {
      "text/plain": "0              Finland\n1               Norway\n2              Denmark\n3              Iceland\n4          Switzerland\n5          Netherlands\n6               Canada\n7          New Zealand\n8               Sweden\n9            Australia\n11             Austria\n12          Costa Rica\n13             Ireland\n14             Germany\n15             Belgium\n16          Luxembourg\n17       United States\n18              Israel\n20      Czech Republic\n21               Malta\n22              France\n26              Panama\n27              Brazil\n28           Argentina\n30             Uruguay\n31               Qatar\n33           Singapore\n40           Nicaragua\n41              Poland\n42             Bahrain\n44              Kuwait\n45            Thailand\n47             Ecuador\n50            Slovenia\n51             Romania\n53               Japan\n54           Mauritius\n55             Jamaica\n57     Northern Cyprus\n62             Estonia\n64                Peru\n75           Hong Kong\n76            Portugal\n79             Lebanon\n85               China\n94             Vietnam\n115          Sri Lanka\nName: Country or region, dtype: object"
     },
     "execution_count": 89,
     "metadata": {},
     "output_type": "execute_result"
    }
   ],
   "source": [
    "#9\n",
    "median_score = dataframe[\"Freedom to make life choices\"].median()\n",
    "median_score_1 = dataframe[\"Healthy life expectancy\"].median()\n",
    "filtering_series = (dataframe[\"Freedom to make life choices\"] > median_score) & (\n",
    "        dataframe[\"Healthy life expectancy\"] > median_score_1)\n",
    "\n",
    "filtered_countries = dataframe[filtering_series][\"Country or region\"]\n",
    "filtered_countries"
   ],
   "metadata": {
    "collapsed": false,
    "ExecuteTime": {
     "end_time": "2024-10-16T20:24:36.681948Z",
     "start_time": "2024-10-16T20:24:36.679042Z"
    }
   },
   "execution_count": 89
  },
  {
   "cell_type": "code",
   "outputs": [
    {
     "data": {
      "text/plain": "47"
     },
     "execution_count": 90,
     "metadata": {},
     "output_type": "execute_result"
    }
   ],
   "source": [
    "#9\n",
    "len(filtered_countries)  #Number of countries where both Freedom to Make Life Choices and Healthy Life Expectancy are above the global median"
   ],
   "metadata": {
    "collapsed": false,
    "ExecuteTime": {
     "end_time": "2024-10-16T20:24:36.697922Z",
     "start_time": "2024-10-16T20:24:36.695853Z"
    }
   },
   "execution_count": 90
  },
  {
   "cell_type": "markdown",
   "source": [
    "# **PART- 2**\n",
    "\n",
    "**Set of Questions on the passenger_demographics.csv and passenger_survival.csv** **(25 Pts)**\n",
    "\n",
    "**Dataset Path: \"Data/passenger_demographics.csv\" and \"Data/passenger_survival.csv\"**"
   ],
   "metadata": {
    "id": "BPt91yizJhpJ"
   }
  },
  {
   "cell_type": "markdown",
   "source": [
    "# Q1. Data Merging and Consistency Checking\n",
    "\n",
    "\n",
    "1. Merge the datasets on PassengerId into a single DataFrame. How many rows are there in the merged dataset? **(3 Pts)**\n",
    "2. Perform a consistency check for duplicated rows. After merging, check for any duplicated rows in the merged dataset and provide a summary of your findings. Provide the details (average, mean, etc.) of each feature in the merged DataFrame. **(3 Pts)**\n",
    "3. Determine the survival rate for each passenger class and gender. Analyze how the survival rate varies among different classes (Pclass) and genders. **(3 Pts)**\n",
    "4. Analyze the effect of age on survival probability. Determine whether age significantly affects the probability of survival. Use statistical techniques to explore this relationship.(use binning) **(4 Pts)**\n",
    "5. Investigate the impact of family size on survival. Determine if family size (based on the number of siblings/spouses and parents/children aboard) has any correlation with survival. **(4 Pts)**\n",
    "6. Determine the most common embarkation point among survivors. Find out which embarkation point (C, Q, or S) had the highest survival rate. **(4 Pts)**\n",
    "7. Evaluate the correlation between Fare and Survival. Determine if there is a correlation between the fare paid and the survival status of the passengers. **(4 Pts)**"
   ],
   "metadata": {
    "id": "OX2D4qaNT3na"
   }
  },
  {
   "cell_type": "code",
   "source": [
    "#1\n",
    "demographics_df = pd.read_csv(\"Data/passenger_demographics.csv\")\n",
    "survival_df = pd.read_csv(\"Data/passenger_survival.csv\")\n",
    "dataframe = pd.merge(demographics_df, survival_df, on=\"PassengerId\")  #Merges dataframes on Passenger ID column\n",
    "len(dataframe)  #Number of rows inside merged dataframe"
   ],
   "metadata": {
    "id": "Lhe7YtGBYtjD",
    "ExecuteTime": {
     "end_time": "2024-10-16T20:24:36.715685Z",
     "start_time": "2024-10-16T20:24:36.711278Z"
    }
   },
   "execution_count": 91,
   "outputs": [
    {
     "data": {
      "text/plain": "891"
     },
     "execution_count": 91,
     "metadata": {},
     "output_type": "execute_result"
    }
   ]
  },
  {
   "cell_type": "code",
   "source": [
    "#2\n",
    "#There is no duplicate\n",
    "len(dataframe[dataframe.duplicated(keep=False)])"
   ],
   "metadata": {
    "id": "WsIKBmxnYuZc",
    "ExecuteTime": {
     "end_time": "2024-10-16T20:24:36.748861Z",
     "start_time": "2024-10-16T20:24:36.745239Z"
    }
   },
   "execution_count": 92,
   "outputs": [
    {
     "data": {
      "text/plain": "0"
     },
     "execution_count": 92,
     "metadata": {},
     "output_type": "execute_result"
    }
   ]
  },
  {
   "cell_type": "code",
   "outputs": [
    {
     "data": {
      "text/plain": "        PassengerId      Pclass   Sex         Age       SibSp       Parch  \\\ncount    891.000000  891.000000   891  714.000000  891.000000  891.000000   \nunique          NaN         NaN     2         NaN         NaN         NaN   \ntop             NaN         NaN  male         NaN         NaN         NaN   \nfreq            NaN         NaN   577         NaN         NaN         NaN   \nmean     446.000000    2.308642   NaN   29.699118    0.523008    0.381594   \nstd      257.353842    0.836071   NaN   14.526497    1.102743    0.806057   \nmin        1.000000    1.000000   NaN    0.420000    0.000000    0.000000   \n25%      223.500000    2.000000   NaN   20.125000    0.000000    0.000000   \n50%      446.000000    3.000000   NaN   28.000000    0.000000    0.000000   \n75%      668.500000    3.000000   NaN   38.000000    1.000000    0.000000   \nmax      891.000000    3.000000   NaN   80.000000    8.000000    6.000000   \n\n          Survived        Fare Embarked  \ncount   891.000000  891.000000      889  \nunique         NaN         NaN        3  \ntop            NaN         NaN        S  \nfreq           NaN         NaN      644  \nmean      0.383838   32.204208      NaN  \nstd       0.486592   49.693429      NaN  \nmin       0.000000    0.000000      NaN  \n25%       0.000000    7.910400      NaN  \n50%       0.000000   14.454200      NaN  \n75%       1.000000   31.000000      NaN  \nmax       1.000000  512.329200      NaN  ",
      "text/html": "<div>\n<style scoped>\n    .dataframe tbody tr th:only-of-type {\n        vertical-align: middle;\n    }\n\n    .dataframe tbody tr th {\n        vertical-align: top;\n    }\n\n    .dataframe thead th {\n        text-align: right;\n    }\n</style>\n<table border=\"1\" class=\"dataframe\">\n  <thead>\n    <tr style=\"text-align: right;\">\n      <th></th>\n      <th>PassengerId</th>\n      <th>Pclass</th>\n      <th>Sex</th>\n      <th>Age</th>\n      <th>SibSp</th>\n      <th>Parch</th>\n      <th>Survived</th>\n      <th>Fare</th>\n      <th>Embarked</th>\n    </tr>\n  </thead>\n  <tbody>\n    <tr>\n      <th>count</th>\n      <td>891.000000</td>\n      <td>891.000000</td>\n      <td>891</td>\n      <td>714.000000</td>\n      <td>891.000000</td>\n      <td>891.000000</td>\n      <td>891.000000</td>\n      <td>891.000000</td>\n      <td>889</td>\n    </tr>\n    <tr>\n      <th>unique</th>\n      <td>NaN</td>\n      <td>NaN</td>\n      <td>2</td>\n      <td>NaN</td>\n      <td>NaN</td>\n      <td>NaN</td>\n      <td>NaN</td>\n      <td>NaN</td>\n      <td>3</td>\n    </tr>\n    <tr>\n      <th>top</th>\n      <td>NaN</td>\n      <td>NaN</td>\n      <td>male</td>\n      <td>NaN</td>\n      <td>NaN</td>\n      <td>NaN</td>\n      <td>NaN</td>\n      <td>NaN</td>\n      <td>S</td>\n    </tr>\n    <tr>\n      <th>freq</th>\n      <td>NaN</td>\n      <td>NaN</td>\n      <td>577</td>\n      <td>NaN</td>\n      <td>NaN</td>\n      <td>NaN</td>\n      <td>NaN</td>\n      <td>NaN</td>\n      <td>644</td>\n    </tr>\n    <tr>\n      <th>mean</th>\n      <td>446.000000</td>\n      <td>2.308642</td>\n      <td>NaN</td>\n      <td>29.699118</td>\n      <td>0.523008</td>\n      <td>0.381594</td>\n      <td>0.383838</td>\n      <td>32.204208</td>\n      <td>NaN</td>\n    </tr>\n    <tr>\n      <th>std</th>\n      <td>257.353842</td>\n      <td>0.836071</td>\n      <td>NaN</td>\n      <td>14.526497</td>\n      <td>1.102743</td>\n      <td>0.806057</td>\n      <td>0.486592</td>\n      <td>49.693429</td>\n      <td>NaN</td>\n    </tr>\n    <tr>\n      <th>min</th>\n      <td>1.000000</td>\n      <td>1.000000</td>\n      <td>NaN</td>\n      <td>0.420000</td>\n      <td>0.000000</td>\n      <td>0.000000</td>\n      <td>0.000000</td>\n      <td>0.000000</td>\n      <td>NaN</td>\n    </tr>\n    <tr>\n      <th>25%</th>\n      <td>223.500000</td>\n      <td>2.000000</td>\n      <td>NaN</td>\n      <td>20.125000</td>\n      <td>0.000000</td>\n      <td>0.000000</td>\n      <td>0.000000</td>\n      <td>7.910400</td>\n      <td>NaN</td>\n    </tr>\n    <tr>\n      <th>50%</th>\n      <td>446.000000</td>\n      <td>3.000000</td>\n      <td>NaN</td>\n      <td>28.000000</td>\n      <td>0.000000</td>\n      <td>0.000000</td>\n      <td>0.000000</td>\n      <td>14.454200</td>\n      <td>NaN</td>\n    </tr>\n    <tr>\n      <th>75%</th>\n      <td>668.500000</td>\n      <td>3.000000</td>\n      <td>NaN</td>\n      <td>38.000000</td>\n      <td>1.000000</td>\n      <td>0.000000</td>\n      <td>1.000000</td>\n      <td>31.000000</td>\n      <td>NaN</td>\n    </tr>\n    <tr>\n      <th>max</th>\n      <td>891.000000</td>\n      <td>3.000000</td>\n      <td>NaN</td>\n      <td>80.000000</td>\n      <td>8.000000</td>\n      <td>6.000000</td>\n      <td>1.000000</td>\n      <td>512.329200</td>\n      <td>NaN</td>\n    </tr>\n  </tbody>\n</table>\n</div>"
     },
     "execution_count": 93,
     "metadata": {},
     "output_type": "execute_result"
    }
   ],
   "source": [
    "#2\n",
    "dataframe.describe(include=\"all\")  #Summary of the data"
   ],
   "metadata": {
    "collapsed": false,
    "ExecuteTime": {
     "end_time": "2024-10-16T20:24:36.781976Z",
     "start_time": "2024-10-16T20:24:36.772991Z"
    }
   },
   "execution_count": 93
  },
  {
   "cell_type": "code",
   "outputs": [
    {
     "data": {
      "text/plain": "Pclass  Sex   \n1       female    0.968085\n        male      0.368852\n2       female    0.921053\n        male      0.157407\n3       female    0.500000\n        male      0.135447\nName: Survived, dtype: float64"
     },
     "execution_count": 94,
     "metadata": {},
     "output_type": "execute_result"
    }
   ],
   "source": [
    "#3\n",
    "#Females has higher survival rate than males and class also increases survival probability. \n",
    "dataframe.groupby([\"Pclass\", \"Sex\"])[\"Survived\"].mean()"
   ],
   "metadata": {
    "collapsed": false,
    "ExecuteTime": {
     "end_time": "2024-10-16T20:24:36.796528Z",
     "start_time": "2024-10-16T20:24:36.793185Z"
    }
   },
   "execution_count": 94
  },
  {
   "cell_type": "code",
   "source": [
    "#3\n",
    "male_dataframe = dataframe[dataframe[\"Sex\"] == \"male\"]\n",
    "female_dataframe = dataframe[dataframe[\"Sex\"] == \"female\"]\n",
    "\n",
    "male_count = len(male_dataframe)\n",
    "female_count = len(female_dataframe)\n",
    "\n",
    "male_survived = male_dataframe[\"Survived\"].sum()\n",
    "female_survived = female_dataframe[\"Survived\"].sum()\n",
    "\n"
   ],
   "metadata": {
    "id": "vHLFSeDKYuVG",
    "ExecuteTime": {
     "end_time": "2024-10-16T20:24:36.846305Z",
     "start_time": "2024-10-16T20:24:36.843404Z"
    }
   },
   "execution_count": 95,
   "outputs": []
  },
  {
   "cell_type": "code",
   "outputs": [
    {
     "data": {
      "text/plain": "18"
     },
     "execution_count": 96,
     "metadata": {},
     "output_type": "execute_result"
    }
   ],
   "source": [
    "#3\n",
    "int(male_survived / male_count * 100)  #Survival rate of males"
   ],
   "metadata": {
    "collapsed": false,
    "ExecuteTime": {
     "end_time": "2024-10-16T20:24:36.872377Z",
     "start_time": "2024-10-16T20:24:36.870104Z"
    }
   },
   "execution_count": 96
  },
  {
   "cell_type": "code",
   "outputs": [
    {
     "data": {
      "text/plain": "74"
     },
     "execution_count": 97,
     "metadata": {},
     "output_type": "execute_result"
    }
   ],
   "source": [
    "#3\n",
    "int(female_survived / female_count * 100)  #Survival rate of females, percentage almost equals to 4 times of males' percentage. "
   ],
   "metadata": {
    "collapsed": false,
    "ExecuteTime": {
     "end_time": "2024-10-16T20:24:36.908127Z",
     "start_time": "2024-10-16T20:24:36.905650Z"
    }
   },
   "execution_count": 97
  },
  {
   "cell_type": "code",
   "outputs": [],
   "source": [
    "#3\n",
    "first_class_df = dataframe[dataframe[\"Pclass\"] == 1]\n",
    "second_class_df = dataframe[dataframe[\"Pclass\"] == 2]\n",
    "third_class_df = dataframe[dataframe[\"Pclass\"] == 3]\n",
    "\n",
    "first_class_count = len(first_class_df)\n",
    "second_class_count = len(second_class_df)\n",
    "third_class_count = len(third_class_df)\n",
    "\n",
    "first_class_survived = first_class_df[\"Survived\"].sum()\n",
    "second_class_survived = second_class_df[\"Survived\"].sum()\n",
    "third_class_survived = third_class_df[\"Survived\"].sum()"
   ],
   "metadata": {
    "collapsed": false,
    "ExecuteTime": {
     "end_time": "2024-10-16T20:24:36.916581Z",
     "start_time": "2024-10-16T20:24:36.913708Z"
    }
   },
   "execution_count": 98
  },
  {
   "cell_type": "code",
   "outputs": [
    {
     "data": {
      "text/plain": "62"
     },
     "execution_count": 99,
     "metadata": {},
     "output_type": "execute_result"
    }
   ],
   "source": [
    "#3\n",
    "int(first_class_survived / first_class_count * 100)  #Survival rate of first class"
   ],
   "metadata": {
    "collapsed": false,
    "ExecuteTime": {
     "end_time": "2024-10-16T20:24:36.933232Z",
     "start_time": "2024-10-16T20:24:36.931446Z"
    }
   },
   "execution_count": 99
  },
  {
   "cell_type": "code",
   "outputs": [
    {
     "data": {
      "text/plain": "47"
     },
     "execution_count": 100,
     "metadata": {},
     "output_type": "execute_result"
    }
   ],
   "source": [
    "#3\n",
    "int(second_class_survived / second_class_count * 100)  #Survival rate of second class"
   ],
   "metadata": {
    "collapsed": false,
    "ExecuteTime": {
     "end_time": "2024-10-16T20:24:36.954769Z",
     "start_time": "2024-10-16T20:24:36.952657Z"
    }
   },
   "execution_count": 100
  },
  {
   "cell_type": "code",
   "outputs": [
    {
     "data": {
      "text/plain": "24"
     },
     "execution_count": 101,
     "metadata": {},
     "output_type": "execute_result"
    }
   ],
   "source": [
    "#3\n",
    "int(third_class_survived / third_class_count * 100)  #Survival rate of first class, as the social class increases, the survival rate noticeably rises."
   ],
   "metadata": {
    "collapsed": false,
    "ExecuteTime": {
     "end_time": "2024-10-16T20:24:36.966921Z",
     "start_time": "2024-10-16T20:24:36.964847Z"
    }
   },
   "execution_count": 101
  },
  {
   "cell_type": "code",
   "source": [
    "#4  \n",
    "age_bins = [0, 10, 20, 30, 40, 50, 60, 70, 80, 90, 100]\n",
    "age_labels = [\"0-9\", \"10-19\", \"20-29\", \"30-39\", \"40-49\", \"50-59\", \"60-69\", \"70-79\", \"80-89\", \"90-99\"]\n",
    "\n",
    "dataframe['AgeGroup'] = pd.cut(dataframe['Age'], bins=age_bins, labels=age_labels, right=False)\n",
    "#Since survival rate varies among 1 and 0, mean can be used as survival rate.\n",
    "age_groups_survival_rate = dataframe.groupby('AgeGroup', observed=False)['Survived'].mean()\n",
    "\n",
    "age_groups_survival_rate\n",
    "\n",
    "#The survival rate is almost uniform except at the ends, there isn't a significant correlation between age and survival."
   ],
   "metadata": {
    "id": "3nrS1BgFYuQJ",
    "ExecuteTime": {
     "end_time": "2024-10-16T20:24:36.980394Z",
     "start_time": "2024-10-16T20:24:36.975668Z"
    }
   },
   "execution_count": 102,
   "outputs": [
    {
     "data": {
      "text/plain": "AgeGroup\n0-9      0.612903\n10-19    0.401961\n20-29    0.350000\n30-39    0.437126\n40-49    0.382022\n50-59    0.416667\n60-69    0.315789\n70-79    0.000000\n80-89    1.000000\n90-99         NaN\nName: Survived, dtype: float64"
     },
     "execution_count": 102,
     "metadata": {},
     "output_type": "execute_result"
    }
   ]
  },
  {
   "cell_type": "code",
   "source": [
    "#5\n",
    "dataframe[\"FamSize\"] = dataframe[\"SibSp\"] + dataframe[\"Parch\"]\n",
    "family_size_bins = [0, 1, 2, 3, 4, 5, 6, 7, 8, 9, 10]\n",
    "family_size_labels = [\"0\", \"1\", \"2\", \"3\", \"4\", \"5\", \"6\", \"7\", \"8\", \"9\"]\n",
    "\n",
    "dataframe[\"FamilySizeCategory\"] = pd.cut(dataframe[\"FamSize\"], bins=family_size_bins, labels=family_size_labels,\n",
    "                                         right=False)\n",
    "family_size_groups_survival_rate = dataframe.groupby(\"FamilySizeCategory\", observed=False)['Survived'].mean()\n",
    "\n",
    "family_size_groups_survival_rate\n",
    "#Small families are better than large families for survival. Most optimal family size looks like 3, but there is not a direct correlation."
   ],
   "metadata": {
    "id": "xlco8hajYuIX",
    "ExecuteTime": {
     "end_time": "2024-10-16T20:24:37.002781Z",
     "start_time": "2024-10-16T20:24:36.998755Z"
    }
   },
   "execution_count": 103,
   "outputs": [
    {
     "data": {
      "text/plain": "FamilySizeCategory\n0    0.303538\n1    0.552795\n2    0.578431\n3    0.724138\n4    0.200000\n5    0.136364\n6    0.333333\n7    0.000000\n8         NaN\n9         NaN\nName: Survived, dtype: float64"
     },
     "execution_count": 103,
     "metadata": {},
     "output_type": "execute_result"
    }
   ]
  },
  {
   "cell_type": "code",
   "source": [
    "#6\n",
    "survivors_dataframe = dataframe[dataframe[\"Survived\"] == 1]\n",
    "q_point_survived_count = len(survivors_dataframe[survivors_dataframe[\"Embarked\"] == \"Q\"])\n",
    "s_point_survived_count = len(survivors_dataframe[survivors_dataframe[\"Embarked\"] == \"S\"])\n",
    "c_point_survived_count = len(survivors_dataframe[survivors_dataframe[\"Embarked\"] == \"C\"])\n",
    "print(f\"Q: {q_point_survived_count}, S: {s_point_survived_count}, C: {c_point_survived_count}\")\n",
    "\"The S embarkation point had the most survivals.\""
   ],
   "metadata": {
    "id": "RdPyq5mFYuCT",
    "ExecuteTime": {
     "end_time": "2024-10-16T20:24:37.016613Z",
     "start_time": "2024-10-16T20:24:37.013473Z"
    }
   },
   "execution_count": 104,
   "outputs": [
    {
     "name": "stdout",
     "output_type": "stream",
     "text": [
      "Q: 30, S: 217, C: 93\n"
     ]
    },
    {
     "data": {
      "text/plain": "'The S embarkation point had the most survivals.'"
     },
     "execution_count": 104,
     "metadata": {},
     "output_type": "execute_result"
    }
   ]
  },
  {
   "cell_type": "code",
   "outputs": [
    {
     "data": {
      "text/plain": "Embarked\nC    55.357143\nQ    38.961039\nS    33.695652\nName: Survived, dtype: float64"
     },
     "metadata": {},
     "output_type": "display_data"
    },
    {
     "data": {
      "text/plain": "'The highest survival rate is at C point'"
     },
     "execution_count": 105,
     "metadata": {},
     "output_type": "execute_result"
    }
   ],
   "source": [
    "display(dataframe.groupby(\"Embarked\")[\"Survived\"].mean() * 100)\n",
    "\"The highest survival rate is at C point\""
   ],
   "metadata": {
    "collapsed": false,
    "ExecuteTime": {
     "end_time": "2024-10-16T20:24:37.028466Z",
     "start_time": "2024-10-16T20:24:37.025311Z"
    }
   },
   "execution_count": 105
  },
  {
   "cell_type": "code",
   "source": [
    "#7\n",
    "correlation_coe = dataframe[\"Survived\"].corr(dataframe[\"Fare\"])\n",
    "print(\n",
    "    f\"Correlation coefficient : {correlation_coe}\\nThis means that, generally, as the fare paid increases, the likelihood of survival also tends to increase, though the correlation is not very strong.\")"
   ],
   "metadata": {
    "id": "vH_UEV-QYt5x",
    "ExecuteTime": {
     "end_time": "2024-10-16T20:24:37.053400Z",
     "start_time": "2024-10-16T20:24:37.050844Z"
    }
   },
   "execution_count": 106,
   "outputs": [
    {
     "name": "stdout",
     "output_type": "stream",
     "text": [
      "Correlation coefficient : 0.2573065223849625\n",
      "This means that, generally, as the fare paid increases, the likelihood of survival also tends to increase, though the correlation is not very strong.\n"
     ]
    }
   ]
  },
  {
   "cell_type": "markdown",
   "source": [
    "# **PART- 3**\n",
    "\n",
    "**Set of Questions on SQL - using sqlite3 library!**\n",
    "\n",
    "**Dataset Path: \"Data/supermarket_sales.csv\"**"
   ],
   "metadata": {
    "id": "_3suDJgQZm01"
   }
  },
  {
   "cell_type": "markdown",
   "source": [
    "\n",
    "The Supermarket Sales Dataset is a comprehensive dataset designed to provide insights into the sales performance of a supermarket.\n",
    "\n",
    "We want to store this data in a relational database, with the following table schemas:"
   ],
   "metadata": {
    "id": "DOZouTkQh-aa"
   }
  },
  {
   "cell_type": "markdown",
   "source": [
    "# Tables\n",
    "\n",
    "## 1. Branches Table\n",
    "\n",
    "| Column   | Type  | Key      | Description                              |\n",
    "|----------|-------|----------|------------------------------------------|\n",
    "| BranchID | INTEGER  | PRIMARY  | Unique identifier for each branch        |\n",
    "| Branch | TEXT  |            |    Name of the supermarket branch        |\n",
    "| City     | TEXT  |          | City where the branch is located         |\n",
    "\n",
    "\n",
    "\n",
    "## 2. Products Table\n",
    "\n",
    "| Column      | Type  | Key      | Description                               |\n",
    "|-------------|-------|----------|-------------------------------------------|\n",
    "| ProductID | INTEGER  | PRIMARY  | Unique identifier for each product line   |\n",
    "| ProductLine | TEXT  |          | Category of the product |\n",
    "\n",
    "\n",
    "\n",
    "## 3. Orders Table\n",
    "\n",
    "| Column        | Type  | Key      | Description                                    |\n",
    "|---------------|-------|----------|------------------------------------------------|\n",
    "| OrderID       | TEXT  | PRIMARY  | Unique identifier for each order               |\n",
    "| BranchID      | INTEGER  |   FK       | Identifier for the branch of the order    |\n",
    "| ProductID   | INTEGER  |      FK    | Identifier linking to Products table ordered                      |\n",
    "| Quantity      | INTEGER |        | Number of units ordered                        |\n",
    "| UnitPrice   | REAL  |          | Price per unit of the product             |Total         | REAL  |          | Total sales value for the order               |\n",
    "| OrderDate     | TEXT  |          | Date when the order was placed                |\n",
    "| PaymentMethod | TEXT  |          | Method used for payment                       |\n",
    "| CustomerType  | TEXT  |          | Type of customer (e.g., Member, Normal)     |\n",
    "| Gender        | TEXT  |          | Gender of the customer                        |\n",
    "\n"
   ],
   "metadata": {
    "id": "8g3KN0RagrO4"
   }
  },
  {
   "cell_type": "markdown",
   "source": [
    "Summary of Table Structures\n",
    "\n",
    "* Branches Table contains information about different supermarket branches.\n",
    "\n",
    "* Products Table details the various products available for purchase.\n",
    "* Orders Table records the transactions made, linking products and branches to specific purchases.\n"
   ],
   "metadata": {
    "id": "nWvMCCPLi2W0"
   }
  },
  {
   "cell_type": "markdown",
   "source": [
    "# **Questions** **(35 Pts)**\n",
    "\n",
    "1. Read the csv file and create this DB **(10 Pts)**\n",
    "2. Write a query to find the top 3 product lines with the highest total quantity sold, using a LIMIT statement. **(4 Pts)**\n",
    "3. Find the total revenue generated for each branch by product line **(4 Pts)**\n",
    "4. Find the total sales for each branch **(3 Pts)**\n",
    "5. Determine the number of orders placed by each gender **(3 Pts)**\n",
    "6. List the product lines sold in each branch and the number of orders **(4 Pts)**\n",
    "7. Find the highest quantity sold for a single order and the corresponding product line **(4 Pts)**\n",
    "8. Check for duplicated invoices **(3 Pts)**\n"
   ],
   "metadata": {
    "id": "jqFWg0pzhL9L"
   }
  },
  {
   "cell_type": "code",
   "source": [
    "dataframe = pd.read_csv(\"Data/supermarket_sales.csv\").drop_duplicates()  #Creates dataframe\n",
    "\n",
    "sql_connection = sqlite3.connect(\"supermarket_sales\", timeout=10)\n",
    "sql_cursor = sql_connection.cursor()  #sql settings\n",
    "\n",
    "sql_cursor.execute(\"DROP TABLE IF EXISTS Orders\")  #Rerun settings\n",
    "sql_cursor.execute(\"DROP TABLE IF EXISTS Products\")\n",
    "sql_cursor.execute(\"DROP TABLE IF EXISTS Branches\")\n",
    "\n",
    "#Creates tables in given structure\n",
    "sql_cursor.execute(\"\"\"\n",
    "CREATE TABLE IF NOT EXISTS Branches(\n",
    "BranchID INTEGER PRIMARY KEY,\n",
    "Branch TEXT,\n",
    "City TEXT)\n",
    "\"\"\")\n",
    "\n",
    "sql_cursor.execute(\"\"\"\n",
    "Create TABLE IF NOT EXISTS Products(\n",
    "ProductID INTEGER PRIMARY KEY,\n",
    "ProductLine TEXT)\n",
    "\"\"\")\n",
    "\n",
    "sql_cursor.execute('''\n",
    "CREATE TABLE IF NOT EXISTS Orders (\n",
    "    OrderID TEXT PRIMARY KEY,\n",
    "    BranchID INTEGER,\n",
    "    ProductID INTEGER,\n",
    "    Quantity INTEGER,\n",
    "    UnitPrice REAL,\n",
    "    Total REAL,\n",
    "    OrderDate TEXT,\n",
    "    PaymentMethod TEXT,\n",
    "    CustomerType TEXT,\n",
    "    Gender TEXT,\n",
    "    FOREIGN KEY (BranchID) REFERENCES Branches(BranchID),\n",
    "    FOREIGN KEY (ProductID) REFERENCES Products(ProductID)\n",
    ")\n",
    "''')\n",
    "\n",
    "#Takes columns for dataframes in given structure\n",
    "products_df = dataframe.loc[:, [\"Product line\"]]\n",
    "branches_df = dataframe.loc[:, [\"Branch\", \"City\"]]\n",
    "\n",
    "#Makes every row unique\n",
    "products_df.drop_duplicates(inplace=True)\n",
    "branches_df.drop_duplicates(inplace=True)\n",
    "\n",
    "#ID declaration\n",
    "products_df[\"ProductID\"] = range(1, len(products_df) + 1)\n",
    "branches_df[\"BranchID\"] = range(1, len(branches_df) + 1)\n",
    "\n",
    "#Adds new ID columns to main dataframe\n",
    "dataframe = dataframe.merge(branches_df, on=[\"Branch\", \"City\"], how=\"left\")\n",
    "dataframe = dataframe.merge(products_df, on=\"Product line\", how=\"left\")\n",
    "\n",
    "products_df.rename(columns={\"Product line\": \"ProductLine\"}, inplace=True)\n",
    "\n",
    "#Creates orders dataframe\n",
    "orders_df = dataframe[\n",
    "    [\"Invoice ID\", \"ProductID\", \"BranchID\", 'Quantity', \"Unit price\", \"Date\", \"Payment\", \"Customer type\",\n",
    "     \"Gender\"]].rename(\n",
    "    columns={\n",
    "        'Invoice ID': 'OrderID',\n",
    "        'Unit price': 'UnitPrice',\n",
    "        'Date': 'OrderDate',\n",
    "        'Payment': 'PaymentMethod',\n",
    "        \"Customer type\": 'CustomerType'\n",
    "    })\n",
    "\n",
    "#Saves data into db\n",
    "orders_df.to_sql(name=\"Orders\", con=sql_connection, index=False, if_exists=\"append\")\n",
    "products_df.to_sql(name=\"Products\", con=sql_connection, index=False, if_exists=\"append\")\n",
    "branches_df.to_sql(name=\"Branches\", con=sql_connection, index=False, if_exists=\"append\")\n",
    "\n",
    "sql_connection.close()\n",
    "\n",
    "display(branches_df, products_df)"
   ],
   "metadata": {
    "id": "4Z4tAiQHlqnF",
    "ExecuteTime": {
     "end_time": "2024-10-16T20:24:37.090932Z",
     "start_time": "2024-10-16T20:24:37.073924Z"
    }
   },
   "execution_count": 107,
   "outputs": [
    {
     "data": {
      "text/plain": "  Branch       City  BranchID\n0      A     Yangon         1\n1      C  Naypyitaw         2\n9      B   Mandalay         3",
      "text/html": "<div>\n<style scoped>\n    .dataframe tbody tr th:only-of-type {\n        vertical-align: middle;\n    }\n\n    .dataframe tbody tr th {\n        vertical-align: top;\n    }\n\n    .dataframe thead th {\n        text-align: right;\n    }\n</style>\n<table border=\"1\" class=\"dataframe\">\n  <thead>\n    <tr style=\"text-align: right;\">\n      <th></th>\n      <th>Branch</th>\n      <th>City</th>\n      <th>BranchID</th>\n    </tr>\n  </thead>\n  <tbody>\n    <tr>\n      <th>0</th>\n      <td>A</td>\n      <td>Yangon</td>\n      <td>1</td>\n    </tr>\n    <tr>\n      <th>1</th>\n      <td>C</td>\n      <td>Naypyitaw</td>\n      <td>2</td>\n    </tr>\n    <tr>\n      <th>9</th>\n      <td>B</td>\n      <td>Mandalay</td>\n      <td>3</td>\n    </tr>\n  </tbody>\n</table>\n</div>"
     },
     "metadata": {},
     "output_type": "display_data"
    },
    {
     "data": {
      "text/plain": "               ProductLine  ProductID\n0        Health and beauty          1\n1   Electronic accessories          2\n2       Home and lifestyle          3\n4        Sports and travel          4\n9       Food and beverages          5\n10     Fashion accessories          6",
      "text/html": "<div>\n<style scoped>\n    .dataframe tbody tr th:only-of-type {\n        vertical-align: middle;\n    }\n\n    .dataframe tbody tr th {\n        vertical-align: top;\n    }\n\n    .dataframe thead th {\n        text-align: right;\n    }\n</style>\n<table border=\"1\" class=\"dataframe\">\n  <thead>\n    <tr style=\"text-align: right;\">\n      <th></th>\n      <th>ProductLine</th>\n      <th>ProductID</th>\n    </tr>\n  </thead>\n  <tbody>\n    <tr>\n      <th>0</th>\n      <td>Health and beauty</td>\n      <td>1</td>\n    </tr>\n    <tr>\n      <th>1</th>\n      <td>Electronic accessories</td>\n      <td>2</td>\n    </tr>\n    <tr>\n      <th>2</th>\n      <td>Home and lifestyle</td>\n      <td>3</td>\n    </tr>\n    <tr>\n      <th>4</th>\n      <td>Sports and travel</td>\n      <td>4</td>\n    </tr>\n    <tr>\n      <th>9</th>\n      <td>Food and beverages</td>\n      <td>5</td>\n    </tr>\n    <tr>\n      <th>10</th>\n      <td>Fashion accessories</td>\n      <td>6</td>\n    </tr>\n  </tbody>\n</table>\n</div>"
     },
     "metadata": {},
     "output_type": "display_data"
    }
   ]
  },
  {
   "cell_type": "code",
   "source": [
    "#2\n",
    "sql_connection = sqlite3.connect(\"supermarket_sales\", timeout=10)\n",
    "sql_cursor = sql_connection.cursor()\n",
    "#\n",
    "query = pd.read_sql_query(\"\"\"\n",
    "SELECT Orders.ProductID, Products.ProductLine, SUM(Orders.Quantity) AS sale_count \n",
    "FROM Orders \n",
    "JOIN Products ON Orders.ProductID = Products.ProductID\n",
    "GROUP BY Products.ProductLine\n",
    "ORDER BY sale_count DESC\n",
    "LIMIT 3\n",
    "\"\"\", sql_connection)\n",
    "\n",
    "sql_connection.close()\n",
    "\n",
    "query"
   ],
   "metadata": {
    "id": "5V2Ubeyclqjc",
    "ExecuteTime": {
     "end_time": "2024-10-16T20:24:37.101668Z",
     "start_time": "2024-10-16T20:24:37.097855Z"
    }
   },
   "execution_count": 108,
   "outputs": [
    {
     "data": {
      "text/plain": "   ProductID             ProductLine  sale_count\n0          2  Electronic accessories         971\n1          5      Food and beverages         952\n2          4       Sports and travel         920",
      "text/html": "<div>\n<style scoped>\n    .dataframe tbody tr th:only-of-type {\n        vertical-align: middle;\n    }\n\n    .dataframe tbody tr th {\n        vertical-align: top;\n    }\n\n    .dataframe thead th {\n        text-align: right;\n    }\n</style>\n<table border=\"1\" class=\"dataframe\">\n  <thead>\n    <tr style=\"text-align: right;\">\n      <th></th>\n      <th>ProductID</th>\n      <th>ProductLine</th>\n      <th>sale_count</th>\n    </tr>\n  </thead>\n  <tbody>\n    <tr>\n      <th>0</th>\n      <td>2</td>\n      <td>Electronic accessories</td>\n      <td>971</td>\n    </tr>\n    <tr>\n      <th>1</th>\n      <td>5</td>\n      <td>Food and beverages</td>\n      <td>952</td>\n    </tr>\n    <tr>\n      <th>2</th>\n      <td>4</td>\n      <td>Sports and travel</td>\n      <td>920</td>\n    </tr>\n  </tbody>\n</table>\n</div>"
     },
     "execution_count": 108,
     "metadata": {},
     "output_type": "execute_result"
    }
   ]
  },
  {
   "cell_type": "code",
   "source": [
    "#3\n",
    "sql_connection = sqlite3.connect(\"supermarket_sales\", timeout=10)\n",
    "\n",
    "query = pd.read_sql_query(\"\"\"\n",
    "SELECT b.Branch, p.ProductLine, SUM(o.Quantity * o.UnitPrice) AS total_revenue\n",
    "FROM Orders o \n",
    "JOIN Products p on p.ProductID = o.ProductID\n",
    "JOIN Branches b on b.BranchID = o.BranchID\n",
    "GROUP BY p.ProductLine, b.Branch\n",
    "ORDER BY b.Branch, total_revenue\n",
    "\"\"\", sql_connection)\n",
    "\n",
    "sql_connection.close()\n",
    "\n",
    "query"
   ],
   "metadata": {
    "id": "qUjEH_LvlqfN",
    "ExecuteTime": {
     "end_time": "2024-10-16T20:24:37.115185Z",
     "start_time": "2024-10-16T20:24:37.110454Z"
    }
   },
   "execution_count": 109,
   "outputs": [
    {
     "data": {
      "text/plain": "   Branch             ProductLine  total_revenue\n0       A       Health and beauty       11997.86\n1       A     Fashion accessories       15554.77\n2       A      Food and beverages       16345.81\n3       A  Electronic accessories       17444.87\n4       A       Sports and travel       18450.19\n5       A      Home and lifestyle       21349.71\n6       B      Food and beverages       14490.37\n7       B     Fashion accessories       15631.73\n8       B  Electronic accessories       16239.47\n9       B      Home and lifestyle       16713.49\n10      B       Health and beauty       19029.20\n11      B       Sports and travel       19036.38\n12      C      Home and lifestyle       13233.86\n13      C       Sports and travel       15011.36\n14      C       Health and beauty       15824.12\n15      C  Electronic accessories       18065.69\n16      C     Fashion accessories       20533.40\n17      C      Food and beverages       22635.10",
      "text/html": "<div>\n<style scoped>\n    .dataframe tbody tr th:only-of-type {\n        vertical-align: middle;\n    }\n\n    .dataframe tbody tr th {\n        vertical-align: top;\n    }\n\n    .dataframe thead th {\n        text-align: right;\n    }\n</style>\n<table border=\"1\" class=\"dataframe\">\n  <thead>\n    <tr style=\"text-align: right;\">\n      <th></th>\n      <th>Branch</th>\n      <th>ProductLine</th>\n      <th>total_revenue</th>\n    </tr>\n  </thead>\n  <tbody>\n    <tr>\n      <th>0</th>\n      <td>A</td>\n      <td>Health and beauty</td>\n      <td>11997.86</td>\n    </tr>\n    <tr>\n      <th>1</th>\n      <td>A</td>\n      <td>Fashion accessories</td>\n      <td>15554.77</td>\n    </tr>\n    <tr>\n      <th>2</th>\n      <td>A</td>\n      <td>Food and beverages</td>\n      <td>16345.81</td>\n    </tr>\n    <tr>\n      <th>3</th>\n      <td>A</td>\n      <td>Electronic accessories</td>\n      <td>17444.87</td>\n    </tr>\n    <tr>\n      <th>4</th>\n      <td>A</td>\n      <td>Sports and travel</td>\n      <td>18450.19</td>\n    </tr>\n    <tr>\n      <th>5</th>\n      <td>A</td>\n      <td>Home and lifestyle</td>\n      <td>21349.71</td>\n    </tr>\n    <tr>\n      <th>6</th>\n      <td>B</td>\n      <td>Food and beverages</td>\n      <td>14490.37</td>\n    </tr>\n    <tr>\n      <th>7</th>\n      <td>B</td>\n      <td>Fashion accessories</td>\n      <td>15631.73</td>\n    </tr>\n    <tr>\n      <th>8</th>\n      <td>B</td>\n      <td>Electronic accessories</td>\n      <td>16239.47</td>\n    </tr>\n    <tr>\n      <th>9</th>\n      <td>B</td>\n      <td>Home and lifestyle</td>\n      <td>16713.49</td>\n    </tr>\n    <tr>\n      <th>10</th>\n      <td>B</td>\n      <td>Health and beauty</td>\n      <td>19029.20</td>\n    </tr>\n    <tr>\n      <th>11</th>\n      <td>B</td>\n      <td>Sports and travel</td>\n      <td>19036.38</td>\n    </tr>\n    <tr>\n      <th>12</th>\n      <td>C</td>\n      <td>Home and lifestyle</td>\n      <td>13233.86</td>\n    </tr>\n    <tr>\n      <th>13</th>\n      <td>C</td>\n      <td>Sports and travel</td>\n      <td>15011.36</td>\n    </tr>\n    <tr>\n      <th>14</th>\n      <td>C</td>\n      <td>Health and beauty</td>\n      <td>15824.12</td>\n    </tr>\n    <tr>\n      <th>15</th>\n      <td>C</td>\n      <td>Electronic accessories</td>\n      <td>18065.69</td>\n    </tr>\n    <tr>\n      <th>16</th>\n      <td>C</td>\n      <td>Fashion accessories</td>\n      <td>20533.40</td>\n    </tr>\n    <tr>\n      <th>17</th>\n      <td>C</td>\n      <td>Food and beverages</td>\n      <td>22635.10</td>\n    </tr>\n  </tbody>\n</table>\n</div>"
     },
     "execution_count": 109,
     "metadata": {},
     "output_type": "execute_result"
    }
   ]
  },
  {
   "cell_type": "code",
   "source": [
    "#4\n",
    "sql_connection = sqlite3.connect(\"supermarket_sales\", timeout=10)\n",
    "\n",
    "query = pd.read_sql_query(\"\"\"\n",
    "SELECT b.Branch, SUM(o.Quantity) AS total_sales\n",
    "FROM Orders o \n",
    "JOIN Branches b on b.BranchID = o.BranchID\n",
    "GROUP BY b.Branch\n",
    "ORDER BY b.Branch\n",
    "\"\"\", sql_connection)\n",
    "\n",
    "sql_connection.close()\n",
    "\n",
    "query"
   ],
   "metadata": {
    "id": "aZAzTF7Hlqbi",
    "ExecuteTime": {
     "end_time": "2024-10-16T20:24:37.125369Z",
     "start_time": "2024-10-16T20:24:37.121476Z"
    }
   },
   "execution_count": 110,
   "outputs": [
    {
     "data": {
      "text/plain": "  Branch  total_sales\n0      A         1859\n1      B         1820\n2      C         1831",
      "text/html": "<div>\n<style scoped>\n    .dataframe tbody tr th:only-of-type {\n        vertical-align: middle;\n    }\n\n    .dataframe tbody tr th {\n        vertical-align: top;\n    }\n\n    .dataframe thead th {\n        text-align: right;\n    }\n</style>\n<table border=\"1\" class=\"dataframe\">\n  <thead>\n    <tr style=\"text-align: right;\">\n      <th></th>\n      <th>Branch</th>\n      <th>total_sales</th>\n    </tr>\n  </thead>\n  <tbody>\n    <tr>\n      <th>0</th>\n      <td>A</td>\n      <td>1859</td>\n    </tr>\n    <tr>\n      <th>1</th>\n      <td>B</td>\n      <td>1820</td>\n    </tr>\n    <tr>\n      <th>2</th>\n      <td>C</td>\n      <td>1831</td>\n    </tr>\n  </tbody>\n</table>\n</div>"
     },
     "execution_count": 110,
     "metadata": {},
     "output_type": "execute_result"
    }
   ]
  },
  {
   "cell_type": "code",
   "source": [
    "#5\n",
    "sql_connection = sqlite3.connect(\"supermarket_sales\", timeout=10)\n",
    "\n",
    "query = pd.read_sql_query(\"\"\"\n",
    "SELECT Gender, COUNT(OrderID) AS order_count\n",
    "FROM Orders\n",
    "GROUP BY Gender\n",
    "ORDER BY order_count\n",
    "\"\"\", sql_connection)\n",
    "\n",
    "sql_connection.close()\n",
    "\n",
    "query"
   ],
   "metadata": {
    "id": "FVBfDGVolqXG",
    "ExecuteTime": {
     "end_time": "2024-10-16T20:24:37.139038Z",
     "start_time": "2024-10-16T20:24:37.135450Z"
    }
   },
   "execution_count": 111,
   "outputs": [
    {
     "data": {
      "text/plain": "   Gender  order_count\n0    Male          499\n1  Female          501",
      "text/html": "<div>\n<style scoped>\n    .dataframe tbody tr th:only-of-type {\n        vertical-align: middle;\n    }\n\n    .dataframe tbody tr th {\n        vertical-align: top;\n    }\n\n    .dataframe thead th {\n        text-align: right;\n    }\n</style>\n<table border=\"1\" class=\"dataframe\">\n  <thead>\n    <tr style=\"text-align: right;\">\n      <th></th>\n      <th>Gender</th>\n      <th>order_count</th>\n    </tr>\n  </thead>\n  <tbody>\n    <tr>\n      <th>0</th>\n      <td>Male</td>\n      <td>499</td>\n    </tr>\n    <tr>\n      <th>1</th>\n      <td>Female</td>\n      <td>501</td>\n    </tr>\n  </tbody>\n</table>\n</div>"
     },
     "execution_count": 111,
     "metadata": {},
     "output_type": "execute_result"
    }
   ]
  },
  {
   "cell_type": "code",
   "source": [
    "#6\n",
    "sql_connection = sqlite3.connect(\"supermarket_sales\", timeout=10)\n",
    "\n",
    "query = pd.read_sql_query(\"\"\"\n",
    "SELECT b.Branch, p.ProductLine, COUNT(OrderID) AS order_count\n",
    "FROM Orders o\n",
    "JOIN Branches b on b.BranchID = o.BranchID\n",
    "JOIN Products p on p.ProductID = o.ProductID\n",
    "GROUP BY b.Branch, p.ProductLine\n",
    "ORDER BY b.Branch, order_count\n",
    "\"\"\", sql_connection)\n",
    "\n",
    "sql_connection.close()\n",
    "\n",
    "query"
   ],
   "metadata": {
    "id": "NqeB7IRalqRa",
    "ExecuteTime": {
     "end_time": "2024-10-16T20:24:37.187800Z",
     "start_time": "2024-10-16T20:24:37.183445Z"
    }
   },
   "execution_count": 112,
   "outputs": [
    {
     "data": {
      "text/plain": "   Branch             ProductLine  order_count\n0       A       Health and beauty           47\n1       A     Fashion accessories           51\n2       A      Food and beverages           58\n3       A       Sports and travel           59\n4       A  Electronic accessories           60\n5       A      Home and lifestyle           65\n6       B      Food and beverages           50\n7       B      Home and lifestyle           50\n8       B       Health and beauty           53\n9       B  Electronic accessories           55\n10      B     Fashion accessories           62\n11      B       Sports and travel           62\n12      C      Home and lifestyle           45\n13      C       Sports and travel           45\n14      C       Health and beauty           52\n15      C  Electronic accessories           55\n16      C     Fashion accessories           65\n17      C      Food and beverages           66",
      "text/html": "<div>\n<style scoped>\n    .dataframe tbody tr th:only-of-type {\n        vertical-align: middle;\n    }\n\n    .dataframe tbody tr th {\n        vertical-align: top;\n    }\n\n    .dataframe thead th {\n        text-align: right;\n    }\n</style>\n<table border=\"1\" class=\"dataframe\">\n  <thead>\n    <tr style=\"text-align: right;\">\n      <th></th>\n      <th>Branch</th>\n      <th>ProductLine</th>\n      <th>order_count</th>\n    </tr>\n  </thead>\n  <tbody>\n    <tr>\n      <th>0</th>\n      <td>A</td>\n      <td>Health and beauty</td>\n      <td>47</td>\n    </tr>\n    <tr>\n      <th>1</th>\n      <td>A</td>\n      <td>Fashion accessories</td>\n      <td>51</td>\n    </tr>\n    <tr>\n      <th>2</th>\n      <td>A</td>\n      <td>Food and beverages</td>\n      <td>58</td>\n    </tr>\n    <tr>\n      <th>3</th>\n      <td>A</td>\n      <td>Sports and travel</td>\n      <td>59</td>\n    </tr>\n    <tr>\n      <th>4</th>\n      <td>A</td>\n      <td>Electronic accessories</td>\n      <td>60</td>\n    </tr>\n    <tr>\n      <th>5</th>\n      <td>A</td>\n      <td>Home and lifestyle</td>\n      <td>65</td>\n    </tr>\n    <tr>\n      <th>6</th>\n      <td>B</td>\n      <td>Food and beverages</td>\n      <td>50</td>\n    </tr>\n    <tr>\n      <th>7</th>\n      <td>B</td>\n      <td>Home and lifestyle</td>\n      <td>50</td>\n    </tr>\n    <tr>\n      <th>8</th>\n      <td>B</td>\n      <td>Health and beauty</td>\n      <td>53</td>\n    </tr>\n    <tr>\n      <th>9</th>\n      <td>B</td>\n      <td>Electronic accessories</td>\n      <td>55</td>\n    </tr>\n    <tr>\n      <th>10</th>\n      <td>B</td>\n      <td>Fashion accessories</td>\n      <td>62</td>\n    </tr>\n    <tr>\n      <th>11</th>\n      <td>B</td>\n      <td>Sports and travel</td>\n      <td>62</td>\n    </tr>\n    <tr>\n      <th>12</th>\n      <td>C</td>\n      <td>Home and lifestyle</td>\n      <td>45</td>\n    </tr>\n    <tr>\n      <th>13</th>\n      <td>C</td>\n      <td>Sports and travel</td>\n      <td>45</td>\n    </tr>\n    <tr>\n      <th>14</th>\n      <td>C</td>\n      <td>Health and beauty</td>\n      <td>52</td>\n    </tr>\n    <tr>\n      <th>15</th>\n      <td>C</td>\n      <td>Electronic accessories</td>\n      <td>55</td>\n    </tr>\n    <tr>\n      <th>16</th>\n      <td>C</td>\n      <td>Fashion accessories</td>\n      <td>65</td>\n    </tr>\n    <tr>\n      <th>17</th>\n      <td>C</td>\n      <td>Food and beverages</td>\n      <td>66</td>\n    </tr>\n  </tbody>\n</table>\n</div>"
     },
     "execution_count": 112,
     "metadata": {},
     "output_type": "execute_result"
    }
   ]
  },
  {
   "cell_type": "code",
   "source": [
    "#7\n",
    "sql_connection = sqlite3.connect(\"supermarket_sales\", timeout=10)\n",
    "\n",
    "query = pd.read_sql_query(\"\"\"\n",
    "SELECT p.ProductLine, o.Quantity\n",
    "FROM Orders o \n",
    "JOIN Products p on p.ProductID = o.ProductID\n",
    "ORDER BY o.Quantity DESC\n",
    "LIMIT 1\n",
    "\"\"\", sql_connection)\n",
    "\n",
    "sql_connection.close()\n",
    "\n",
    "query"
   ],
   "metadata": {
    "id": "ECIox9ZylqKY",
    "ExecuteTime": {
     "end_time": "2024-10-16T20:24:37.248337Z",
     "start_time": "2024-10-16T20:24:37.244488Z"
    }
   },
   "execution_count": 113,
   "outputs": [
    {
     "data": {
      "text/plain": "          ProductLine  Quantity\n0  Home and lifestyle        10",
      "text/html": "<div>\n<style scoped>\n    .dataframe tbody tr th:only-of-type {\n        vertical-align: middle;\n    }\n\n    .dataframe tbody tr th {\n        vertical-align: top;\n    }\n\n    .dataframe thead th {\n        text-align: right;\n    }\n</style>\n<table border=\"1\" class=\"dataframe\">\n  <thead>\n    <tr style=\"text-align: right;\">\n      <th></th>\n      <th>ProductLine</th>\n      <th>Quantity</th>\n    </tr>\n  </thead>\n  <tbody>\n    <tr>\n      <th>0</th>\n      <td>Home and lifestyle</td>\n      <td>10</td>\n    </tr>\n  </tbody>\n</table>\n</div>"
     },
     "execution_count": 113,
     "metadata": {},
     "output_type": "execute_result"
    }
   ]
  },
  {
   "cell_type": "code",
   "source": [
    "#8\n",
    "sql_connection = sqlite3.connect(\"supermarket_sales\", timeout=10)\n",
    "\n",
    "query = pd.read_sql_query(\"\"\"\n",
    "SELECT OrderID, COUNT(*) AS count\n",
    "FROM Orders\n",
    "GROUP BY OrderID\n",
    "HAVING count > 1\n",
    "\"\"\", sql_connection)\n",
    "\n",
    "sql_connection.close()\n",
    "\n",
    "#To be able to make InvoiceId primaryKey in db, I dropped duplicates at reading part of csv.\n",
    "dataframe = pd.read_csv(\"Data/supermarket_sales.csv\")\n",
    "display(dataframe[dataframe.duplicated()])\n",
    "\n",
    "query"
   ],
   "metadata": {
    "id": "MUWbll4RluQg",
    "ExecuteTime": {
     "end_time": "2024-10-16T20:24:37.283210Z",
     "start_time": "2024-10-16T20:24:37.273530Z"
    }
   },
   "execution_count": 114,
   "outputs": [
    {
     "data": {
      "text/plain": "       Invoice ID Branch       City Customer type  Gender  \\\n1000  233-67-5758      C  Naypyitaw        Normal    Male   \n1001  303-96-2227      B   Mandalay        Normal  Female   \n1002  727-02-1313      A     Yangon        Member    Male   \n1003  347-56-2442      A     Yangon        Normal    Male   \n1004  849-09-3807      A     Yangon        Member  Female   \n\n             Product line  Unit price  Quantity   Tax 5%      Total  \\\n1000    Health and beauty       40.35         1   2.0175    42.3675   \n1001   Home and lifestyle       97.38        10  48.6900  1022.4900   \n1002   Food and beverages       31.84         1   1.5920    33.4320   \n1003   Home and lifestyle       65.82         1   3.2910    69.1110   \n1004  Fashion accessories       88.34         7  30.9190   649.2990   \n\n           Date   Time  Payment  \n1000  1/29/2019  13:46  Ewallet  \n1001   3/2/2019  17:16  Ewallet  \n1002   2/9/2019  13:22     Cash  \n1003  2/22/2019  15:33     Cash  \n1004  2/18/2019  13:28     Cash  ",
      "text/html": "<div>\n<style scoped>\n    .dataframe tbody tr th:only-of-type {\n        vertical-align: middle;\n    }\n\n    .dataframe tbody tr th {\n        vertical-align: top;\n    }\n\n    .dataframe thead th {\n        text-align: right;\n    }\n</style>\n<table border=\"1\" class=\"dataframe\">\n  <thead>\n    <tr style=\"text-align: right;\">\n      <th></th>\n      <th>Invoice ID</th>\n      <th>Branch</th>\n      <th>City</th>\n      <th>Customer type</th>\n      <th>Gender</th>\n      <th>Product line</th>\n      <th>Unit price</th>\n      <th>Quantity</th>\n      <th>Tax 5%</th>\n      <th>Total</th>\n      <th>Date</th>\n      <th>Time</th>\n      <th>Payment</th>\n    </tr>\n  </thead>\n  <tbody>\n    <tr>\n      <th>1000</th>\n      <td>233-67-5758</td>\n      <td>C</td>\n      <td>Naypyitaw</td>\n      <td>Normal</td>\n      <td>Male</td>\n      <td>Health and beauty</td>\n      <td>40.35</td>\n      <td>1</td>\n      <td>2.0175</td>\n      <td>42.3675</td>\n      <td>1/29/2019</td>\n      <td>13:46</td>\n      <td>Ewallet</td>\n    </tr>\n    <tr>\n      <th>1001</th>\n      <td>303-96-2227</td>\n      <td>B</td>\n      <td>Mandalay</td>\n      <td>Normal</td>\n      <td>Female</td>\n      <td>Home and lifestyle</td>\n      <td>97.38</td>\n      <td>10</td>\n      <td>48.6900</td>\n      <td>1022.4900</td>\n      <td>3/2/2019</td>\n      <td>17:16</td>\n      <td>Ewallet</td>\n    </tr>\n    <tr>\n      <th>1002</th>\n      <td>727-02-1313</td>\n      <td>A</td>\n      <td>Yangon</td>\n      <td>Member</td>\n      <td>Male</td>\n      <td>Food and beverages</td>\n      <td>31.84</td>\n      <td>1</td>\n      <td>1.5920</td>\n      <td>33.4320</td>\n      <td>2/9/2019</td>\n      <td>13:22</td>\n      <td>Cash</td>\n    </tr>\n    <tr>\n      <th>1003</th>\n      <td>347-56-2442</td>\n      <td>A</td>\n      <td>Yangon</td>\n      <td>Normal</td>\n      <td>Male</td>\n      <td>Home and lifestyle</td>\n      <td>65.82</td>\n      <td>1</td>\n      <td>3.2910</td>\n      <td>69.1110</td>\n      <td>2/22/2019</td>\n      <td>15:33</td>\n      <td>Cash</td>\n    </tr>\n    <tr>\n      <th>1004</th>\n      <td>849-09-3807</td>\n      <td>A</td>\n      <td>Yangon</td>\n      <td>Member</td>\n      <td>Female</td>\n      <td>Fashion accessories</td>\n      <td>88.34</td>\n      <td>7</td>\n      <td>30.9190</td>\n      <td>649.2990</td>\n      <td>2/18/2019</td>\n      <td>13:28</td>\n      <td>Cash</td>\n    </tr>\n  </tbody>\n</table>\n</div>"
     },
     "metadata": {},
     "output_type": "display_data"
    },
    {
     "data": {
      "text/plain": "Empty DataFrame\nColumns: [OrderID, count]\nIndex: []",
      "text/html": "<div>\n<style scoped>\n    .dataframe tbody tr th:only-of-type {\n        vertical-align: middle;\n    }\n\n    .dataframe tbody tr th {\n        vertical-align: top;\n    }\n\n    .dataframe thead th {\n        text-align: right;\n    }\n</style>\n<table border=\"1\" class=\"dataframe\">\n  <thead>\n    <tr style=\"text-align: right;\">\n      <th></th>\n      <th>OrderID</th>\n      <th>count</th>\n    </tr>\n  </thead>\n  <tbody>\n  </tbody>\n</table>\n</div>"
     },
     "execution_count": 114,
     "metadata": {},
     "output_type": "execute_result"
    }
   ]
  },
  {
   "cell_type": "markdown",
   "source": [
    "# SUBMIT FORMAT\n",
    "\n",
    "* **<-zip>**\n",
    "  - **studentID_name_surname_hw1.ipynb**\n"
   ],
   "metadata": {
    "id": "hlDZmDHMWBrk"
   }
  },
  {
   "cell_type": "markdown",
   "source": [
    "# PLAGIARISM\n",
    "\n",
    "All work on assignments must be done individually. You are encouraged to discuss the given assignments with your classmates, but these discussions should be carried out in an abstract way. That is, discussions related to a particular solution to a specific probem (either in actual code or in pseudocode) will not be tolerated. In short, turning in someone else’s work (including work available on the internet), in whole or in part, as your own will be considered as a violation of academic integrity. Please note that the former conditions also hold for the material attained using AI tools, including ChatGPT, GitHub Copilot, etc."
   ],
   "metadata": {
    "id": "fTXBu8Dql0Iv"
   }
  }
 ]
}
